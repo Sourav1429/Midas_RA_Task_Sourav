{
 "cells": [
  {
   "cell_type": "markdown",
   "metadata": {},
   "source": [
    "# Importing all the necessary files and modules. "
   ]
  },
  {
   "cell_type": "markdown",
   "metadata": {},
   "source": [
    "Our first step to CNN model starts with the listing of all the important modules.\n",
    "1) cv2: Used for importing images and converting it into numpy array\n",
    "2) Matplotlib: Since in Jupyter notebook we cannot use cv2.imshow() as it creates a small issue. Hence using imshow() in matplotlib.pyplot\n",
    "    for displaying the image\n",
    "3) tensorflow: to call the backend or suppoting Keras API.\n",
    "4) Dense, Dropout, Activation,Flatten: Creating the network used for desigining the CNN architecture\n",
    "5) OS: To locate files after downloading the file, from local machine\n",
    "6) tqdm: To give a professional loading info and look when the images are being loaded from local machine\n",
    "7) numpy: For reshaping and creating arrays for numerical calculation"
   ]
  },
  {
   "cell_type": "code",
   "execution_count": 1,
   "metadata": {},
   "outputs": [
    {
     "name": "stderr",
     "output_type": "stream",
     "text": [
      "D:\\anaconda\\lib\\site-packages\\tensorflow\\python\\framework\\dtypes.py:523: FutureWarning: Passing (type, 1) or '1type' as a synonym of type is deprecated; in a future version of numpy, it will be understood as (type, (1,)) / '(1,)type'.\n",
      "  _np_qint8 = np.dtype([(\"qint8\", np.int8, 1)])\n",
      "D:\\anaconda\\lib\\site-packages\\tensorflow\\python\\framework\\dtypes.py:524: FutureWarning: Passing (type, 1) or '1type' as a synonym of type is deprecated; in a future version of numpy, it will be understood as (type, (1,)) / '(1,)type'.\n",
      "  _np_quint8 = np.dtype([(\"quint8\", np.uint8, 1)])\n",
      "D:\\anaconda\\lib\\site-packages\\tensorflow\\python\\framework\\dtypes.py:525: FutureWarning: Passing (type, 1) or '1type' as a synonym of type is deprecated; in a future version of numpy, it will be understood as (type, (1,)) / '(1,)type'.\n",
      "  _np_qint16 = np.dtype([(\"qint16\", np.int16, 1)])\n",
      "D:\\anaconda\\lib\\site-packages\\tensorflow\\python\\framework\\dtypes.py:526: FutureWarning: Passing (type, 1) or '1type' as a synonym of type is deprecated; in a future version of numpy, it will be understood as (type, (1,)) / '(1,)type'.\n",
      "  _np_quint16 = np.dtype([(\"quint16\", np.uint16, 1)])\n",
      "D:\\anaconda\\lib\\site-packages\\tensorflow\\python\\framework\\dtypes.py:527: FutureWarning: Passing (type, 1) or '1type' as a synonym of type is deprecated; in a future version of numpy, it will be understood as (type, (1,)) / '(1,)type'.\n",
      "  _np_qint32 = np.dtype([(\"qint32\", np.int32, 1)])\n",
      "D:\\anaconda\\lib\\site-packages\\tensorflow\\python\\framework\\dtypes.py:532: FutureWarning: Passing (type, 1) or '1type' as a synonym of type is deprecated; in a future version of numpy, it will be understood as (type, (1,)) / '(1,)type'.\n",
      "  np_resource = np.dtype([(\"resource\", np.ubyte, 1)])\n",
      "Using TensorFlow backend.\n"
     ]
    }
   ],
   "source": [
    "import cv2\n",
    "import matplotlib.pyplot as plt\n",
    "from tensorflow import keras\n",
    "from keras.models import Sequential\n",
    "from keras.layers import Dense, Dropout, Activation, Flatten\n",
    "from keras.layers import Convolution2D,Conv2D, MaxPooling2D\n",
    "from keras.utils import np_utils\n",
    "import os\n",
    "from tqdm import tqdm\n",
    "import numpy as np"
   ]
  },
  {
   "cell_type": "markdown",
   "metadata": {},
   "source": [
    "# Next Step: Defining the path where the dataset is stored in local Machine"
   ]
  },
  {
   "cell_type": "code",
   "execution_count": 2,
   "metadata": {},
   "outputs": [],
   "source": [
    "path=\"D://datasets//IIIT_D//train\";#path where the dataset is downloaded in my machine\n",
    "fol=os.listdir(path)#list of files in the 'train' folder in the location D:\\datasets\\IIIT_D\\train"
   ]
  },
  {
   "cell_type": "markdown",
   "metadata": {},
   "source": [
    "# Start of Preprocessing"
   ]
  },
  {
   "cell_type": "markdown",
   "metadata": {},
   "source": [
    "Next steps include a) create a bag of symbols so that we can assign a unique number to each symbol as below\n",
    "b) Also define a one_hot() which will create a one hot vector. Although for now it creates a list of zeros to conquer the dimensionality\n",
    "issue faced during the training. But will be later converted into a numpy array.\n",
    "So the vector is of size 62(62 unique characters in the dataset.)"
   ]
  },
  {
   "cell_type": "code",
   "execution_count": 3,
   "metadata": {},
   "outputs": [],
   "source": [
    "X,y=list(),list();#define empty list for acquiring training and testing data\n",
    "size=len(fol);\n",
    "#next create a bag of symbols which will be a dictionary\n",
    "bag={0:'0',1:'1',2:'2',3:'3',4:'4',5:'5',6:'6',7:'7',8:'8',9:'9',10:'A',11:'B',12:'C',13:'D',14:'E',15:'F',16:'G',17:'H',\n",
    "    18:'I',19:'J',20:'K',21:'L',22:'M',23:'N',24:'O',25:'P',26:'Q',27:'R',28:'S',29:'T',30:'U',31:'V',32:'W',33:'X',34:'Y',\n",
    "    35:'Z',36:'a',37:'b',38:'c',39:'d',40:'e',41:'f',42:'g',43:'h',44:'i',45:'j',46:'k',47:'l',48:'m',\n",
    "     49:'n',50:'o',51:'p',52:'q',53:'r',54:'s',55:'t',56:'u',57:'v',58:'w',59:'x',60:'y',61:'z'};\n",
    "#define our one_hot vector\n",
    "def one_hot(val,size):\n",
    "    a=np.array([0]*size);\n",
    "    a[val]=1;\n",
    "    return a;"
   ]
  },
  {
   "cell_type": "markdown",
   "metadata": {},
   "source": [
    "# Next Step: Accessing the dataset from the local machine in X and y lists."
   ]
  },
  {
   "cell_type": "markdown",
   "metadata": {},
   "source": [
    "So first we create a list of all the files in the 'path' mentioned above. Also keep a track of the position of each file using a \n",
    "counter in form of the variable 'val'. Then the folders under the 'path' mentioned above are explored one by one which contains the pictures.\n",
    "Here only one thing to be noted which can change the full results is the order of the files must comply with the bag of symbols\n",
    "i.e. the first file namely Sample001 in the given dataset which is actually pictures of '0' written in handwritten must comply \n",
    "with the first symbol in our bag of symbol which is '0'."
   ]
  },
  {
   "cell_type": "code",
   "execution_count": 4,
   "metadata": {},
   "outputs": [
    {
     "name": "stderr",
     "output_type": "stream",
     "text": [
      "62it [00:45,  1.36it/s]\n"
     ]
    }
   ],
   "source": [
    "for val,i in tqdm(enumerate(fol)):\n",
    "    path_n=os.path.join(path,i);\n",
    "    for img_n in os.listdir(path_n):\n",
    "        img=cv2.imread(os.path.join(path_n,img_n),cv2.IMREAD_GRAYSCALE)/255#normalize by dividing by 255 for better results.\n",
    "        X.append((np.reshape(cv2.resize(img,(50,50)),(50,50,1))))#initially we obtained a 2d array. In order to fit it in our keras CNN model, we had to convert it into a 3d model. Also the image is downsized to avoid OOM (Out of Memory) exception\n",
    "        y.append(one_hot(val,size))#store our results by converting it into a one-hot vector. Here the enumerate () returning counter val palys a very important role."
   ]
  },
  {
   "cell_type": "markdown",
   "metadata": {},
   "source": [
    "# Splitting the dataset"
   ]
  },
  {
   "cell_type": "markdown",
   "metadata": {},
   "source": [
    "The data is splitted into training and cross validation sets. Cross validation size 15% of total data. It aids our results and gives a genuine boost\n",
    "in our accuracy"
   ]
  },
  {
   "cell_type": "code",
   "execution_count": 5,
   "metadata": {},
   "outputs": [],
   "source": [
    "from sklearn.model_selection import train_test_split\n",
    "X_train,X_val,y_train,y_val=train_test_split(X,y,test_size=0.15, random_state=42)\n",
    "X_train_arr=np.array(X_train)\n",
    "X_val_arr=np.array(X_val)\n",
    "y_train_arr=np.array(y_train)\n",
    "y_val_arr=np.array(y_val)\n",
    "_,h,w,d=X_train_arr.shape"
   ]
  },
  {
   "cell_type": "markdown",
   "metadata": {},
   "source": [
    "# Create CNN model the feed forward network"
   ]
  },
  {
   "cell_type": "markdown",
   "metadata": {},
   "source": [
    "All set and done with the processing. Lets now create a training CNN network. After lots of optimization I have narrowed it down \n",
    "to the below network. It is a sequential model Cosisting of 2 Convolution layer following which we have a MaxPooling layer to \n",
    "pull out the maximum value of each 2x2 kernel and use pass it to the next layer. To avoid plagiarism I have used my surname as the variable.\n",
    "Although some keywords were manditory to use and could not help there. Ok as we can in the summary below, it gives us a rough idea of the feed forward network.\n",
    "Trainable parameters mean the weights and bias values that are initially assumed to be random values and are to be optimized later during the subsequent epochs.\n",
    "The Keras model has taken care of the backpropagation training process for us."
   ]
  },
  {
   "cell_type": "code",
   "execution_count": 6,
   "metadata": {},
   "outputs": [],
   "source": [
    "ganguly = Sequential()\n",
    "ganguly.add(Conv2D(124, kernel_size=(3, 3), activation='relu', input_shape=(h,w,d)))\n",
    "ganguly.add(MaxPooling2D(pool_size=(2, 2)))\n",
    "ganguly.add(Conv2D(248, kernel_size=(3, 3), activation='relu'))\n",
    "ganguly.add(MaxPooling2D(pool_size=(2, 2)))\n",
    "ganguly.add(Conv2D(400, kernel_size=(3, 3), activation='relu'))\n",
    "ganguly.add(MaxPooling2D(pool_size=(2, 2)))\n",
    "ganguly.add(Flatten())\n",
    "ganguly.add(Dense(248, activation='relu'))\n",
    "ganguly.add(Dense(124, activation='relu'))\n",
    "ganguly.add(Dense(62, activation='softmax'))"
   ]
  },
  {
   "cell_type": "code",
   "execution_count": 7,
   "metadata": {},
   "outputs": [
    {
     "name": "stdout",
     "output_type": "stream",
     "text": [
      "_________________________________________________________________\n",
      "Layer (type)                 Output Shape              Param #   \n",
      "=================================================================\n",
      "conv2d_1 (Conv2D)            (None, 48, 48, 124)       1240      \n",
      "_________________________________________________________________\n",
      "max_pooling2d_1 (MaxPooling2 (None, 24, 24, 124)       0         \n",
      "_________________________________________________________________\n",
      "conv2d_2 (Conv2D)            (None, 22, 22, 248)       277016    \n",
      "_________________________________________________________________\n",
      "max_pooling2d_2 (MaxPooling2 (None, 11, 11, 248)       0         \n",
      "_________________________________________________________________\n",
      "conv2d_3 (Conv2D)            (None, 9, 9, 400)         893200    \n",
      "_________________________________________________________________\n",
      "max_pooling2d_3 (MaxPooling2 (None, 4, 4, 400)         0         \n",
      "_________________________________________________________________\n",
      "flatten_1 (Flatten)          (None, 6400)              0         \n",
      "_________________________________________________________________\n",
      "dense_1 (Dense)              (None, 248)               1587448   \n",
      "_________________________________________________________________\n",
      "dense_2 (Dense)              (None, 124)               30876     \n",
      "_________________________________________________________________\n",
      "dense_3 (Dense)              (None, 62)                7750      \n",
      "=================================================================\n",
      "Total params: 2,797,530\n",
      "Trainable params: 2,797,530\n",
      "Non-trainable params: 0\n",
      "_________________________________________________________________\n"
     ]
    }
   ],
   "source": [
    "ganguly.summary()"
   ]
  },
  {
   "cell_type": "markdown",
   "metadata": {},
   "source": [
    "# Training and compiling the network"
   ]
  },
  {
   "cell_type": "markdown",
   "metadata": {},
   "source": [
    "So our next step is just use the above network to train our value. Now to measure the loss we use cross_entropy and optimze it with Adam's optimization.\n",
    "Finally feed the value with traing data and expected results of the data and cross validating against X_val_arr and y_val_arr"
   ]
  },
  {
   "cell_type": "code",
   "execution_count": 8,
   "metadata": {},
   "outputs": [
    {
     "name": "stdout",
     "output_type": "stream",
     "text": [
      "Train on 2108 samples, validate on 372 samples\n",
      "Epoch 1/10\n",
      "2108/2108 [==============================] - ETA: 3:52 - loss: 4.1265 - acc: 0.0000e+0 - ETA: 1:16 - loss: 4.1714 - acc: 0.0000e+0 - ETA: 45s - loss: 4.1550 - acc: 0.0000e+0 - ETA: 31s - loss: 4.1536 - acc: 0.0000e+ - ETA: 24s - loss: 4.1480 - acc: 0.0035   - ETA: 19s - loss: 4.1447 - acc: 0.00 - ETA: 16s - loss: 4.1419 - acc: 0.00 - ETA: 13s - loss: 4.1403 - acc: 0.00 - ETA: 11s - loss: 4.1388 - acc: 0.00 - ETA: 10s - loss: 4.1378 - acc: 0.00 - ETA: 9s - loss: 4.1375 - acc: 0.0074 - ETA: 8s - loss: 4.1368 - acc: 0.008 - ETA: 7s - loss: 4.1361 - acc: 0.007 - ETA: 6s - loss: 4.1357 - acc: 0.006 - ETA: 5s - loss: 4.1352 - acc: 0.006 - ETA: 5s - loss: 4.1347 - acc: 0.006 - ETA: 4s - loss: 4.1343 - acc: 0.005 - ETA: 4s - loss: 4.1338 - acc: 0.007 - ETA: 3s - loss: 4.1335 - acc: 0.006 - ETA: 3s - loss: 4.1331 - acc: 0.007 - ETA: 3s - loss: 4.1326 - acc: 0.008 - ETA: 2s - loss: 4.1324 - acc: 0.008 - ETA: 2s - loss: 4.1320 - acc: 0.008 - ETA: 2s - loss: 4.1315 - acc: 0.010 - ETA: 1s - loss: 4.1313 - acc: 0.010 - ETA: 1s - loss: 4.1306 - acc: 0.011 - ETA: 1s - loss: 4.1305 - acc: 0.012 - ETA: 1s - loss: 4.1293 - acc: 0.012 - ETA: 0s - loss: 4.1282 - acc: 0.012 - ETA: 0s - loss: 4.1261 - acc: 0.012 - ETA: 0s - loss: 4.1222 - acc: 0.011 - ETA: 0s - loss: 4.1206 - acc: 0.011 - ETA: 0s - loss: 4.1174 - acc: 0.013 - 6s 3ms/step - loss: 4.1165 - acc: 0.0133 - val_loss: 4.0574 - val_acc: 0.0242\n",
      "Epoch 2/10\n",
      "2108/2108 [==============================] - ETA: 2s - loss: 4.0010 - acc: 0.0000e+0 - ETA: 2s - loss: 3.9763 - acc: 0.0208    - ETA: 2s - loss: 3.9524 - acc: 0.043 - ETA: 2s - loss: 3.9253 - acc: 0.049 - ETA: 2s - loss: 3.9274 - acc: 0.038 - ETA: 2s - loss: 3.8850 - acc: 0.042 - ETA: 1s - loss: 3.8506 - acc: 0.052 - ETA: 1s - loss: 3.8642 - acc: 0.052 - ETA: 1s - loss: 3.8476 - acc: 0.058 - ETA: 1s - loss: 3.8425 - acc: 0.060 - ETA: 1s - loss: 3.8266 - acc: 0.067 - ETA: 1s - loss: 3.8090 - acc: 0.067 - ETA: 1s - loss: 3.8004 - acc: 0.070 - ETA: 1s - loss: 3.7848 - acc: 0.070 - ETA: 1s - loss: 3.7689 - acc: 0.072 - ETA: 1s - loss: 3.7524 - acc: 0.080 - ETA: 1s - loss: 3.7299 - acc: 0.082 - ETA: 1s - loss: 3.7226 - acc: 0.080 - ETA: 1s - loss: 3.7127 - acc: 0.081 - ETA: 0s - loss: 3.6943 - acc: 0.088 - ETA: 0s - loss: 3.6676 - acc: 0.092 - ETA: 0s - loss: 3.6407 - acc: 0.098 - ETA: 0s - loss: 3.6315 - acc: 0.101 - ETA: 0s - loss: 3.6109 - acc: 0.109 - ETA: 0s - loss: 3.5954 - acc: 0.111 - ETA: 0s - loss: 3.5798 - acc: 0.113 - ETA: 0s - loss: 3.5677 - acc: 0.116 - ETA: 0s - loss: 3.5543 - acc: 0.118 - ETA: 0s - loss: 3.5403 - acc: 0.121 - ETA: 0s - loss: 3.5227 - acc: 0.123 - ETA: 0s - loss: 3.5001 - acc: 0.128 - ETA: 0s - loss: 3.4872 - acc: 0.131 - ETA: 0s - loss: 3.4780 - acc: 0.133 - 3s 1ms/step - loss: 3.4721 - acc: 0.1333 - val_loss: 2.9126 - val_acc: 0.2769\n",
      "Epoch 3/10\n",
      "2108/2108 [==============================] - ETA: 2s - loss: 2.6387 - acc: 0.375 - ETA: 2s - loss: 2.4696 - acc: 0.416 - ETA: 2s - loss: 2.5196 - acc: 0.387 - ETA: 2s - loss: 2.4404 - acc: 0.392 - ETA: 2s - loss: 2.3886 - acc: 0.413 - ETA: 1s - loss: 2.4779 - acc: 0.392 - ETA: 1s - loss: 2.4033 - acc: 0.394 - ETA: 1s - loss: 2.4296 - acc: 0.381 - ETA: 1s - loss: 2.3989 - acc: 0.382 - ETA: 1s - loss: 2.3619 - acc: 0.391 - ETA: 1s - loss: 2.3679 - acc: 0.386 - ETA: 1s - loss: 2.3421 - acc: 0.395 - ETA: 1s - loss: 2.3267 - acc: 0.406 - ETA: 1s - loss: 2.3123 - acc: 0.412 - ETA: 1s - loss: 2.3258 - acc: 0.407 - ETA: 1s - loss: 2.3208 - acc: 0.407 - ETA: 1s - loss: 2.3261 - acc: 0.402 - ETA: 1s - loss: 2.3087 - acc: 0.408 - ETA: 1s - loss: 2.3026 - acc: 0.411 - ETA: 0s - loss: 2.2870 - acc: 0.411 - ETA: 0s - loss: 2.2822 - acc: 0.410 - ETA: 0s - loss: 2.2780 - acc: 0.408 - ETA: 0s - loss: 2.2680 - acc: 0.408 - ETA: 0s - loss: 2.2456 - acc: 0.412 - ETA: 0s - loss: 2.2125 - acc: 0.418 - ETA: 0s - loss: 2.2034 - acc: 0.420 - ETA: 0s - loss: 2.2004 - acc: 0.423 - ETA: 0s - loss: 2.1946 - acc: 0.427 - ETA: 0s - loss: 2.1709 - acc: 0.431 - ETA: 0s - loss: 2.1636 - acc: 0.434 - ETA: 0s - loss: 2.1502 - acc: 0.439 - ETA: 0s - loss: 2.1456 - acc: 0.439 - ETA: 0s - loss: 2.1390 - acc: 0.441 - 3s 1ms/step - loss: 2.1351 - acc: 0.4417 - val_loss: 1.9383 - val_acc: 0.4758\n",
      "Epoch 4/10\n",
      "2108/2108 [==============================] - ETA: 2s - loss: 1.7339 - acc: 0.500 - ETA: 2s - loss: 1.5683 - acc: 0.500 - ETA: 2s - loss: 1.6675 - acc: 0.493 - ETA: 2s - loss: 1.5586 - acc: 0.535 - ETA: 2s - loss: 1.5548 - acc: 0.541 - ETA: 2s - loss: 1.5429 - acc: 0.545 - ETA: 1s - loss: 1.4927 - acc: 0.567 - ETA: 1s - loss: 1.5067 - acc: 0.568 - ETA: 1s - loss: 1.5289 - acc: 0.571 - ETA: 1s - loss: 1.5643 - acc: 0.569 - ETA: 1s - loss: 1.5374 - acc: 0.574 - ETA: 1s - loss: 1.5300 - acc: 0.570 - ETA: 1s - loss: 1.5168 - acc: 0.570 - ETA: 1s - loss: 1.5143 - acc: 0.570 - ETA: 1s - loss: 1.4670 - acc: 0.584 - ETA: 1s - loss: 1.4545 - acc: 0.587 - ETA: 1s - loss: 1.4534 - acc: 0.585 - ETA: 1s - loss: 1.4503 - acc: 0.585 - ETA: 1s - loss: 1.4446 - acc: 0.587 - ETA: 0s - loss: 1.4280 - acc: 0.591 - ETA: 0s - loss: 1.4116 - acc: 0.596 - ETA: 0s - loss: 1.4043 - acc: 0.600 - ETA: 0s - loss: 1.3952 - acc: 0.604 - ETA: 0s - loss: 1.3918 - acc: 0.603 - ETA: 0s - loss: 1.3818 - acc: 0.604 - ETA: 0s - loss: 1.3782 - acc: 0.604 - ETA: 0s - loss: 1.3660 - acc: 0.609 - ETA: 0s - loss: 1.3606 - acc: 0.610 - ETA: 0s - loss: 1.3511 - acc: 0.612 - ETA: 0s - loss: 1.3473 - acc: 0.613 - ETA: 0s - loss: 1.3546 - acc: 0.611 - ETA: 0s - loss: 1.3427 - acc: 0.616 - ETA: 0s - loss: 1.3269 - acc: 0.619 - 3s 1ms/step - loss: 1.3234 - acc: 0.6186 - val_loss: 1.6100 - val_acc: 0.5591\n",
      "Epoch 5/10\n",
      "2108/2108 [==============================] - ETA: 2s - loss: 1.3384 - acc: 0.625 - ETA: 2s - loss: 1.0468 - acc: 0.708 - ETA: 2s - loss: 0.9441 - acc: 0.743 - ETA: 2s - loss: 0.8766 - acc: 0.741 - ETA: 2s - loss: 0.8565 - acc: 0.750 - ETA: 1s - loss: 0.8849 - acc: 0.738 - ETA: 1s - loss: 0.8932 - acc: 0.730 - ETA: 1s - loss: 0.8622 - acc: 0.737 - ETA: 1s - loss: 0.8537 - acc: 0.739 - ETA: 1s - loss: 0.8468 - acc: 0.740 - ETA: 1s - loss: 0.8448 - acc: 0.741 - ETA: 1s - loss: 0.8387 - acc: 0.741 - ETA: 1s - loss: 0.8674 - acc: 0.738 - ETA: 1s - loss: 0.8707 - acc: 0.737 - ETA: 1s - loss: 0.8720 - acc: 0.739 - ETA: 1s - loss: 0.8570 - acc: 0.747 - ETA: 1s - loss: 0.8522 - acc: 0.743 - ETA: 1s - loss: 0.8493 - acc: 0.742 - ETA: 1s - loss: 0.8477 - acc: 0.744 - ETA: 0s - loss: 0.8527 - acc: 0.742 - ETA: 0s - loss: 0.8610 - acc: 0.737 - ETA: 0s - loss: 0.8541 - acc: 0.738 - ETA: 0s - loss: 0.8595 - acc: 0.738 - ETA: 0s - loss: 0.8492 - acc: 0.742 - ETA: 0s - loss: 0.8510 - acc: 0.743 - ETA: 0s - loss: 0.8502 - acc: 0.743 - ETA: 0s - loss: 0.8434 - acc: 0.746 - ETA: 0s - loss: 0.8449 - acc: 0.746 - ETA: 0s - loss: 0.8393 - acc: 0.748 - ETA: 0s - loss: 0.8431 - acc: 0.749 - ETA: 0s - loss: 0.8409 - acc: 0.751 - ETA: 0s - loss: 0.8364 - acc: 0.752 - ETA: 0s - loss: 0.8381 - acc: 0.752 - 3s 1ms/step - loss: 0.8424 - acc: 0.7509 - val_loss: 1.5607 - val_acc: 0.5941\n",
      "Epoch 6/10\n"
     ]
    },
    {
     "name": "stdout",
     "output_type": "stream",
     "text": [
      "2108/2108 [==============================] - ETA: 2s - loss: 0.7263 - acc: 0.718 - ETA: 2s - loss: 0.5414 - acc: 0.781 - ETA: 2s - loss: 0.4980 - acc: 0.806 - ETA: 2s - loss: 0.5202 - acc: 0.812 - ETA: 2s - loss: 0.5712 - acc: 0.809 - ETA: 2s - loss: 0.5778 - acc: 0.815 - ETA: 1s - loss: 0.5658 - acc: 0.817 - ETA: 1s - loss: 0.5777 - acc: 0.814 - ETA: 1s - loss: 0.5658 - acc: 0.818 - ETA: 1s - loss: 0.5635 - acc: 0.822 - ETA: 1s - loss: 0.5533 - acc: 0.825 - ETA: 1s - loss: 0.5525 - acc: 0.828 - ETA: 1s - loss: 0.5640 - acc: 0.822 - ETA: 1s - loss: 0.5617 - acc: 0.822 - ETA: 1s - loss: 0.5578 - acc: 0.820 - ETA: 1s - loss: 0.5570 - acc: 0.819 - ETA: 1s - loss: 0.5747 - acc: 0.814 - ETA: 1s - loss: 0.5755 - acc: 0.813 - ETA: 1s - loss: 0.5726 - acc: 0.812 - ETA: 0s - loss: 0.5671 - acc: 0.813 - ETA: 0s - loss: 0.5639 - acc: 0.816 - ETA: 0s - loss: 0.5796 - acc: 0.812 - ETA: 0s - loss: 0.5897 - acc: 0.809 - ETA: 0s - loss: 0.5931 - acc: 0.808 - ETA: 0s - loss: 0.5932 - acc: 0.808 - ETA: 0s - loss: 0.5969 - acc: 0.806 - ETA: 0s - loss: 0.5980 - acc: 0.807 - ETA: 0s - loss: 0.5976 - acc: 0.806 - ETA: 0s - loss: 0.5891 - acc: 0.810 - ETA: 0s - loss: 0.5870 - acc: 0.811 - ETA: 0s - loss: 0.5963 - acc: 0.807 - ETA: 0s - loss: 0.5960 - acc: 0.808 - ETA: 0s - loss: 0.5999 - acc: 0.806 - 3s 1ms/step - loss: 0.5976 - acc: 0.8065 - val_loss: 1.3670 - val_acc: 0.5941\n",
      "Epoch 7/10\n",
      "2108/2108 [==============================] - ETA: 2s - loss: 0.5520 - acc: 0.937 - ETA: 2s - loss: 0.4943 - acc: 0.885 - ETA: 2s - loss: 0.4885 - acc: 0.887 - ETA: 2s - loss: 0.4487 - acc: 0.892 - ETA: 2s - loss: 0.4424 - acc: 0.888 - ETA: 1s - loss: 0.4618 - acc: 0.880 - ETA: 1s - loss: 0.4345 - acc: 0.882 - ETA: 1s - loss: 0.4294 - acc: 0.877 - ETA: 1s - loss: 0.4106 - acc: 0.878 - ETA: 1s - loss: 0.3953 - acc: 0.883 - ETA: 1s - loss: 0.3801 - acc: 0.886 - ETA: 1s - loss: 0.3807 - acc: 0.885 - ETA: 1s - loss: 0.3783 - acc: 0.882 - ETA: 1s - loss: 0.3868 - acc: 0.879 - ETA: 1s - loss: 0.3740 - acc: 0.883 - ETA: 1s - loss: 0.3711 - acc: 0.886 - ETA: 1s - loss: 0.3732 - acc: 0.888 - ETA: 1s - loss: 0.3797 - acc: 0.887 - ETA: 1s - loss: 0.3857 - acc: 0.885 - ETA: 0s - loss: 0.3798 - acc: 0.887 - ETA: 0s - loss: 0.3825 - acc: 0.883 - ETA: 0s - loss: 0.3873 - acc: 0.881 - ETA: 0s - loss: 0.3981 - acc: 0.878 - ETA: 0s - loss: 0.3985 - acc: 0.878 - ETA: 0s - loss: 0.3958 - acc: 0.880 - ETA: 0s - loss: 0.3996 - acc: 0.878 - ETA: 0s - loss: 0.4020 - acc: 0.877 - ETA: 0s - loss: 0.3974 - acc: 0.879 - ETA: 0s - loss: 0.3932 - acc: 0.880 - ETA: 0s - loss: 0.3963 - acc: 0.878 - ETA: 0s - loss: 0.3961 - acc: 0.878 - ETA: 0s - loss: 0.3971 - acc: 0.878 - ETA: 0s - loss: 0.3970 - acc: 0.876 - 3s 1ms/step - loss: 0.3938 - acc: 0.8786 - val_loss: 1.2803 - val_acc: 0.6478\n",
      "Epoch 8/10\n",
      "2108/2108 [==============================] - ETA: 2s - loss: 0.2815 - acc: 0.968 - ETA: 2s - loss: 0.2789 - acc: 0.937 - ETA: 2s - loss: 0.2509 - acc: 0.937 - ETA: 2s - loss: 0.2717 - acc: 0.919 - ETA: 2s - loss: 0.2667 - acc: 0.916 - ETA: 1s - loss: 0.2631 - acc: 0.917 - ETA: 1s - loss: 0.2558 - acc: 0.920 - ETA: 1s - loss: 0.2479 - acc: 0.922 - ETA: 1s - loss: 0.2710 - acc: 0.913 - ETA: 1s - loss: 0.2803 - acc: 0.907 - ETA: 1s - loss: 0.2698 - acc: 0.912 - ETA: 1s - loss: 0.2672 - acc: 0.911 - ETA: 1s - loss: 0.2700 - acc: 0.911 - ETA: 1s - loss: 0.2647 - acc: 0.913 - ETA: 1s - loss: 0.2655 - acc: 0.914 - ETA: 1s - loss: 0.2601 - acc: 0.916 - ETA: 1s - loss: 0.2736 - acc: 0.911 - ETA: 1s - loss: 0.2702 - acc: 0.913 - ETA: 1s - loss: 0.2810 - acc: 0.907 - ETA: 0s - loss: 0.2776 - acc: 0.908 - ETA: 0s - loss: 0.2774 - acc: 0.910 - ETA: 0s - loss: 0.2719 - acc: 0.911 - ETA: 0s - loss: 0.2722 - acc: 0.910 - ETA: 0s - loss: 0.2698 - acc: 0.910 - ETA: 0s - loss: 0.2676 - acc: 0.912 - ETA: 0s - loss: 0.2719 - acc: 0.912 - ETA: 0s - loss: 0.2717 - acc: 0.911 - ETA: 0s - loss: 0.2705 - acc: 0.911 - ETA: 0s - loss: 0.2692 - acc: 0.912 - ETA: 0s - loss: 0.2662 - acc: 0.912 - ETA: 0s - loss: 0.2699 - acc: 0.911 - ETA: 0s - loss: 0.2718 - acc: 0.912 - ETA: 0s - loss: 0.2708 - acc: 0.911 - 3s 1ms/step - loss: 0.2762 - acc: 0.9099 - val_loss: 1.4543 - val_acc: 0.6613\n",
      "Epoch 9/10\n",
      "2108/2108 [==============================] - ETA: 2s - loss: 0.1438 - acc: 0.968 - ETA: 2s - loss: 0.2097 - acc: 0.947 - ETA: 2s - loss: 0.1697 - acc: 0.956 - ETA: 2s - loss: 0.1458 - acc: 0.959 - ETA: 2s - loss: 0.1387 - acc: 0.961 - ETA: 1s - loss: 0.1571 - acc: 0.954 - ETA: 1s - loss: 0.1466 - acc: 0.956 - ETA: 1s - loss: 0.1360 - acc: 0.960 - ETA: 1s - loss: 0.1457 - acc: 0.955 - ETA: 1s - loss: 0.1513 - acc: 0.952 - ETA: 1s - loss: 0.1565 - acc: 0.947 - ETA: 1s - loss: 0.1590 - acc: 0.945 - ETA: 1s - loss: 0.1571 - acc: 0.946 - ETA: 1s - loss: 0.1581 - acc: 0.944 - ETA: 1s - loss: 0.1627 - acc: 0.942 - ETA: 1s - loss: 0.1617 - acc: 0.943 - ETA: 1s - loss: 0.1665 - acc: 0.942 - ETA: 1s - loss: 0.1695 - acc: 0.938 - ETA: 1s - loss: 0.1679 - acc: 0.940 - ETA: 0s - loss: 0.1644 - acc: 0.941 - ETA: 0s - loss: 0.1711 - acc: 0.941 - ETA: 0s - loss: 0.1698 - acc: 0.942 - ETA: 0s - loss: 0.1690 - acc: 0.942 - ETA: 0s - loss: 0.1678 - acc: 0.942 - ETA: 0s - loss: 0.1686 - acc: 0.943 - ETA: 0s - loss: 0.1713 - acc: 0.941 - ETA: 0s - loss: 0.1706 - acc: 0.941 - ETA: 0s - loss: 0.1771 - acc: 0.938 - ETA: 0s - loss: 0.1820 - acc: 0.937 - ETA: 0s - loss: 0.1797 - acc: 0.939 - ETA: 0s - loss: 0.1888 - acc: 0.937 - ETA: 0s - loss: 0.1949 - acc: 0.933 - ETA: 0s - loss: 0.1962 - acc: 0.932 - 3s 1ms/step - loss: 0.1955 - acc: 0.9326 - val_loss: 1.7296 - val_acc: 0.6263\n",
      "Epoch 10/10\n",
      "2108/2108 [==============================] - ETA: 2s - loss: 0.2894 - acc: 0.843 - ETA: 2s - loss: 0.1987 - acc: 0.916 - ETA: 2s - loss: 0.1882 - acc: 0.937 - ETA: 2s - loss: 0.1776 - acc: 0.942 - ETA: 2s - loss: 0.1652 - acc: 0.944 - ETA: 2s - loss: 0.1632 - acc: 0.946 - ETA: 1s - loss: 0.1768 - acc: 0.944 - ETA: 1s - loss: 0.1921 - acc: 0.945 - ETA: 1s - loss: 0.1929 - acc: 0.941 - ETA: 1s - loss: 0.1887 - acc: 0.942 - ETA: 1s - loss: 0.1808 - acc: 0.946 - ETA: 1s - loss: 0.1787 - acc: 0.947 - ETA: 1s - loss: 0.1841 - acc: 0.945 - ETA: 1s - loss: 0.1787 - acc: 0.945 - ETA: 1s - loss: 0.1850 - acc: 0.944 - ETA: 1s - loss: 0.1787 - acc: 0.945 - ETA: 1s - loss: 0.1870 - acc: 0.944 - ETA: 1s - loss: 0.1851 - acc: 0.943 - ETA: 1s - loss: 0.1813 - acc: 0.945 - ETA: 0s - loss: 0.1811 - acc: 0.946 - ETA: 0s - loss: 0.1783 - acc: 0.947 - ETA: 0s - loss: 0.1852 - acc: 0.944 - ETA: 0s - loss: 0.1816 - acc: 0.945 - ETA: 0s - loss: 0.1763 - acc: 0.946 - ETA: 0s - loss: 0.1743 - acc: 0.948 - ETA: 0s - loss: 0.1760 - acc: 0.948 - ETA: 0s - loss: 0.1767 - acc: 0.949 - ETA: 0s - loss: 0.1754 - acc: 0.950 - ETA: 0s - loss: 0.1732 - acc: 0.950 - ETA: 0s - loss: 0.1706 - acc: 0.951 - ETA: 0s - loss: 0.1727 - acc: 0.949 - ETA: 0s - loss: 0.1755 - acc: 0.946 - ETA: 0s - loss: 0.1789 - acc: 0.944 - 3s 1ms/step - loss: 0.1776 - acc: 0.9454 - val_loss: 1.4116 - val_acc: 0.6855\n",
      "{'val_loss': [4.057380368632655, 2.912596143702025, 1.9382648083471483, 1.6099982594930997, 1.5606620786010579, 1.3670131153957819, 1.2803347379930559, 1.4542515415658233, 1.7296209393009063, 1.4115858481776329], 'val_acc': [0.02419354842715366, 0.27688171978919734, 0.47580645161290325, 0.5591397843053264, 0.5940860215053764, 0.5940860215053764, 0.6478494610837711, 0.6612903212988248, 0.6263440853805953, 0.6854838709677419], 'loss': [4.116486032728452, 3.4721110595471494, 2.1351470954051734, 1.3234050959292127, 0.8424490767140542, 0.59761148289666, 0.393755384680216, 0.2761957452012194, 0.195477035879184, 0.17760162008837913], 'acc': [0.013282732447817837, 0.1333017078647125, 0.4416508537202904, 0.6185958257662504, 0.7509487664903137, 0.8064516132425312, 0.8785578747628083, 0.9098671724493183, 0.9326375708181899, 0.9454459203036053]}\n"
     ]
    }
   ],
   "source": [
    "ganguly.compile(loss='categorical_crossentropy',\n",
    "              optimizer='adam',\n",
    "              metrics=['accuracy'])\n",
    "feeds=ganguly.fit(x=X_train_arr,y=y_train_arr,epochs=10,validation_data=(X_val_arr,y_val_arr))\n",
    "print(feeds.history)"
   ]
  },
  {
   "cell_type": "code",
   "execution_count": 9,
   "metadata": {},
   "outputs": [
    {
     "name": "stdout",
     "output_type": "stream",
     "text": [
      "Final accuracy on the training data is: 0.9454459203036053\n",
      "Cross_Validating accuracy is: 0.6854838709677419\n"
     ]
    }
   ],
   "source": [
    "print(\"Final accuracy on the training data is:\",feeds.history['acc'][-1]);\n",
    "print(\"Cross_Validating accuracy is:\",feeds.history['val_acc'][-1]);"
   ]
  },
  {
   "cell_type": "markdown",
   "metadata": {},
   "source": [
    "# Testing with some image"
   ]
  },
  {
   "cell_type": "markdown",
   "metadata": {},
   "source": [
    "After we have seen the training accuracy and validation accuracy, we are confident enough to test our output. So I am using an image from our \n",
    "given dataset to check whether it is identified correct. Now since we have trained the model to return a vector. Hence here also the prediction will actually be a vector.\n",
    "We need to find the maximum probability lies on which position. The index of that position is the predicted result. And we can obtain the symbol using the bag of symbol and this index."
   ]
  },
  {
   "cell_type": "code",
   "execution_count": 10,
   "metadata": {},
   "outputs": [
    {
     "data": {
      "text/plain": [
       "<matplotlib.image.AxesImage at 0x1d209675940>"
      ]
     },
     "execution_count": 10,
     "metadata": {},
     "output_type": "execute_result"
    },
    {
     "data": {
      "image/png": "[encoded data removed]",
      "text/plain": [
       "<Figure size 432x288 with 1 Axes>"
      ]
     },
     "metadata": {
      "needs_background": "light"
     },
     "output_type": "display_data"
    }
   ],
   "source": [
    "img=cv2.imread(\"D://datasets//IIIT_D//train//Sample005//img005-001.png\",cv2.IMREAD_GRAYSCALE)/255\n",
    "img1=np.reshape((cv2.resize(img,(50,50))),(50,50,1))\n",
    "plt.imshow(img,cmap=plt.cm.binary)"
   ]
  },
  {
   "cell_type": "code",
   "execution_count": 11,
   "metadata": {},
   "outputs": [
    {
     "name": "stdout",
     "output_type": "stream",
     "text": [
      "4 with accuracy of 0.998936\n"
     ]
    }
   ],
   "source": [
    "predict=ganguly.predict(np.array([img1]))[0]\n",
    "acc=max(predict)\n",
    "val=np.argmax(predict)\n",
    "print(bag[val],\"with accuracy of\",acc)"
   ]
  },
  {
   "cell_type": "code",
   "execution_count": 15,
   "metadata": {},
   "outputs": [
    {
     "data": {
      "text/plain": [
       "<matplotlib.image.AxesImage at 0x21d62227c88>"
      ]
     },
     "execution_count": 15,
     "metadata": {},
     "output_type": "execute_result"
    },
    {
     "data": {
      "image/png": "[encoded data removed]",
      "text/plain": [
       "<Figure size 432x288 with 1 Axes>"
      ]
     },
     "metadata": {
      "needs_background": "light"
     },
     "output_type": "display_data"
    }
   ],
   "source": [
    "img=cv2.imread(\"D://datasets//IIIT_D//test//Sample001//img001-005.png\",cv2.IMREAD_GRAYSCALE)/255\n",
    "img1=np.reshape((cv2.resize(img,(50,50))),(50,50,1))\n",
    "plt.imshow(img,cmap=plt.cm.binary)"
   ]
  },
  {
   "cell_type": "code",
   "execution_count": 16,
   "metadata": {},
   "outputs": [
    {
     "name": "stdout",
     "output_type": "stream",
     "text": [
      "0 with accuracy of 0.99116874\n"
     ]
    }
   ],
   "source": [
    "predict=ganguly.predict(np.array([img1]))[0]\n",
    "acc=max(predict)\n",
    "val=np.argmax(predict)\n",
    "print(bag[val],\"with accuracy of\",acc)"
   ]
  },
  {
   "cell_type": "code",
   "execution_count": 14,
   "metadata": {},
   "outputs": [
    {
     "data": {
      "text/plain": [
       "<matplotlib.image.AxesImage at 0x1d260af2a58>"
      ]
     },
     "execution_count": 14,
     "metadata": {},
     "output_type": "execute_result"
    },
    {
     "data": {
      "image/png": "[encoded data removed]",
      "text/plain": [
       "<Figure size 432x288 with 1 Axes>"
      ]
     },
     "metadata": {
      "needs_background": "light"
     },
     "output_type": "display_data"
    }
   ],
   "source": [
    "img=cv2.imread(\"D://datasets//IIIT_D//train//Sample019//img019-028.png\",cv2.IMREAD_GRAYSCALE)/255\n",
    "img1=np.reshape((cv2.resize(img,(50,50))),(50,50,1))\n",
    "plt.imshow(img,cmap=plt.cm.binary)"
   ]
  },
  {
   "cell_type": "code",
   "execution_count": 15,
   "metadata": {},
   "outputs": [
    {
     "name": "stdout",
     "output_type": "stream",
     "text": [
      "I with accuracy of 0.9845489\n"
     ]
    }
   ],
   "source": [
    "predict=ganguly.predict(np.array([img1]))[0]\n",
    "acc=max(predict)\n",
    "val=np.argmax(predict)\n",
    "print(bag[val],\"with accuracy of\",acc)"
   ]
  },
  {
   "cell_type": "code",
   "execution_count": 16,
   "metadata": {},
   "outputs": [
    {
     "data": {
      "text/plain": [
       "<matplotlib.image.AxesImage at 0x1d260b56b38>"
      ]
     },
     "execution_count": 16,
     "metadata": {},
     "output_type": "execute_result"
    },
    {
     "data": {
      "image/png": "[encoded data removed]",
      "text/plain": [
       "<Figure size 432x288 with 1 Axes>"
      ]
     },
     "metadata": {
      "needs_background": "light"
     },
     "output_type": "display_data"
    }
   ],
   "source": [
    "img=cv2.imread(\"D://datasets//IIIT_D//train//Sample058//img058-008.png\",cv2.IMREAD_GRAYSCALE)/255\n",
    "img1=np.reshape((cv2.resize(img,(50,50))),(50,50,1))\n",
    "plt.imshow(img,cmap=plt.cm.binary)"
   ]
  },
  {
   "cell_type": "code",
   "execution_count": 17,
   "metadata": {},
   "outputs": [
    {
     "name": "stdout",
     "output_type": "stream",
     "text": [
      "v with accuracy of 0.94126296\n"
     ]
    }
   ],
   "source": [
    "predict=ganguly.predict(np.array([img1]))[0]\n",
    "acc=max(predict)\n",
    "val=np.argmax(predict)\n",
    "print(bag[val],\"with accuracy of\",acc)"
   ]
  },
  {
   "cell_type": "code",
   "execution_count": 18,
   "metadata": {},
   "outputs": [],
   "source": [
    "ganguly.save('IIIT_D_ganguly_subpart_a.h5')"
   ]
  },
  {
   "cell_type": "code",
   "execution_count": 20,
   "metadata": {},
   "outputs": [
    {
     "name": "stderr",
     "output_type": "stream",
     "text": [
      "62it [00:37,  1.65it/s]\n"
     ]
    }
   ],
   "source": [
    "path_test=\"D://datasets//IIIT_D//test\"\n",
    "fol=os.listdir(path_test)\n",
    "corr=0;length=0;\n",
    "for val,i in tqdm(enumerate(fol)):\n",
    "    path_n=os.path.join(path,i);\n",
    "    for img_n in os.listdir(path_n):\n",
    "        length+=1;\n",
    "        img=cv2.imread(os.path.join(path_n,img_n),cv2.IMREAD_GRAYSCALE)/255#normalize by dividing by 255 for better results.\n",
    "        img1=np.reshape((cv2.resize(img,(50,50))),(50,50,1))\n",
    "        predict=ganguly.predict(np.array([img1]))[0]\n",
    "        acc=max(predict)\n",
    "        value=np.argmax(predict)\n",
    "        if(bag[val]==bag[value]):\n",
    "            corr+=1;"
   ]
  },
  {
   "cell_type": "code",
   "execution_count": 21,
   "metadata": {},
   "outputs": [
    {
     "name": "stdout",
     "output_type": "stream",
     "text": [
      "Accuracy: 0.9310483870967742\n"
     ]
    }
   ],
   "source": [
    "print(\"Accuracy:\",corr/length)"
   ]
  }
 ],
 "metadata": {
  "kernelspec": {
   "display_name": "Python 3",
   "language": "python",
   "name": "python3"
  },
  "language_info": {
   "codemirror_mode": {
    "name": "ipython",
    "version": 3
   },
   "file_extension": ".py",
   "mimetype": "text/x-python",
   "name": "python",
   "nbconvert_exporter": "python",
   "pygments_lexer": "ipython3",
   "version": "3.6.8"
  }
 },
 "nbformat": 4,
 "nbformat_minor": 2
}
