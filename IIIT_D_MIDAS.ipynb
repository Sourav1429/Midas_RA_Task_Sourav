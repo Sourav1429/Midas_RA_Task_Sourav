{
 "cells": [
  {
   "cell_type": "code",
   "execution_count": 7,
   "metadata": {},
   "outputs": [],
   "source": [
    "import cv2\n",
    "import matplotlib.pyplot as plt\n",
    "from tensorflow import keras\n",
    "from keras.models import Sequential\n",
    "from keras.layers import Dense, Dropout, Activation, Flatten\n",
    "from keras.layers import Convolution2D,Conv2D, MaxPooling2D\n",
    "from keras.utils import np_utils\n",
    "import os\n",
    "from tqdm import tqdm\n",
    "import numpy as np"
   ]
  },
  {
   "cell_type": "code",
   "execution_count": 2,
   "metadata": {},
   "outputs": [],
   "source": [
    "path=\"D://datasets//IIIT_D//train\";\n",
    "fol=os.listdir(path)"
   ]
  },
  {
   "cell_type": "code",
   "execution_count": 44,
   "metadata": {},
   "outputs": [],
   "source": [
    "X,y=list(),list();\n",
    "size=len(fol);\n",
    "bag={0:'0',1:'1',2:'2',3:'3',4:'4',5:'5',6:'6',7:'7',8:'8',9:'9',10:'A',11:'B',12:'C',13:'D',14:'E',15:'F',16:'G',17:'H',\n",
    "    18:'I',19:'J',20:'K',21:'L',22:'M',23:'N',24:'O',25:'P',26:'Q',27:'R',28:'S',29:'T',30:'U',31:'V',32:'W',33:'X',34:'Y',\n",
    "    35:'Z',36:'a',37:'b',38:'c',39:'d',40:'e',41:'f',42:'g',43:'h',44:'i',45:'j',46:'k',47:'l',48:'m',\n",
    "     49:'n',50:'o',51:'p',52:'q',53:'r',54:'s',55:'t',56:'u',57:'v',58:'w',59:'x',60:'y',61:'z'};\n",
    "def one_hot(val,size):\n",
    "    a=np.array([0]*size);\n",
    "    a[val]=1;\n",
    "    return a;"
   ]
  },
  {
   "cell_type": "code",
   "execution_count": 65,
   "metadata": {},
   "outputs": [
    {
     "data": {
      "text/plain": [
       "<matplotlib.image.AxesImage at 0x21c42d99898>"
      ]
     },
     "execution_count": 65,
     "metadata": {},
     "output_type": "execute_result"
    },
    {
     "data": {
      "image/png": "[encoded data removed]",
      "text/plain": [
       "<Figure size 432x288 with 1 Axes>"
      ]
     },
     "metadata": {
      "needs_background": "light"
     },
     "output_type": "display_data"
    }
   ],
   "source": [
    "img=cv2.imread(\"D://datasets//IIIT_D//train//Sample005//img005-001.png\",cv2.IMREAD_GRAYSCALE)/255\n",
    "img1=np.reshape((cv2.resize(img,(50,50))),(50,50,1))\n",
    "plt.imshow(img,cmap=plt.cm.binary)"
   ]
  },
  {
   "cell_type": "code",
   "execution_count": 94,
   "metadata": {
    "collapsed": true
   },
   "outputs": [
    {
     "data": {
      "text/plain": [
       "<matplotlib.image.AxesImage at 0x1ef001e26d8>"
      ]
     },
     "execution_count": 94,
     "metadata": {},
     "output_type": "execute_result"
    },
    {
     "data": {
      "image/png": "[encoded data removed]",
      "text/plain": [
       "<Figure size 432x288 with 1 Axes>"
      ]
     },
     "metadata": {
      "needs_background": "light"
     },
     "output_type": "display_data"
    }
   ],
   "source": [
    "plt.imshow(img1[0])"
   ]
  },
  {
   "cell_type": "code",
   "execution_count": 45,
   "metadata": {},
   "outputs": [
    {
     "name": "stderr",
     "output_type": "stream",
     "text": [
      "62it [00:30,  2.09it/s]\n"
     ]
    }
   ],
   "source": [
    "for val,i in tqdm(enumerate(fol)):\n",
    "    path_n=os.path.join(path,i);\n",
    "    for img_n in os.listdir(path_n):\n",
    "        img=cv2.imread(os.path.join(path_n,img_n),cv2.IMREAD_GRAYSCALE)/255\n",
    "        X.append((np.reshape(cv2.resize(img,(50,50)),(50,50,1))))\n",
    "        y.append(one_hot(val,size))"
   ]
  },
  {
   "cell_type": "code",
   "execution_count": 46,
   "metadata": {},
   "outputs": [
    {
     "data": {
      "text/plain": [
       "array([[1.],\n",
       "       [1.],\n",
       "       [1.],\n",
       "       [1.],\n",
       "       [1.],\n",
       "       [1.],\n",
       "       [1.],\n",
       "       [1.],\n",
       "       [1.],\n",
       "       [1.],\n",
       "       [1.],\n",
       "       [1.],\n",
       "       [1.],\n",
       "       [1.],\n",
       "       [1.],\n",
       "       [1.],\n",
       "       [1.],\n",
       "       [1.],\n",
       "       [1.],\n",
       "       [1.],\n",
       "       [1.],\n",
       "       [1.],\n",
       "       [1.],\n",
       "       [1.],\n",
       "       [1.],\n",
       "       [1.],\n",
       "       [1.],\n",
       "       [1.],\n",
       "       [1.],\n",
       "       [1.],\n",
       "       [1.],\n",
       "       [1.],\n",
       "       [1.],\n",
       "       [1.],\n",
       "       [1.],\n",
       "       [1.],\n",
       "       [1.],\n",
       "       [1.],\n",
       "       [1.],\n",
       "       [1.],\n",
       "       [1.],\n",
       "       [1.],\n",
       "       [1.],\n",
       "       [1.],\n",
       "       [1.],\n",
       "       [1.],\n",
       "       [1.],\n",
       "       [1.],\n",
       "       [1.],\n",
       "       [1.]])"
      ]
     },
     "execution_count": 46,
     "metadata": {},
     "output_type": "execute_result"
    }
   ],
   "source": [
    "X[100][0]"
   ]
  },
  {
   "cell_type": "code",
   "execution_count": 47,
   "metadata": {},
   "outputs": [],
   "source": [
    "from sklearn.model_selection import train_test_split\n",
    "X_train,X_val,y_train,y_val=train_test_split(X,y,test_size=0.15, random_state=42)\n",
    "X_train_arr=np.array(X_train)\n",
    "X_val_arr=np.array(X_val)\n",
    "y_train_arr=np.array(y_train)\n",
    "y_val_arr=np.array(y_val)\n",
    "_,h,w,d=X_train_arr.shape"
   ]
  },
  {
   "cell_type": "code",
   "execution_count": 24,
   "metadata": {},
   "outputs": [],
   "source": [
    "X_train_arr_new=np.reshape(X_train_arr,(1860,50,50))"
   ]
  },
  {
   "cell_type": "code",
   "execution_count": 48,
   "metadata": {},
   "outputs": [
    {
     "name": "stderr",
     "output_type": "stream",
     "text": [
      "D:\\anaconda\\lib\\site-packages\\ipykernel_launcher.py:2: UserWarning: Update your `Conv2D` call to the Keras 2 API: `Conv2D(248, kernel_size=5, activation=\"relu\", input_shape=(50, 50, 1..., padding=\"same\")`\n",
      "  \n",
      "D:\\anaconda\\lib\\site-packages\\ipykernel_launcher.py:4: UserWarning: Update your `Conv2D` call to the Keras 2 API: `Conv2D(62, kernel_size=3, activation=\"relu\", padding=\"same\")`\n",
      "  after removing the cwd from sys.path.\n"
     ]
    },
    {
     "name": "stdout",
     "output_type": "stream",
     "text": [
      "_________________________________________________________________\n",
      "Layer (type)                 Output Shape              Param #   \n",
      "=================================================================\n",
      "conv2d_26 (Conv2D)           (None, 50, 50, 248)       6448      \n",
      "_________________________________________________________________\n",
      "max_pooling2d_26 (MaxPooling (None, 25, 25, 248)       0         \n",
      "_________________________________________________________________\n",
      "conv2d_27 (Conv2D)           (None, 25, 25, 62)        138446    \n",
      "_________________________________________________________________\n",
      "max_pooling2d_27 (MaxPooling (None, 12, 12, 62)        0         \n",
      "_________________________________________________________________\n",
      "flatten_11 (Flatten)         (None, 8928)              0         \n",
      "_________________________________________________________________\n",
      "dense_15 (Dense)             (None, 62)                553598    \n",
      "=================================================================\n",
      "Total params: 698,492\n",
      "Trainable params: 698,492\n",
      "Non-trainable params: 0\n",
      "_________________________________________________________________\n"
     ]
    }
   ],
   "source": [
    "model = Sequential()\n",
    "model.add(Conv2D(248, kernel_size=5, activation='relu',border_mode='same', input_shape=(h,w,d)))\n",
    "model.add(MaxPooling2D(pool_size=(2,2)))\n",
    "model.add(Conv2D(62, kernel_size=3, activation='relu',border_mode='same'))\n",
    "model.add(MaxPooling2D(pool_size=(2,2)))\n",
    "model.add(Flatten())\n",
    "model.add(Dense(62, activation='softmax'))\n",
    "model.summary()"
   ]
  },
  {
   "cell_type": "raw",
   "metadata": {},
   "source": [
    "# model=Sequential()\n",
    "model.add(Convolution2D(62, (5, 5), activation='relu',border_mode='same',input_shape=(h,w,d)))\n",
    "model.add(MaxPooling2D(pool_size=(2,2)))\n",
    "model.add(Convolution2D(124, (5, 5), activation='relu',border_mode='same'))\n",
    "model.add(MaxPooling2D(pool_size=(2,2)))\n",
    "'''model.add(Convolution2D(124, (5, 5), activation='relu',border_mode='same'))\n",
    "model.add(MaxPooling2D(pool_size=(2,2)))'''\n",
    "model.add(Convolution2D(62, (5, 5), activation='relu',border_mode='same'))\n",
    "model.add(MaxPooling2D(pool_size=(2,2)))\n",
    "model.add(Dropout(0.2))\n",
    "model.add(Flatten())\n",
    "'''model.add(Dense(1024, activation='relu'))\n",
    "model.add(Dropout(0.5))'''\n",
    "model.add(Dense(62, activation='softmax'))\n",
    "model.summary()"
   ]
  },
  {
   "cell_type": "raw",
   "metadata": {},
   "source": [
    "# Create the model\n",
    "model = Sequential()\n",
    "model.add(Conv2D(124, kernel_size=(3, 3), activation='relu', input_shape=(h,w,d)))\n",
    "model.add(MaxPooling2D(pool_size=(2, 2)))\n",
    "model.add(Conv2D(248, kernel_size=(3, 3), activation='relu'))\n",
    "model.add(MaxPooling2D(pool_size=(2, 2)))\n",
    "model.add(Conv2D(400, kernel_size=(3, 3), activation='relu'))\n",
    "model.add(MaxPooling2D(pool_size=(2, 2)))\n",
    "model.add(Flatten())\n",
    "model.add(Dense(248, activation='relu'))\n",
    "model.add(Dense(124, activation='relu'))\n",
    "model.add(Dense(62, activation='softmax'))"
   ]
  },
  {
   "cell_type": "code",
   "execution_count": 49,
   "metadata": {},
   "outputs": [
    {
     "name": "stdout",
     "output_type": "stream",
     "text": [
      "Train on 2108 samples, validate on 372 samples\n",
      "Epoch 1/10\n",
      "2108/2108 [==============================] - ETA: 1:00 - loss: 4.1432 - acc: 0.0000e+0 - ETA: 20s - loss: 4.1829 - acc: 0.0104    - ETA: 13s - loss: 4.1654 - acc: 0.01 - ETA: 9s - loss: 4.1555 - acc: 0.0179 - ETA: 7s - loss: 4.1515 - acc: 0.017 - ETA: 6s - loss: 4.1489 - acc: 0.014 - ETA: 5s - loss: 4.1448 - acc: 0.012 - ETA: 4s - loss: 4.1434 - acc: 0.010 - ETA: 4s - loss: 4.1399 - acc: 0.014 - ETA: 3s - loss: 4.1387 - acc: 0.018 - ETA: 3s - loss: 4.1365 - acc: 0.019 - ETA: 3s - loss: 4.1338 - acc: 0.021 - ETA: 2s - loss: 4.1333 - acc: 0.021 - ETA: 2s - loss: 4.1324 - acc: 0.019 - ETA: 2s - loss: 4.1308 - acc: 0.022 - ETA: 2s - loss: 4.1290 - acc: 0.024 - ETA: 1s - loss: 4.1278 - acc: 0.022 - ETA: 1s - loss: 4.1254 - acc: 0.025 - ETA: 1s - loss: 4.1217 - acc: 0.028 - ETA: 1s - loss: 4.1177 - acc: 0.028 - ETA: 1s - loss: 4.1120 - acc: 0.029 - ETA: 1s - loss: 4.1074 - acc: 0.028 - ETA: 1s - loss: 4.1064 - acc: 0.027 - ETA: 0s - loss: 4.1034 - acc: 0.027 - ETA: 0s - loss: 4.0971 - acc: 0.028 - ETA: 0s - loss: 4.0942 - acc: 0.028 - ETA: 0s - loss: 4.0846 - acc: 0.030 - ETA: 0s - loss: 4.0760 - acc: 0.032 - ETA: 0s - loss: 4.0688 - acc: 0.032 - ETA: 0s - loss: 4.0549 - acc: 0.035 - ETA: 0s - loss: 4.0350 - acc: 0.038 - ETA: 0s - loss: 4.0286 - acc: 0.041 - ETA: 0s - loss: 4.0106 - acc: 0.047 - 3s 2ms/step - loss: 4.0043 - acc: 0.0470 - val_loss: 3.5474 - val_acc: 0.1425\n",
      "Epoch 2/10\n",
      "2108/2108 [==============================] - ETA: 2s - loss: 3.0980 - acc: 0.250 - ETA: 1s - loss: 3.2115 - acc: 0.218 - ETA: 1s - loss: 3.2692 - acc: 0.187 - ETA: 1s - loss: 3.2430 - acc: 0.200 - ETA: 1s - loss: 3.1771 - acc: 0.229 - ETA: 1s - loss: 3.1275 - acc: 0.233 - ETA: 1s - loss: 3.1135 - acc: 0.226 - ETA: 1s - loss: 3.0758 - acc: 0.235 - ETA: 1s - loss: 3.0613 - acc: 0.242 - ETA: 1s - loss: 3.0255 - acc: 0.254 - ETA: 1s - loss: 2.9951 - acc: 0.261 - ETA: 1s - loss: 2.9558 - acc: 0.269 - ETA: 1s - loss: 2.9338 - acc: 0.276 - ETA: 1s - loss: 2.9221 - acc: 0.278 - ETA: 1s - loss: 2.9076 - acc: 0.283 - ETA: 1s - loss: 2.9128 - acc: 0.282 - ETA: 1s - loss: 2.9137 - acc: 0.284 - ETA: 0s - loss: 2.9000 - acc: 0.284 - ETA: 0s - loss: 2.8914 - acc: 0.284 - ETA: 0s - loss: 2.8734 - acc: 0.289 - ETA: 0s - loss: 2.8661 - acc: 0.289 - ETA: 0s - loss: 2.8576 - acc: 0.288 - ETA: 0s - loss: 2.8403 - acc: 0.289 - ETA: 0s - loss: 2.8357 - acc: 0.293 - ETA: 0s - loss: 2.8213 - acc: 0.294 - ETA: 0s - loss: 2.8086 - acc: 0.297 - ETA: 0s - loss: 2.7788 - acc: 0.303 - ETA: 0s - loss: 2.7688 - acc: 0.309 - ETA: 0s - loss: 2.7582 - acc: 0.314 - ETA: 0s - loss: 2.7365 - acc: 0.320 - ETA: 0s - loss: 2.7246 - acc: 0.324 - ETA: 0s - loss: 2.7209 - acc: 0.323 - ETA: 0s - loss: 2.7124 - acc: 0.326 - 2s 1ms/step - loss: 2.7124 - acc: 0.3254 - val_loss: 2.6737 - val_acc: 0.3522\n",
      "Epoch 3/10\n",
      "2108/2108 [==============================] - ETA: 2s - loss: 2.0827 - acc: 0.500 - ETA: 1s - loss: 1.7993 - acc: 0.572 - ETA: 1s - loss: 1.8036 - acc: 0.581 - ETA: 1s - loss: 1.9122 - acc: 0.531 - ETA: 1s - loss: 1.8985 - acc: 0.524 - ETA: 1s - loss: 1.9168 - acc: 0.531 - ETA: 1s - loss: 1.8946 - acc: 0.536 - ETA: 1s - loss: 1.8843 - acc: 0.533 - ETA: 1s - loss: 1.8286 - acc: 0.546 - ETA: 1s - loss: 1.8451 - acc: 0.542 - ETA: 1s - loss: 1.8589 - acc: 0.538 - ETA: 1s - loss: 1.8227 - acc: 0.547 - ETA: 1s - loss: 1.8275 - acc: 0.545 - ETA: 1s - loss: 1.7975 - acc: 0.549 - ETA: 1s - loss: 1.8017 - acc: 0.546 - ETA: 1s - loss: 1.8154 - acc: 0.540 - ETA: 1s - loss: 1.8129 - acc: 0.536 - ETA: 0s - loss: 1.8225 - acc: 0.537 - ETA: 0s - loss: 1.8412 - acc: 0.533 - ETA: 0s - loss: 1.8556 - acc: 0.528 - ETA: 0s - loss: 1.8525 - acc: 0.527 - ETA: 0s - loss: 1.8421 - acc: 0.525 - ETA: 0s - loss: 1.8570 - acc: 0.520 - ETA: 0s - loss: 1.8482 - acc: 0.523 - ETA: 0s - loss: 1.8501 - acc: 0.521 - ETA: 0s - loss: 1.8413 - acc: 0.523 - ETA: 0s - loss: 1.8351 - acc: 0.525 - ETA: 0s - loss: 1.8270 - acc: 0.529 - ETA: 0s - loss: 1.8226 - acc: 0.529 - ETA: 0s - loss: 1.8022 - acc: 0.535 - ETA: 0s - loss: 1.7902 - acc: 0.536 - ETA: 0s - loss: 1.8068 - acc: 0.533 - ETA: 0s - loss: 1.8115 - acc: 0.535 - 2s 1ms/step - loss: 1.8085 - acc: 0.5346 - val_loss: 2.3676 - val_acc: 0.4247\n",
      "Epoch 4/10\n",
      "2108/2108 [==============================] - ETA: 2s - loss: 1.2459 - acc: 0.687 - ETA: 1s - loss: 1.2823 - acc: 0.656 - ETA: 1s - loss: 1.3483 - acc: 0.662 - ETA: 1s - loss: 1.4227 - acc: 0.629 - ETA: 1s - loss: 1.3888 - acc: 0.642 - ETA: 1s - loss: 1.3383 - acc: 0.656 - ETA: 1s - loss: 1.4148 - acc: 0.634 - ETA: 1s - loss: 1.4001 - acc: 0.635 - ETA: 1s - loss: 1.3936 - acc: 0.637 - ETA: 1s - loss: 1.4168 - acc: 0.629 - ETA: 1s - loss: 1.4283 - acc: 0.622 - ETA: 1s - loss: 1.4232 - acc: 0.622 - ETA: 1s - loss: 1.4077 - acc: 0.626 - ETA: 1s - loss: 1.3972 - acc: 0.628 - ETA: 1s - loss: 1.3734 - acc: 0.632 - ETA: 1s - loss: 1.3585 - acc: 0.639 - ETA: 1s - loss: 1.3718 - acc: 0.633 - ETA: 0s - loss: 1.3744 - acc: 0.631 - ETA: 0s - loss: 1.3790 - acc: 0.626 - ETA: 0s - loss: 1.3712 - acc: 0.625 - ETA: 0s - loss: 1.3625 - acc: 0.627 - ETA: 0s - loss: 1.3619 - acc: 0.629 - ETA: 0s - loss: 1.3607 - acc: 0.629 - ETA: 0s - loss: 1.3569 - acc: 0.630 - ETA: 0s - loss: 1.3573 - acc: 0.632 - ETA: 0s - loss: 1.3493 - acc: 0.634 - ETA: 0s - loss: 1.3404 - acc: 0.635 - ETA: 0s - loss: 1.3451 - acc: 0.638 - ETA: 0s - loss: 1.3391 - acc: 0.637 - ETA: 0s - loss: 1.3472 - acc: 0.634 - ETA: 0s - loss: 1.3610 - acc: 0.630 - ETA: 0s - loss: 1.3604 - acc: 0.628 - ETA: 0s - loss: 1.3560 - acc: 0.629 - 2s 1ms/step - loss: 1.3530 - acc: 0.6305 - val_loss: 2.3571 - val_acc: 0.4462\n",
      "Epoch 5/10\n",
      "2108/2108 [==============================] - ETA: 2s - loss: 0.7723 - acc: 0.843 - ETA: 1s - loss: 0.8099 - acc: 0.770 - ETA: 1s - loss: 0.8983 - acc: 0.737 - ETA: 1s - loss: 0.9728 - acc: 0.732 - ETA: 1s - loss: 1.0000 - acc: 0.732 - ETA: 1s - loss: 1.1084 - acc: 0.701 - ETA: 1s - loss: 1.1516 - acc: 0.685 - ETA: 1s - loss: 1.1449 - acc: 0.687 - ETA: 1s - loss: 1.1362 - acc: 0.694 - ETA: 1s - loss: 1.1641 - acc: 0.685 - ETA: 1s - loss: 1.1599 - acc: 0.686 - ETA: 1s - loss: 1.1609 - acc: 0.683 - ETA: 1s - loss: 1.1447 - acc: 0.688 - ETA: 1s - loss: 1.1196 - acc: 0.691 - ETA: 1s - loss: 1.1176 - acc: 0.692 - ETA: 1s - loss: 1.1073 - acc: 0.693 - ETA: 1s - loss: 1.1009 - acc: 0.695 - ETA: 0s - loss: 1.1057 - acc: 0.691 - ETA: 0s - loss: 1.1023 - acc: 0.693 - ETA: 0s - loss: 1.1080 - acc: 0.693 - ETA: 0s - loss: 1.1005 - acc: 0.694 - ETA: 0s - loss: 1.1101 - acc: 0.690 - ETA: 0s - loss: 1.1042 - acc: 0.693 - ETA: 0s - loss: 1.0943 - acc: 0.693 - ETA: 0s - loss: 1.0896 - acc: 0.695 - ETA: 0s - loss: 1.0947 - acc: 0.694 - ETA: 0s - loss: 1.0835 - acc: 0.698 - ETA: 0s - loss: 1.0798 - acc: 0.699 - ETA: 0s - loss: 1.0795 - acc: 0.697 - ETA: 0s - loss: 1.0761 - acc: 0.699 - ETA: 0s - loss: 1.0786 - acc: 0.699 - ETA: 0s - loss: 1.0726 - acc: 0.700 - ETA: 0s - loss: 1.0754 - acc: 0.700 - 2s 1ms/step - loss: 1.0685 - acc: 0.7021 - val_loss: 2.2593 - val_acc: 0.5081\n",
      "Epoch 6/10\n"
     ]
    },
    {
     "name": "stdout",
     "output_type": "stream",
     "text": [
      "2108/2108 [==============================] - ETA: 2s - loss: 0.6978 - acc: 0.843 - ETA: 1s - loss: 0.6456 - acc: 0.833 - ETA: 1s - loss: 0.7727 - acc: 0.800 - ETA: 1s - loss: 0.8242 - acc: 0.785 - ETA: 1s - loss: 0.7793 - acc: 0.784 - ETA: 1s - loss: 0.8369 - acc: 0.767 - ETA: 1s - loss: 0.8323 - acc: 0.776 - ETA: 1s - loss: 0.8097 - acc: 0.783 - ETA: 1s - loss: 0.8220 - acc: 0.788 - ETA: 1s - loss: 0.8256 - acc: 0.778 - ETA: 1s - loss: 0.8371 - acc: 0.769 - ETA: 1s - loss: 0.8618 - acc: 0.764 - ETA: 1s - loss: 0.8372 - acc: 0.772 - ETA: 1s - loss: 0.8354 - acc: 0.770 - ETA: 1s - loss: 0.8407 - acc: 0.772 - ETA: 1s - loss: 0.8265 - acc: 0.775 - ETA: 1s - loss: 0.8267 - acc: 0.775 - ETA: 0s - loss: 0.8361 - acc: 0.770 - ETA: 0s - loss: 0.8309 - acc: 0.772 - ETA: 0s - loss: 0.8414 - acc: 0.766 - ETA: 0s - loss: 0.8477 - acc: 0.767 - ETA: 0s - loss: 0.8491 - acc: 0.766 - ETA: 0s - loss: 0.8562 - acc: 0.764 - ETA: 0s - loss: 0.8716 - acc: 0.760 - ETA: 0s - loss: 0.8664 - acc: 0.760 - ETA: 0s - loss: 0.8596 - acc: 0.763 - ETA: 0s - loss: 0.8686 - acc: 0.763 - ETA: 0s - loss: 0.8706 - acc: 0.761 - ETA: 0s - loss: 0.8731 - acc: 0.762 - ETA: 0s - loss: 0.8706 - acc: 0.762 - ETA: 0s - loss: 0.8699 - acc: 0.761 - ETA: 0s - loss: 0.8682 - acc: 0.761 - ETA: 0s - loss: 0.8719 - acc: 0.758 - 2s 1ms/step - loss: 0.8722 - acc: 0.7585 - val_loss: 2.3090 - val_acc: 0.5027\n",
      "Epoch 7/10\n",
      "2108/2108 [==============================] - ETA: 2s - loss: 0.9745 - acc: 0.750 - ETA: 1s - loss: 0.6788 - acc: 0.833 - ETA: 1s - loss: 0.7046 - acc: 0.818 - ETA: 1s - loss: 0.6521 - acc: 0.830 - ETA: 1s - loss: 0.6900 - acc: 0.812 - ETA: 1s - loss: 0.6749 - acc: 0.821 - ETA: 1s - loss: 0.6657 - acc: 0.826 - ETA: 1s - loss: 0.6421 - acc: 0.833 - ETA: 1s - loss: 0.6322 - acc: 0.832 - ETA: 1s - loss: 0.6269 - acc: 0.827 - ETA: 1s - loss: 0.6398 - acc: 0.821 - ETA: 1s - loss: 0.6369 - acc: 0.820 - ETA: 1s - loss: 0.6284 - acc: 0.820 - ETA: 1s - loss: 0.6360 - acc: 0.818 - ETA: 1s - loss: 0.6443 - acc: 0.819 - ETA: 1s - loss: 0.6463 - acc: 0.818 - ETA: 1s - loss: 0.6510 - acc: 0.818 - ETA: 0s - loss: 0.6575 - acc: 0.815 - ETA: 0s - loss: 0.6579 - acc: 0.813 - ETA: 0s - loss: 0.6582 - acc: 0.813 - ETA: 0s - loss: 0.6620 - acc: 0.811 - ETA: 0s - loss: 0.6687 - acc: 0.811 - ETA: 0s - loss: 0.6746 - acc: 0.810 - ETA: 0s - loss: 0.6839 - acc: 0.808 - ETA: 0s - loss: 0.6848 - acc: 0.808 - ETA: 0s - loss: 0.6859 - acc: 0.807 - ETA: 0s - loss: 0.6784 - acc: 0.810 - ETA: 0s - loss: 0.6863 - acc: 0.808 - ETA: 0s - loss: 0.6855 - acc: 0.808 - ETA: 0s - loss: 0.6837 - acc: 0.808 - ETA: 0s - loss: 0.6854 - acc: 0.807 - ETA: 0s - loss: 0.6899 - acc: 0.805 - ETA: 0s - loss: 0.6934 - acc: 0.803 - 2s 1ms/step - loss: 0.6953 - acc: 0.8036 - val_loss: 2.5395 - val_acc: 0.5027\n",
      "Epoch 8/10\n",
      "2108/2108 [==============================] - ETA: 2s - loss: 0.4099 - acc: 0.843 - ETA: 1s - loss: 0.4237 - acc: 0.864 - ETA: 1s - loss: 0.5248 - acc: 0.837 - ETA: 1s - loss: 0.5525 - acc: 0.839 - ETA: 1s - loss: 0.5399 - acc: 0.854 - ETA: 1s - loss: 0.5396 - acc: 0.852 - ETA: 1s - loss: 0.5242 - acc: 0.855 - ETA: 1s - loss: 0.5097 - acc: 0.860 - ETA: 1s - loss: 0.5084 - acc: 0.862 - ETA: 1s - loss: 0.5060 - acc: 0.863 - ETA: 1s - loss: 0.4971 - acc: 0.864 - ETA: 1s - loss: 0.4911 - acc: 0.864 - ETA: 1s - loss: 0.5020 - acc: 0.860 - ETA: 1s - loss: 0.4965 - acc: 0.862 - ETA: 1s - loss: 0.5008 - acc: 0.864 - ETA: 1s - loss: 0.5047 - acc: 0.861 - ETA: 1s - loss: 0.5133 - acc: 0.858 - ETA: 0s - loss: 0.5105 - acc: 0.858 - ETA: 0s - loss: 0.5171 - acc: 0.854 - ETA: 0s - loss: 0.5335 - acc: 0.850 - ETA: 0s - loss: 0.5307 - acc: 0.852 - ETA: 0s - loss: 0.5510 - acc: 0.845 - ETA: 0s - loss: 0.5553 - acc: 0.844 - ETA: 0s - loss: 0.5681 - acc: 0.840 - ETA: 0s - loss: 0.5710 - acc: 0.839 - ETA: 0s - loss: 0.5683 - acc: 0.840 - ETA: 0s - loss: 0.5672 - acc: 0.840 - ETA: 0s - loss: 0.5753 - acc: 0.836 - ETA: 0s - loss: 0.5765 - acc: 0.834 - ETA: 0s - loss: 0.5780 - acc: 0.834 - ETA: 0s - loss: 0.5724 - acc: 0.833 - ETA: 0s - loss: 0.5784 - acc: 0.831 - ETA: 0s - loss: 0.5810 - acc: 0.829 - 2s 1ms/step - loss: 0.5821 - acc: 0.8287 - val_loss: 2.5865 - val_acc: 0.5349\n",
      "Epoch 9/10\n",
      "2108/2108 [==============================] - ETA: 2s - loss: 0.3085 - acc: 0.875 - ETA: 2s - loss: 0.5067 - acc: 0.833 - ETA: 1s - loss: 0.4982 - acc: 0.856 - ETA: 1s - loss: 0.5115 - acc: 0.843 - ETA: 1s - loss: 0.4715 - acc: 0.861 - ETA: 1s - loss: 0.4747 - acc: 0.858 - ETA: 1s - loss: 0.4587 - acc: 0.865 - ETA: 1s - loss: 0.4655 - acc: 0.862 - ETA: 1s - loss: 0.4794 - acc: 0.867 - ETA: 1s - loss: 0.4702 - acc: 0.868 - ETA: 1s - loss: 0.4622 - acc: 0.872 - ETA: 1s - loss: 0.4548 - acc: 0.873 - ETA: 1s - loss: 0.4554 - acc: 0.875 - ETA: 1s - loss: 0.4622 - acc: 0.870 - ETA: 1s - loss: 0.4497 - acc: 0.872 - ETA: 1s - loss: 0.4521 - acc: 0.874 - ETA: 1s - loss: 0.4534 - acc: 0.873 - ETA: 0s - loss: 0.4701 - acc: 0.870 - ETA: 0s - loss: 0.4684 - acc: 0.869 - ETA: 0s - loss: 0.4630 - acc: 0.870 - ETA: 0s - loss: 0.4668 - acc: 0.868 - ETA: 0s - loss: 0.4619 - acc: 0.869 - ETA: 0s - loss: 0.4594 - acc: 0.868 - ETA: 0s - loss: 0.4555 - acc: 0.869 - ETA: 0s - loss: 0.4569 - acc: 0.867 - ETA: 0s - loss: 0.4651 - acc: 0.864 - ETA: 0s - loss: 0.4601 - acc: 0.866 - ETA: 0s - loss: 0.4659 - acc: 0.863 - ETA: 0s - loss: 0.4710 - acc: 0.861 - ETA: 0s - loss: 0.4672 - acc: 0.862 - ETA: 0s - loss: 0.4653 - acc: 0.863 - ETA: 0s - loss: 0.4686 - acc: 0.862 - ETA: 0s - loss: 0.4639 - acc: 0.863 - 2s 1ms/step - loss: 0.4622 - acc: 0.8643 - val_loss: 2.6235 - val_acc: 0.5108\n",
      "Epoch 10/10\n",
      "2108/2108 [==============================] - ETA: 2s - loss: 0.3456 - acc: 0.906 - ETA: 1s - loss: 0.4126 - acc: 0.885 - ETA: 1s - loss: 0.3939 - acc: 0.875 - ETA: 1s - loss: 0.3828 - acc: 0.883 - ETA: 1s - loss: 0.3414 - acc: 0.895 - ETA: 1s - loss: 0.3466 - acc: 0.894 - ETA: 1s - loss: 0.3336 - acc: 0.896 - ETA: 1s - loss: 0.3322 - acc: 0.897 - ETA: 1s - loss: 0.3280 - acc: 0.900 - ETA: 1s - loss: 0.3497 - acc: 0.898 - ETA: 1s - loss: 0.3600 - acc: 0.895 - ETA: 1s - loss: 0.3463 - acc: 0.899 - ETA: 1s - loss: 0.3439 - acc: 0.900 - ETA: 1s - loss: 0.3409 - acc: 0.899 - ETA: 1s - loss: 0.3468 - acc: 0.899 - ETA: 1s - loss: 0.3548 - acc: 0.897 - ETA: 1s - loss: 0.3544 - acc: 0.896 - ETA: 0s - loss: 0.3586 - acc: 0.894 - ETA: 0s - loss: 0.3525 - acc: 0.897 - ETA: 0s - loss: 0.3561 - acc: 0.896 - ETA: 0s - loss: 0.3521 - acc: 0.897 - ETA: 0s - loss: 0.3531 - acc: 0.897 - ETA: 0s - loss: 0.3599 - acc: 0.894 - ETA: 0s - loss: 0.3597 - acc: 0.894 - ETA: 0s - loss: 0.3608 - acc: 0.893 - ETA: 0s - loss: 0.3672 - acc: 0.894 - ETA: 0s - loss: 0.3670 - acc: 0.892 - ETA: 0s - loss: 0.3659 - acc: 0.891 - ETA: 0s - loss: 0.3671 - acc: 0.890 - ETA: 0s - loss: 0.3693 - acc: 0.891 - ETA: 0s - loss: 0.3725 - acc: 0.889 - ETA: 0s - loss: 0.3693 - acc: 0.890 - ETA: 0s - loss: 0.3692 - acc: 0.891 - 2s 1ms/step - loss: 0.3694 - acc: 0.8918 - val_loss: 2.6926 - val_acc: 0.5457\n",
      "{'val_loss': [3.547398644108926, 2.673736197974092, 2.367599509095633, 2.3571109656364686, 2.2592656304759364, 2.308966798167075, 2.5395049228463122, 2.5864735059840704, 2.6234820978615874, 2.6925577758460917], 'val_acc': [0.14247311831962678, 0.3521505376344086, 0.42473118407751925, 0.44623655913978494, 0.5080645174108526, 0.5026881707611904, 0.5026881733248311, 0.5349462359182297, 0.5107526868902227, 0.5456989234493624], 'loss': [4.004317248342612, 2.7124184277297423, 1.8084806651725263, 1.3530208878996703, 1.068515631121069, 0.8721675725770404, 0.6952589628139981, 0.5821209295424836, 0.46220375408031455, 0.3694466565659648], 'acc': [0.046963946890276796, 0.325426944971537, 0.5346299808550152, 0.630455408195843, 0.702087286640616, 0.7585388992045364, 0.8036053128667755, 0.8287476280834914, 0.8643263755984731, 0.8918406070975244]}\n"
     ]
    }
   ],
   "source": [
    "model.compile(loss='categorical_crossentropy',\n",
    "              optimizer='adam',\n",
    "              metrics=['accuracy'])\n",
    "history=model.fit(x=X_train_arr,y=y_train_arr,epochs=10,validation_data=(X_val_arr,y_val_arr))\n",
    "print(history.history)"
   ]
  },
  {
   "cell_type": "code",
   "execution_count": 66,
   "metadata": {},
   "outputs": [
    {
     "name": "stdout",
     "output_type": "stream",
     "text": [
      "4 with accuracy of 0.97220796\n"
     ]
    }
   ],
   "source": [
    "predict=model.predict(np.array([img1]))[0]\n",
    "acc=max(predict)\n",
    "val=np.argmax(predict)\n",
    "print(bag[val],\"with accuracy of\",acc)"
   ]
  }
 ],
 "metadata": {
  "kernelspec": {
   "display_name": "Python 3",
   "language": "python",
   "name": "python3"
  },
  "language_info": {
   "codemirror_mode": {
    "name": "ipython",
    "version": 3
   },
   "file_extension": ".py",
   "mimetype": "text/x-python",
   "name": "python",
   "nbconvert_exporter": "python",
   "pygments_lexer": "ipython3",
   "version": "3.6.8"
  }
 },
 "nbformat": 4,
 "nbformat_minor": 2
}
