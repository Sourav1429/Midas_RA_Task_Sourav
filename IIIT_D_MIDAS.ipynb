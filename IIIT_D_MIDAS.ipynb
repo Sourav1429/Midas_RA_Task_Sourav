{
 "cells": [
  {
   "cell_type": "markdown",
   "metadata": {},
   "source": [
    "# Importing all the necessary files and modules. "
   ]
  },
  {
   "cell_type": "markdown",
   "metadata": {},
   "source": [
    "Our first step to CNN model starts with the listing of all the important modules.\n",
    "1) cv2: Used for importing images and converting it into numpy array\n",
    "2) Matplotlib: Since in Jupyter notebook we cannot use cv2.imshow() as it creates a small issue. Hence using imshow() in matplotlib.pyplot\n",
    "    for displaying the image\n",
    "3) tensorflow: to call the backend or suppoting Keras API.\n",
    "4) Dense, Dropout, Activation,Flatten: Creating the network used for desigining the CNN architecture\n",
    "5) OS: To locate files after downloading the file, from local machine\n",
    "6) tqdm: To give a professional loading info and look when the images are being loaded from local machine\n",
    "7) numpy: For reshaping and creating arrays for numerical calculation"
   ]
  },
  {
   "cell_type": "code",
   "execution_count": 2,
   "metadata": {},
   "outputs": [
    {
     "name": "stderr",
     "output_type": "stream",
     "text": [
      "D:\\anaconda\\lib\\site-packages\\tensorflow\\python\\framework\\dtypes.py:523: FutureWarning: Passing (type, 1) or '1type' as a synonym of type is deprecated; in a future version of numpy, it will be understood as (type, (1,)) / '(1,)type'.\n",
      "  _np_qint8 = np.dtype([(\"qint8\", np.int8, 1)])\n",
      "D:\\anaconda\\lib\\site-packages\\tensorflow\\python\\framework\\dtypes.py:524: FutureWarning: Passing (type, 1) or '1type' as a synonym of type is deprecated; in a future version of numpy, it will be understood as (type, (1,)) / '(1,)type'.\n",
      "  _np_quint8 = np.dtype([(\"quint8\", np.uint8, 1)])\n",
      "D:\\anaconda\\lib\\site-packages\\tensorflow\\python\\framework\\dtypes.py:525: FutureWarning: Passing (type, 1) or '1type' as a synonym of type is deprecated; in a future version of numpy, it will be understood as (type, (1,)) / '(1,)type'.\n",
      "  _np_qint16 = np.dtype([(\"qint16\", np.int16, 1)])\n",
      "D:\\anaconda\\lib\\site-packages\\tensorflow\\python\\framework\\dtypes.py:526: FutureWarning: Passing (type, 1) or '1type' as a synonym of type is deprecated; in a future version of numpy, it will be understood as (type, (1,)) / '(1,)type'.\n",
      "  _np_quint16 = np.dtype([(\"quint16\", np.uint16, 1)])\n",
      "D:\\anaconda\\lib\\site-packages\\tensorflow\\python\\framework\\dtypes.py:527: FutureWarning: Passing (type, 1) or '1type' as a synonym of type is deprecated; in a future version of numpy, it will be understood as (type, (1,)) / '(1,)type'.\n",
      "  _np_qint32 = np.dtype([(\"qint32\", np.int32, 1)])\n",
      "D:\\anaconda\\lib\\site-packages\\tensorflow\\python\\framework\\dtypes.py:532: FutureWarning: Passing (type, 1) or '1type' as a synonym of type is deprecated; in a future version of numpy, it will be understood as (type, (1,)) / '(1,)type'.\n",
      "  np_resource = np.dtype([(\"resource\", np.ubyte, 1)])\n",
      "Using TensorFlow backend.\n"
     ]
    }
   ],
   "source": [
    "import cv2\n",
    "import matplotlib.pyplot as plt\n",
    "from tensorflow import keras\n",
    "from keras.models import Sequential\n",
    "from keras.layers import Dense, Dropout, Activation, Flatten\n",
    "from keras.layers import Convolution2D,Conv2D, MaxPooling2D\n",
    "from keras.utils import np_utils\n",
    "import os\n",
    "from tqdm import tqdm\n",
    "import numpy as np"
   ]
  },
  {
   "cell_type": "markdown",
   "metadata": {},
   "source": [
    "# Next Step: Defining the path where the dataset is stored in local Machine"
   ]
  },
  {
   "cell_type": "code",
   "execution_count": 3,
   "metadata": {},
   "outputs": [],
   "source": [
    "path=\"D://datasets//IIIT_D//train\";#path where the dataset is downloaded in my machine\n",
    "fol=os.listdir(path)#list of files in the 'train' folder in the location D:\\datasets\\IIIT_D\\train"
   ]
  },
  {
   "cell_type": "markdown",
   "metadata": {},
   "source": [
    "# Start of Preprocessing"
   ]
  },
  {
   "cell_type": "markdown",
   "metadata": {},
   "source": [
    "Next steps include a) create a bag of symbols so that we can assign a unique number to each symbol as below\n",
    "b) Also define a one_hot() which will create a one hot vector. Although for now it creates a list of zeros to conquer the dimensionality\n",
    "issue faced during the training. But will be later converted into a numpy array.\n",
    "So the vector is of size 62(62 unique characters in the dataset.)"
   ]
  },
  {
   "cell_type": "code",
   "execution_count": 4,
   "metadata": {},
   "outputs": [],
   "source": [
    "X,y=list(),list();#define empty list for acquiring training and testing data\n",
    "size=len(fol);\n",
    "#next create a bag of symbols which will be a dictionary\n",
    "bag={0:'0',1:'1',2:'2',3:'3',4:'4',5:'5',6:'6',7:'7',8:'8',9:'9',10:'A',11:'B',12:'C',13:'D',14:'E',15:'F',16:'G',17:'H',\n",
    "    18:'I',19:'J',20:'K',21:'L',22:'M',23:'N',24:'O',25:'P',26:'Q',27:'R',28:'S',29:'T',30:'U',31:'V',32:'W',33:'X',34:'Y',\n",
    "    35:'Z',36:'a',37:'b',38:'c',39:'d',40:'e',41:'f',42:'g',43:'h',44:'i',45:'j',46:'k',47:'l',48:'m',\n",
    "     49:'n',50:'o',51:'p',52:'q',53:'r',54:'s',55:'t',56:'u',57:'v',58:'w',59:'x',60:'y',61:'z'};\n",
    "#define our one_hot vector\n",
    "def one_hot(val,size):\n",
    "    a=np.array([0]*size);\n",
    "    a[val]=1;\n",
    "    return a;"
   ]
  },
  {
   "cell_type": "markdown",
   "metadata": {},
   "source": [
    "# Next Step: Accessing the dataset from the local machine in X and y lists."
   ]
  },
  {
   "cell_type": "markdown",
   "metadata": {},
   "source": [
    "So first we create a list of all the files in the 'path' mentioned above. Also keep a track of the position of each file using a \n",
    "counter in form of the variable 'val'. Then the folders under the 'path' mentioned above are explored one by one which contains the pictures.\n",
    "Here only one thing to be noted which can change the full results is the order of the files must comply with the bag of symbols\n",
    "i.e. the first file namely Sample001 in the given dataset which is actually pictures of '0' written in handwritten must comply \n",
    "with the first symbol in our bag of symbol which is '0'."
   ]
  },
  {
   "cell_type": "code",
   "execution_count": 5,
   "metadata": {},
   "outputs": [
    {
     "name": "stderr",
     "output_type": "stream",
     "text": [
      "62it [01:57,  1.77s/it]\n"
     ]
    }
   ],
   "source": [
    "for val,i in tqdm(enumerate(fol)):\n",
    "    path_n=os.path.join(path,i);\n",
    "    for img_n in os.listdir(path_n):\n",
    "        img=cv2.imread(os.path.join(path_n,img_n),cv2.IMREAD_GRAYSCALE)/255#normalize by dividing by 255 for better results.\n",
    "        X.append((np.reshape(cv2.resize(img,(50,50)),(50,50,1))))#initially we obtained a 2d array. In order to fit it in our keras CNN model, we had to convert it into a 3d model. Also the image is downsized to avoid OOM (Out of Memory) exception\n",
    "        y.append(one_hot(val,size))#store our results by converting it into a one-hot vector. Here the enumerate () returning counter val palys a very important role."
   ]
  },
  {
   "cell_type": "markdown",
   "metadata": {},
   "source": [
    "# Splitting the dataset"
   ]
  },
  {
   "cell_type": "markdown",
   "metadata": {},
   "source": [
    "The data is splitted into training and cross validation sets. Cross validation size 15% of total data. It aids our results and gives a genuine boost\n",
    "in our accuracy"
   ]
  },
  {
   "cell_type": "code",
   "execution_count": 6,
   "metadata": {},
   "outputs": [],
   "source": [
    "from sklearn.model_selection import train_test_split\n",
    "X_train,X_val,y_train,y_val=train_test_split(X,y,test_size=0.15, random_state=42)\n",
    "X_train_arr=np.array(X_train)\n",
    "X_val_arr=np.array(X_val)\n",
    "y_train_arr=np.array(y_train)\n",
    "y_val_arr=np.array(y_val)\n",
    "_,h,w,d=X_train_arr.shape"
   ]
  },
  {
   "cell_type": "markdown",
   "metadata": {},
   "source": [
    "# Create CNN model the feed forward network"
   ]
  },
  {
   "cell_type": "markdown",
   "metadata": {},
   "source": [
    "All set and done with the processing. Lets now create a training CNN network. After lots of optimization I have narrowed it down \n",
    "to the below network. It is a sequential model Cosisting of 2 Convolution layer following which we have a MaxPooling layer to \n",
    "pull out the maximum value of each 2x2 kernel and use pass it to the next layer. To avoid plagiarism I have used my surname as the variable.\n",
    "Although some keywords were manditory to use and could not help there. Ok as we can in the summary below, it gives us a rough idea of the feed forward network.\n",
    "Trainable parameters mean the weights and bias values that are initially assumed to be random values and are to be optimized later during the subsequent epochs.\n",
    "The Keras model has taken care of the backpropagation training process for us."
   ]
  },
  {
   "cell_type": "code",
   "execution_count": 7,
   "metadata": {},
   "outputs": [
    {
     "name": "stderr",
     "output_type": "stream",
     "text": [
      "D:\\anaconda\\lib\\site-packages\\ipykernel_launcher.py:2: UserWarning: Update your `Conv2D` call to the Keras 2 API: `Conv2D(248, kernel_size=5, activation=\"relu\", input_shape=(50, 50, 1..., padding=\"same\")`\n",
      "  \n",
      "D:\\anaconda\\lib\\site-packages\\ipykernel_launcher.py:4: UserWarning: Update your `Conv2D` call to the Keras 2 API: `Conv2D(62, kernel_size=3, activation=\"relu\", padding=\"same\")`\n",
      "  after removing the cwd from sys.path.\n"
     ]
    },
    {
     "name": "stdout",
     "output_type": "stream",
     "text": [
      "_________________________________________________________________\n",
      "Layer (type)                 Output Shape              Param #   \n",
      "=================================================================\n",
      "conv2d_1 (Conv2D)            (None, 50, 50, 248)       6448      \n",
      "_________________________________________________________________\n",
      "max_pooling2d_1 (MaxPooling2 (None, 25, 25, 248)       0         \n",
      "_________________________________________________________________\n",
      "conv2d_2 (Conv2D)            (None, 25, 25, 62)        138446    \n",
      "_________________________________________________________________\n",
      "max_pooling2d_2 (MaxPooling2 (None, 12, 12, 62)        0         \n",
      "_________________________________________________________________\n",
      "flatten_1 (Flatten)          (None, 8928)              0         \n",
      "_________________________________________________________________\n",
      "dense_1 (Dense)              (None, 62)                553598    \n",
      "=================================================================\n",
      "Total params: 698,492\n",
      "Trainable params: 698,492\n",
      "Non-trainable params: 0\n",
      "_________________________________________________________________\n"
     ]
    }
   ],
   "source": [
    "ganguly = Sequential()\n",
    "ganguly.add(Conv2D(248, kernel_size=5, activation='relu',border_mode='same', input_shape=(h,w,d)))\n",
    "ganguly.add(MaxPooling2D(pool_size=(2,2)))\n",
    "ganguly.add(Conv2D(62, kernel_size=3, activation='relu',border_mode='same'))\n",
    "ganguly.add(MaxPooling2D(pool_size=(2,2)))\n",
    "ganguly.add(Flatten())\n",
    "ganguly.add(Dense(62, activation='softmax'))\n",
    "ganguly.summary()"
   ]
  },
  {
   "cell_type": "markdown",
   "metadata": {},
   "source": [
    "# Training and compiling the network"
   ]
  },
  {
   "cell_type": "markdown",
   "metadata": {},
   "source": [
    "So our next step is just use the above network to train our value. Now to measure the loss we use cross_entropy and optimze it with Adam's optimization.\n",
    "Finally feed the value with traing data and expected results of the data and cross validating against X_val_arr and y_val_arr"
   ]
  },
  {
   "cell_type": "code",
   "execution_count": 8,
   "metadata": {},
   "outputs": [
    {
     "name": "stdout",
     "output_type": "stream",
     "text": [
      "Train on 2108 samples, validate on 372 samples\n",
      "Epoch 1/10\n",
      "2108/2108 [==============================] - ETA: 26:38 - loss: 4.1033 - acc: 0.0000e+ - ETA: 13:08 - loss: 4.1542 - acc: 0.0000e+ - ETA: 8:38 - loss: 4.1675 - acc: 0.0104     - ETA: 5:02 - loss: 4.1352 - acc: 0.018 - ETA: 4:08 - loss: 4.1451 - acc: 0.015 - ETA: 3:29 - loss: 4.1403 - acc: 0.013 - ETA: 3:00 - loss: 4.1404 - acc: 0.011 - ETA: 2:38 - loss: 4.1316 - acc: 0.020 - ETA: 2:20 - loss: 4.1291 - acc: 0.018 - ETA: 2:05 - loss: 4.1276 - acc: 0.017 - ETA: 1:53 - loss: 4.1261 - acc: 0.015 - ETA: 1:42 - loss: 4.1231 - acc: 0.016 - ETA: 1:34 - loss: 4.1239 - acc: 0.015 - ETA: 1:26 - loss: 4.1277 - acc: 0.014 - ETA: 1:19 - loss: 4.1292 - acc: 0.015 - ETA: 1:13 - loss: 4.1298 - acc: 0.014 - ETA: 1:08 - loss: 4.1282 - acc: 0.015 - ETA: 1:03 - loss: 4.1288 - acc: 0.016 - ETA: 59s - loss: 4.1284 - acc: 0.015 - ETA: 55s - loss: 4.1268 - acc: 0.01 - ETA: 51s - loss: 4.1260 - acc: 0.01 - ETA: 48s - loss: 4.1257 - acc: 0.01 - ETA: 45s - loss: 4.1247 - acc: 0.01 - ETA: 42s - loss: 4.1235 - acc: 0.01 - ETA: 39s - loss: 4.1226 - acc: 0.01 - ETA: 37s - loss: 4.1225 - acc: 0.02 - ETA: 35s - loss: 4.1216 - acc: 0.02 - ETA: 33s - loss: 4.1180 - acc: 0.03 - ETA: 31s - loss: 4.1153 - acc: 0.03 - ETA: 29s - loss: 4.1150 - acc: 0.03 - ETA: 27s - loss: 4.1129 - acc: 0.03 - ETA: 24s - loss: 4.1075 - acc: 0.03 - ETA: 23s - loss: 4.1053 - acc: 0.03 - ETA: 22s - loss: 4.1030 - acc: 0.03 - ETA: 20s - loss: 4.0998 - acc: 0.03 - ETA: 19s - loss: 4.0949 - acc: 0.03 - ETA: 18s - loss: 4.0935 - acc: 0.03 - ETA: 17s - loss: 4.0899 - acc: 0.03 - ETA: 16s - loss: 4.0890 - acc: 0.03 - ETA: 15s - loss: 4.0809 - acc: 0.03 - ETA: 14s - loss: 4.0746 - acc: 0.03 - ETA: 13s - loss: 4.0659 - acc: 0.04 - ETA: 12s - loss: 4.0635 - acc: 0.04 - ETA: 10s - loss: 4.0478 - acc: 0.04 - ETA: 9s - loss: 4.0273 - acc: 0.0453 - ETA: 8s - loss: 4.0179 - acc: 0.048 - ETA: 7s - loss: 4.0104 - acc: 0.049 - ETA: 7s - loss: 4.0051 - acc: 0.050 - ETA: 6s - loss: 3.9978 - acc: 0.053 - ETA: 5s - loss: 3.9841 - acc: 0.055 - ETA: 4s - loss: 3.9706 - acc: 0.060 - ETA: 4s - loss: 3.9587 - acc: 0.062 - ETA: 3s - loss: 3.9492 - acc: 0.065 - ETA: 3s - loss: 3.9406 - acc: 0.066 - ETA: 2s - loss: 3.9408 - acc: 0.065 - ETA: 2s - loss: 3.9320 - acc: 0.067 - ETA: 1s - loss: 3.9264 - acc: 0.068 - ETA: 1s - loss: 3.9167 - acc: 0.069 - ETA: 0s - loss: 3.9015 - acc: 0.071 - 29s 14ms/step - loss: 3.8784 - acc: 0.0769 - val_loss: 3.2470 - val_acc: 0.2204\n",
      "Epoch 2/10\n",
      "2108/2108 [==============================] - ETA: 2s - loss: 2.8008 - acc: 0.312 - ETA: 2s - loss: 2.7686 - acc: 0.260 - ETA: 2s - loss: 2.7778 - acc: 0.265 - ETA: 2s - loss: 2.8185 - acc: 0.275 - ETA: 2s - loss: 2.8317 - acc: 0.294 - ETA: 2s - loss: 2.8101 - acc: 0.296 - ETA: 2s - loss: 2.8232 - acc: 0.291 - ETA: 2s - loss: 2.8066 - acc: 0.296 - ETA: 2s - loss: 2.7506 - acc: 0.318 - ETA: 2s - loss: 2.7371 - acc: 0.320 - ETA: 3s - loss: 2.7773 - acc: 0.319 - ETA: 3s - loss: 2.7598 - acc: 0.321 - ETA: 3s - loss: 2.7963 - acc: 0.308 - ETA: 3s - loss: 2.7809 - acc: 0.312 - ETA: 3s - loss: 2.7405 - acc: 0.323 - ETA: 3s - loss: 2.7168 - acc: 0.326 - ETA: 3s - loss: 2.6628 - acc: 0.338 - ETA: 3s - loss: 2.6402 - acc: 0.339 - ETA: 3s - loss: 2.6358 - acc: 0.340 - ETA: 3s - loss: 2.6197 - acc: 0.343 - ETA: 3s - loss: 2.6244 - acc: 0.342 - ETA: 3s - loss: 2.6023 - acc: 0.347 - ETA: 3s - loss: 2.5932 - acc: 0.352 - ETA: 3s - loss: 2.5809 - acc: 0.354 - ETA: 3s - loss: 2.5720 - acc: 0.356 - ETA: 3s - loss: 2.5662 - acc: 0.356 - ETA: 3s - loss: 2.5480 - acc: 0.358 - ETA: 3s - loss: 2.5242 - acc: 0.366 - ETA: 3s - loss: 2.5244 - acc: 0.366 - ETA: 3s - loss: 2.5166 - acc: 0.368 - ETA: 3s - loss: 2.5101 - acc: 0.371 - ETA: 3s - loss: 2.5129 - acc: 0.369 - ETA: 3s - loss: 2.5129 - acc: 0.369 - ETA: 2s - loss: 2.5029 - acc: 0.371 - ETA: 2s - loss: 2.4859 - acc: 0.375 - ETA: 2s - loss: 2.4861 - acc: 0.378 - ETA: 2s - loss: 2.4920 - acc: 0.378 - ETA: 2s - loss: 2.4771 - acc: 0.382 - ETA: 2s - loss: 2.4720 - acc: 0.383 - ETA: 2s - loss: 2.4538 - acc: 0.389 - ETA: 2s - loss: 2.4473 - acc: 0.389 - ETA: 2s - loss: 2.4499 - acc: 0.388 - ETA: 2s - loss: 2.4402 - acc: 0.391 - ETA: 2s - loss: 2.4378 - acc: 0.389 - ETA: 1s - loss: 2.4297 - acc: 0.393 - ETA: 1s - loss: 2.4265 - acc: 0.393 - ETA: 1s - loss: 2.4290 - acc: 0.395 - ETA: 1s - loss: 2.4342 - acc: 0.392 - ETA: 1s - loss: 2.4272 - acc: 0.394 - ETA: 1s - loss: 2.4141 - acc: 0.398 - ETA: 1s - loss: 2.4155 - acc: 0.398 - ETA: 1s - loss: 2.4158 - acc: 0.398 - ETA: 0s - loss: 2.4071 - acc: 0.400 - ETA: 0s - loss: 2.4057 - acc: 0.400 - ETA: 0s - loss: 2.3964 - acc: 0.401 - ETA: 0s - loss: 2.3842 - acc: 0.406 - ETA: 0s - loss: 2.3888 - acc: 0.405 - ETA: 0s - loss: 2.3838 - acc: 0.405 - ETA: 0s - loss: 2.3757 - acc: 0.407 - ETA: 0s - loss: 2.3748 - acc: 0.407 - ETA: 0s - loss: 2.3750 - acc: 0.406 - 7s 3ms/step - loss: 2.3672 - acc: 0.4089 - val_loss: 2.4310 - val_acc: 0.4167\n",
      "Epoch 3/10\n",
      "2108/2108 [==============================] - ETA: 6s - loss: 1.3356 - acc: 0.593 - ETA: 7s - loss: 1.5319 - acc: 0.562 - ETA: 7s - loss: 1.6156 - acc: 0.552 - ETA: 7s - loss: 1.6054 - acc: 0.562 - ETA: 7s - loss: 1.5957 - acc: 0.568 - ETA: 7s - loss: 1.6090 - acc: 0.572 - ETA: 6s - loss: 1.6553 - acc: 0.558 - ETA: 6s - loss: 1.6026 - acc: 0.578 - ETA: 6s - loss: 1.5773 - acc: 0.579 - ETA: 6s - loss: 1.5571 - acc: 0.578 - ETA: 6s - loss: 1.5363 - acc: 0.588 - ETA: 6s - loss: 1.5397 - acc: 0.585 - ETA: 6s - loss: 1.4980 - acc: 0.598 - ETA: 6s - loss: 1.4803 - acc: 0.598 - ETA: 6s - loss: 1.4538 - acc: 0.608 - ETA: 5s - loss: 1.4663 - acc: 0.609 - ETA: 5s - loss: 1.4687 - acc: 0.608 - ETA: 5s - loss: 1.4586 - acc: 0.616 - ETA: 5s - loss: 1.4750 - acc: 0.611 - ETA: 4s - loss: 1.4885 - acc: 0.610 - ETA: 4s - loss: 1.4625 - acc: 0.620 - ETA: 4s - loss: 1.4584 - acc: 0.622 - ETA: 4s - loss: 1.4378 - acc: 0.626 - ETA: 4s - loss: 1.4416 - acc: 0.621 - ETA: 4s - loss: 1.4564 - acc: 0.616 - ETA: 3s - loss: 1.4656 - acc: 0.616 - ETA: 3s - loss: 1.4917 - acc: 0.613 - ETA: 3s - loss: 1.4898 - acc: 0.615 - ETA: 3s - loss: 1.4849 - acc: 0.618 - ETA: 3s - loss: 1.4812 - acc: 0.615 - ETA: 3s - loss: 1.4849 - acc: 0.615 - ETA: 3s - loss: 1.4859 - acc: 0.614 - ETA: 2s - loss: 1.4868 - acc: 0.611 - ETA: 2s - loss: 1.4840 - acc: 0.613 - ETA: 2s - loss: 1.4978 - acc: 0.611 - ETA: 2s - loss: 1.4842 - acc: 0.616 - ETA: 2s - loss: 1.4799 - acc: 0.618 - ETA: 2s - loss: 1.4830 - acc: 0.616 - ETA: 2s - loss: 1.4691 - acc: 0.618 - ETA: 2s - loss: 1.4645 - acc: 0.618 - ETA: 2s - loss: 1.4605 - acc: 0.619 - ETA: 1s - loss: 1.4638 - acc: 0.616 - ETA: 1s - loss: 1.4646 - acc: 0.615 - ETA: 1s - loss: 1.4662 - acc: 0.614 - ETA: 1s - loss: 1.4688 - acc: 0.611 - ETA: 1s - loss: 1.4754 - acc: 0.612 - ETA: 1s - loss: 1.4788 - acc: 0.609 - ETA: 1s - loss: 1.4771 - acc: 0.610 - ETA: 1s - loss: 1.4722 - acc: 0.609 - ETA: 1s - loss: 1.4778 - acc: 0.607 - ETA: 1s - loss: 1.4827 - acc: 0.607 - ETA: 1s - loss: 1.4780 - acc: 0.610 - ETA: 1s - loss: 1.4672 - acc: 0.611 - ETA: 1s - loss: 1.4744 - acc: 0.611 - ETA: 0s - loss: 1.4682 - acc: 0.611 - ETA: 0s - loss: 1.4681 - acc: 0.612 - ETA: 0s - loss: 1.4751 - acc: 0.611 - ETA: 0s - loss: 1.4725 - acc: 0.612 - ETA: 0s - loss: 1.4673 - acc: 0.614 - ETA: 0s - loss: 1.4739 - acc: 0.614 - ETA: 0s - loss: 1.4751 - acc: 0.612 - ETA: 0s - loss: 1.4692 - acc: 0.614 - ETA: 0s - loss: 1.4626 - acc: 0.617 - ETA: 0s - loss: 1.4642 - acc: 0.615 - ETA: 0s - loss: 1.4672 - acc: 0.616 - 7s 3ms/step - loss: 1.4622 - acc: 0.6176 - val_loss: 2.1561 - val_acc: 0.4892\n",
      "Epoch 4/10\n"
     ]
    },
    {
     "name": "stdout",
     "output_type": "stream",
     "text": [
      "2108/2108 [==============================] - ETA: 5s - loss: 0.7518 - acc: 0.843 - ETA: 3s - loss: 0.9677 - acc: 0.729 - ETA: 3s - loss: 0.9458 - acc: 0.742 - ETA: 3s - loss: 0.9563 - acc: 0.737 - ETA: 3s - loss: 1.0003 - acc: 0.729 - ETA: 3s - loss: 0.9707 - acc: 0.745 - ETA: 3s - loss: 0.9561 - acc: 0.742 - ETA: 3s - loss: 0.9800 - acc: 0.739 - ETA: 3s - loss: 0.9869 - acc: 0.740 - ETA: 3s - loss: 0.9868 - acc: 0.738 - ETA: 3s - loss: 1.0019 - acc: 0.731 - ETA: 2s - loss: 0.9825 - acc: 0.733 - ETA: 2s - loss: 0.9592 - acc: 0.741 - ETA: 2s - loss: 0.9761 - acc: 0.737 - ETA: 2s - loss: 0.9722 - acc: 0.740 - ETA: 2s - loss: 0.9809 - acc: 0.737 - ETA: 2s - loss: 0.9680 - acc: 0.739 - ETA: 2s - loss: 0.9947 - acc: 0.732 - ETA: 2s - loss: 0.9757 - acc: 0.735 - ETA: 2s - loss: 0.9850 - acc: 0.737 - ETA: 2s - loss: 0.9983 - acc: 0.737 - ETA: 2s - loss: 1.0044 - acc: 0.735 - ETA: 2s - loss: 1.0005 - acc: 0.738 - ETA: 2s - loss: 0.9971 - acc: 0.741 - ETA: 2s - loss: 1.0005 - acc: 0.737 - ETA: 1s - loss: 1.0060 - acc: 0.734 - ETA: 1s - loss: 1.0069 - acc: 0.734 - ETA: 1s - loss: 1.0185 - acc: 0.731 - ETA: 1s - loss: 1.0076 - acc: 0.734 - ETA: 1s - loss: 1.0004 - acc: 0.738 - ETA: 1s - loss: 0.9924 - acc: 0.739 - ETA: 1s - loss: 0.9937 - acc: 0.739 - ETA: 1s - loss: 0.9894 - acc: 0.738 - ETA: 1s - loss: 0.9767 - acc: 0.741 - ETA: 1s - loss: 0.9753 - acc: 0.742 - ETA: 1s - loss: 0.9920 - acc: 0.743 - ETA: 1s - loss: 1.0067 - acc: 0.738 - ETA: 1s - loss: 0.9985 - acc: 0.741 - ETA: 1s - loss: 0.9923 - acc: 0.742 - ETA: 1s - loss: 1.0033 - acc: 0.742 - ETA: 1s - loss: 1.0030 - acc: 0.742 - ETA: 0s - loss: 1.0040 - acc: 0.741 - ETA: 0s - loss: 1.0082 - acc: 0.739 - ETA: 0s - loss: 1.0016 - acc: 0.741 - ETA: 0s - loss: 1.0049 - acc: 0.742 - ETA: 0s - loss: 1.0072 - acc: 0.740 - ETA: 0s - loss: 1.0058 - acc: 0.741 - ETA: 0s - loss: 1.0166 - acc: 0.737 - ETA: 0s - loss: 1.0104 - acc: 0.739 - ETA: 0s - loss: 1.0131 - acc: 0.737 - ETA: 0s - loss: 1.0098 - acc: 0.738 - ETA: 0s - loss: 1.0126 - acc: 0.737 - ETA: 0s - loss: 1.0221 - acc: 0.737 - ETA: 0s - loss: 1.0160 - acc: 0.739 - ETA: 0s - loss: 1.0134 - acc: 0.740 - ETA: 0s - loss: 1.0095 - acc: 0.740 - 5s 2ms/step - loss: 1.0108 - acc: 0.7405 - val_loss: 2.1886 - val_acc: 0.5108\n",
      "Epoch 5/10\n",
      "2108/2108 [==============================] - ETA: 6s - loss: 0.5993 - acc: 0.843 - ETA: 7s - loss: 0.5148 - acc: 0.890 - ETA: 7s - loss: 0.5134 - acc: 0.864 - ETA: 7s - loss: 0.5931 - acc: 0.843 - ETA: 7s - loss: 0.6777 - acc: 0.825 - ETA: 6s - loss: 0.6923 - acc: 0.812 - ETA: 6s - loss: 0.7351 - acc: 0.812 - ETA: 6s - loss: 0.6971 - acc: 0.820 - ETA: 6s - loss: 0.6903 - acc: 0.822 - ETA: 6s - loss: 0.7131 - acc: 0.812 - ETA: 6s - loss: 0.7139 - acc: 0.806 - ETA: 5s - loss: 0.7175 - acc: 0.807 - ETA: 5s - loss: 0.6978 - acc: 0.814 - ETA: 5s - loss: 0.6924 - acc: 0.812 - ETA: 5s - loss: 0.7108 - acc: 0.812 - ETA: 4s - loss: 0.7187 - acc: 0.806 - ETA: 4s - loss: 0.7098 - acc: 0.807 - ETA: 4s - loss: 0.7109 - acc: 0.809 - ETA: 4s - loss: 0.7262 - acc: 0.802 - ETA: 4s - loss: 0.7305 - acc: 0.804 - ETA: 3s - loss: 0.7267 - acc: 0.806 - ETA: 3s - loss: 0.7221 - acc: 0.808 - ETA: 3s - loss: 0.7323 - acc: 0.805 - ETA: 3s - loss: 0.7304 - acc: 0.806 - ETA: 3s - loss: 0.7230 - acc: 0.808 - ETA: 3s - loss: 0.7236 - acc: 0.811 - ETA: 3s - loss: 0.7123 - acc: 0.812 - ETA: 2s - loss: 0.7190 - acc: 0.809 - ETA: 3s - loss: 0.7136 - acc: 0.809 - ETA: 3s - loss: 0.7221 - acc: 0.808 - ETA: 2s - loss: 0.7367 - acc: 0.803 - ETA: 2s - loss: 0.7343 - acc: 0.802 - ETA: 2s - loss: 0.7410 - acc: 0.800 - ETA: 2s - loss: 0.7408 - acc: 0.801 - ETA: 2s - loss: 0.7309 - acc: 0.803 - ETA: 2s - loss: 0.7328 - acc: 0.803 - ETA: 2s - loss: 0.7305 - acc: 0.804 - ETA: 2s - loss: 0.7285 - acc: 0.805 - ETA: 2s - loss: 0.7224 - acc: 0.806 - ETA: 2s - loss: 0.7270 - acc: 0.803 - ETA: 2s - loss: 0.7236 - acc: 0.806 - ETA: 2s - loss: 0.7245 - acc: 0.807 - ETA: 2s - loss: 0.7253 - acc: 0.806 - ETA: 2s - loss: 0.7196 - acc: 0.808 - ETA: 2s - loss: 0.7223 - acc: 0.807 - ETA: 1s - loss: 0.7160 - acc: 0.809 - ETA: 1s - loss: 0.7127 - acc: 0.809 - ETA: 1s - loss: 0.7184 - acc: 0.808 - ETA: 1s - loss: 0.7140 - acc: 0.809 - ETA: 1s - loss: 0.7108 - acc: 0.810 - ETA: 1s - loss: 0.7120 - acc: 0.809 - ETA: 1s - loss: 0.7089 - acc: 0.810 - ETA: 1s - loss: 0.7115 - acc: 0.809 - ETA: 1s - loss: 0.7142 - acc: 0.808 - ETA: 1s - loss: 0.7143 - acc: 0.808 - ETA: 1s - loss: 0.7115 - acc: 0.809 - ETA: 0s - loss: 0.7090 - acc: 0.809 - ETA: 0s - loss: 0.7145 - acc: 0.806 - ETA: 0s - loss: 0.7180 - acc: 0.804 - ETA: 0s - loss: 0.7175 - acc: 0.804 - ETA: 0s - loss: 0.7145 - acc: 0.804 - ETA: 0s - loss: 0.7110 - acc: 0.806 - ETA: 0s - loss: 0.7162 - acc: 0.805 - ETA: 0s - loss: 0.7212 - acc: 0.802 - ETA: 0s - loss: 0.7191 - acc: 0.802 - 7s 3ms/step - loss: 0.7170 - acc: 0.8031 - val_loss: 2.1976 - val_acc: 0.5161\n",
      "Epoch 6/10\n",
      "2108/2108 [==============================] - ETA: 3s - loss: 0.2696 - acc: 0.906 - ETA: 3s - loss: 0.3961 - acc: 0.875 - ETA: 3s - loss: 0.4459 - acc: 0.864 - ETA: 3s - loss: 0.4354 - acc: 0.867 - ETA: 3s - loss: 0.4257 - acc: 0.868 - ETA: 3s - loss: 0.4453 - acc: 0.864 - ETA: 3s - loss: 0.4578 - acc: 0.866 - ETA: 3s - loss: 0.4334 - acc: 0.875 - ETA: 3s - loss: 0.4135 - acc: 0.878 - ETA: 3s - loss: 0.4236 - acc: 0.881 - ETA: 3s - loss: 0.4115 - acc: 0.883 - ETA: 2s - loss: 0.4095 - acc: 0.888 - ETA: 2s - loss: 0.4262 - acc: 0.884 - ETA: 2s - loss: 0.4400 - acc: 0.881 - ETA: 2s - loss: 0.4926 - acc: 0.866 - ETA: 2s - loss: 0.4916 - acc: 0.863 - ETA: 2s - loss: 0.4920 - acc: 0.864 - ETA: 2s - loss: 0.4885 - acc: 0.862 - ETA: 2s - loss: 0.4888 - acc: 0.863 - ETA: 2s - loss: 0.5050 - acc: 0.857 - ETA: 2s - loss: 0.5150 - acc: 0.857 - ETA: 2s - loss: 0.5177 - acc: 0.858 - ETA: 2s - loss: 0.5053 - acc: 0.862 - ETA: 2s - loss: 0.5118 - acc: 0.860 - ETA: 2s - loss: 0.5120 - acc: 0.860 - ETA: 2s - loss: 0.5089 - acc: 0.864 - ETA: 2s - loss: 0.5018 - acc: 0.863 - ETA: 2s - loss: 0.5230 - acc: 0.853 - ETA: 2s - loss: 0.5268 - acc: 0.852 - ETA: 2s - loss: 0.5162 - acc: 0.856 - ETA: 2s - loss: 0.5245 - acc: 0.853 - ETA: 2s - loss: 0.5213 - acc: 0.855 - ETA: 2s - loss: 0.5244 - acc: 0.854 - ETA: 2s - loss: 0.5235 - acc: 0.853 - ETA: 2s - loss: 0.5207 - acc: 0.853 - ETA: 2s - loss: 0.5325 - acc: 0.849 - ETA: 2s - loss: 0.5324 - acc: 0.847 - ETA: 2s - loss: 0.5322 - acc: 0.847 - ETA: 2s - loss: 0.5280 - acc: 0.848 - ETA: 1s - loss: 0.5263 - acc: 0.849 - ETA: 1s - loss: 0.5247 - acc: 0.849 - ETA: 1s - loss: 0.5224 - acc: 0.850 - ETA: 1s - loss: 0.5239 - acc: 0.850 - ETA: 1s - loss: 0.5283 - acc: 0.849 - ETA: 1s - loss: 0.5246 - acc: 0.850 - ETA: 1s - loss: 0.5200 - acc: 0.850 - ETA: 1s - loss: 0.5171 - acc: 0.851 - ETA: 1s - loss: 0.5201 - acc: 0.852 - ETA: 1s - loss: 0.5195 - acc: 0.852 - ETA: 1s - loss: 0.5172 - acc: 0.852 - ETA: 1s - loss: 0.5239 - acc: 0.850 - ETA: 1s - loss: 0.5247 - acc: 0.849 - ETA: 1s - loss: 0.5278 - acc: 0.848 - ETA: 1s - loss: 0.5273 - acc: 0.848 - ETA: 0s - loss: 0.5246 - acc: 0.848 - ETA: 0s - loss: 0.5265 - acc: 0.848 - ETA: 0s - loss: 0.5215 - acc: 0.848 - ETA: 0s - loss: 0.5165 - acc: 0.848 - ETA: 0s - loss: 0.5235 - acc: 0.846 - ETA: 0s - loss: 0.5252 - acc: 0.845 - ETA: 0s - loss: 0.5266 - acc: 0.844 - ETA: 0s - loss: 0.5279 - acc: 0.843 - ETA: 0s - loss: 0.5277 - acc: 0.843 - ETA: 0s - loss: 0.5278 - acc: 0.843 - ETA: 0s - loss: 0.5305 - acc: 0.843 - 6s 3ms/step - loss: 0.5276 - acc: 0.8444 - val_loss: 2.3814 - val_acc: 0.5538\n",
      "Epoch 7/10\n"
     ]
    },
    {
     "name": "stdout",
     "output_type": "stream",
     "text": [
      "2108/2108 [==============================] - ETA: 2s - loss: 0.2509 - acc: 0.968 - ETA: 3s - loss: 0.2089 - acc: 0.984 - ETA: 3s - loss: 0.1942 - acc: 0.989 - ETA: 2s - loss: 0.2080 - acc: 0.981 - ETA: 2s - loss: 0.2763 - acc: 0.955 - ETA: 2s - loss: 0.2941 - acc: 0.937 - ETA: 2s - loss: 0.3305 - acc: 0.926 - ETA: 2s - loss: 0.3360 - acc: 0.919 - ETA: 2s - loss: 0.3650 - acc: 0.911 - ETA: 2s - loss: 0.3597 - acc: 0.910 - ETA: 2s - loss: 0.3685 - acc: 0.906 - ETA: 2s - loss: 0.3641 - acc: 0.906 - ETA: 2s - loss: 0.3773 - acc: 0.902 - ETA: 2s - loss: 0.3644 - acc: 0.906 - ETA: 2s - loss: 0.3507 - acc: 0.910 - ETA: 2s - loss: 0.3516 - acc: 0.907 - ETA: 2s - loss: 0.3555 - acc: 0.904 - ETA: 2s - loss: 0.3534 - acc: 0.906 - ETA: 2s - loss: 0.3567 - acc: 0.906 - ETA: 1s - loss: 0.3556 - acc: 0.905 - ETA: 2s - loss: 0.3517 - acc: 0.906 - ETA: 2s - loss: 0.3522 - acc: 0.905 - ETA: 2s - loss: 0.3545 - acc: 0.904 - ETA: 2s - loss: 0.3486 - acc: 0.906 - ETA: 2s - loss: 0.3504 - acc: 0.904 - ETA: 2s - loss: 0.3475 - acc: 0.904 - ETA: 2s - loss: 0.3449 - acc: 0.902 - ETA: 2s - loss: 0.3421 - acc: 0.903 - ETA: 2s - loss: 0.3428 - acc: 0.903 - ETA: 2s - loss: 0.3425 - acc: 0.902 - ETA: 2s - loss: 0.3392 - acc: 0.903 - ETA: 2s - loss: 0.3436 - acc: 0.903 - ETA: 2s - loss: 0.3433 - acc: 0.903 - ETA: 1s - loss: 0.3499 - acc: 0.902 - ETA: 1s - loss: 0.3511 - acc: 0.902 - ETA: 1s - loss: 0.3490 - acc: 0.903 - ETA: 1s - loss: 0.3543 - acc: 0.903 - ETA: 1s - loss: 0.3544 - acc: 0.901 - ETA: 1s - loss: 0.3558 - acc: 0.900 - ETA: 1s - loss: 0.3626 - acc: 0.898 - ETA: 1s - loss: 0.3663 - acc: 0.896 - ETA: 1s - loss: 0.3737 - acc: 0.896 - ETA: 1s - loss: 0.3785 - acc: 0.895 - ETA: 1s - loss: 0.3742 - acc: 0.896 - ETA: 1s - loss: 0.3752 - acc: 0.897 - ETA: 1s - loss: 0.3733 - acc: 0.899 - ETA: 1s - loss: 0.3743 - acc: 0.898 - ETA: 1s - loss: 0.3727 - acc: 0.897 - ETA: 0s - loss: 0.3753 - acc: 0.895 - ETA: 0s - loss: 0.3733 - acc: 0.895 - ETA: 0s - loss: 0.3760 - acc: 0.893 - ETA: 0s - loss: 0.3746 - acc: 0.893 - ETA: 0s - loss: 0.3749 - acc: 0.893 - ETA: 0s - loss: 0.3812 - acc: 0.892 - ETA: 0s - loss: 0.3784 - acc: 0.893 - ETA: 0s - loss: 0.3832 - acc: 0.891 - ETA: 0s - loss: 0.3864 - acc: 0.889 - ETA: 0s - loss: 0.3896 - acc: 0.889 - ETA: 0s - loss: 0.3935 - acc: 0.887 - 5s 3ms/step - loss: 0.3918 - acc: 0.8876 - val_loss: 2.4891 - val_acc: 0.5618\n",
      "Epoch 8/10\n",
      "2108/2108 [==============================] - ETA: 2s - loss: 0.1981 - acc: 0.968 - ETA: 2s - loss: 0.2313 - acc: 0.958 - ETA: 2s - loss: 0.2419 - acc: 0.960 - ETA: 2s - loss: 0.2790 - acc: 0.937 - ETA: 2s - loss: 0.2839 - acc: 0.921 - ETA: 2s - loss: 0.2634 - acc: 0.924 - ETA: 3s - loss: 0.2553 - acc: 0.925 - ETA: 4s - loss: 0.2567 - acc: 0.923 - ETA: 4s - loss: 0.2575 - acc: 0.925 - ETA: 4s - loss: 0.2642 - acc: 0.920 - ETA: 4s - loss: 0.2798 - acc: 0.916 - ETA: 4s - loss: 0.2728 - acc: 0.915 - ETA: 4s - loss: 0.2830 - acc: 0.915 - ETA: 4s - loss: 0.2917 - acc: 0.912 - ETA: 4s - loss: 0.2933 - acc: 0.910 - ETA: 4s - loss: 0.2905 - acc: 0.911 - ETA: 4s - loss: 0.2864 - acc: 0.909 - ETA: 4s - loss: 0.2897 - acc: 0.911 - ETA: 4s - loss: 0.2838 - acc: 0.914 - ETA: 4s - loss: 0.2816 - acc: 0.915 - ETA: 4s - loss: 0.2804 - acc: 0.914 - ETA: 4s - loss: 0.2839 - acc: 0.914 - ETA: 4s - loss: 0.2765 - acc: 0.916 - ETA: 4s - loss: 0.2884 - acc: 0.912 - ETA: 4s - loss: 0.2850 - acc: 0.913 - ETA: 4s - loss: 0.2864 - acc: 0.910 - ETA: 3s - loss: 0.2831 - acc: 0.912 - ETA: 3s - loss: 0.2820 - acc: 0.913 - ETA: 3s - loss: 0.2871 - acc: 0.914 - ETA: 3s - loss: 0.2880 - acc: 0.914 - ETA: 3s - loss: 0.2820 - acc: 0.917 - ETA: 3s - loss: 0.2798 - acc: 0.916 - ETA: 3s - loss: 0.2800 - acc: 0.917 - ETA: 3s - loss: 0.2829 - acc: 0.916 - ETA: 3s - loss: 0.2839 - acc: 0.915 - ETA: 3s - loss: 0.2823 - acc: 0.915 - ETA: 3s - loss: 0.2804 - acc: 0.916 - ETA: 2s - loss: 0.2758 - acc: 0.917 - ETA: 2s - loss: 0.2750 - acc: 0.918 - ETA: 2s - loss: 0.2779 - acc: 0.916 - ETA: 2s - loss: 0.2842 - acc: 0.913 - ETA: 2s - loss: 0.2853 - acc: 0.914 - ETA: 2s - loss: 0.2824 - acc: 0.914 - ETA: 2s - loss: 0.2853 - acc: 0.911 - ETA: 1s - loss: 0.2898 - acc: 0.910 - ETA: 1s - loss: 0.2899 - acc: 0.909 - ETA: 1s - loss: 0.2920 - acc: 0.907 - ETA: 1s - loss: 0.2951 - acc: 0.906 - ETA: 1s - loss: 0.2942 - acc: 0.907 - ETA: 1s - loss: 0.2930 - acc: 0.908 - ETA: 1s - loss: 0.2951 - acc: 0.906 - ETA: 1s - loss: 0.2945 - acc: 0.906 - ETA: 1s - loss: 0.2938 - acc: 0.907 - ETA: 1s - loss: 0.3012 - acc: 0.905 - ETA: 0s - loss: 0.3065 - acc: 0.904 - ETA: 0s - loss: 0.3052 - acc: 0.904 - ETA: 0s - loss: 0.3075 - acc: 0.902 - ETA: 0s - loss: 0.3049 - acc: 0.902 - ETA: 0s - loss: 0.3064 - acc: 0.902 - ETA: 0s - loss: 0.3104 - acc: 0.901 - ETA: 0s - loss: 0.3117 - acc: 0.900 - ETA: 0s - loss: 0.3138 - acc: 0.899 - ETA: 0s - loss: 0.3143 - acc: 0.898 - ETA: 0s - loss: 0.3159 - acc: 0.898 - 7s 3ms/step - loss: 0.3154 - acc: 0.8990 - val_loss: 2.5323 - val_acc: 0.5753\n",
      "Epoch 9/10\n",
      "2108/2108 [==============================] - ETA: 6s - loss: 0.2226 - acc: 0.968 - ETA: 7s - loss: 0.2141 - acc: 0.953 - ETA: 7s - loss: 0.2662 - acc: 0.947 - ETA: 7s - loss: 0.2235 - acc: 0.953 - ETA: 7s - loss: 0.2587 - acc: 0.950 - ETA: 7s - loss: 0.2415 - acc: 0.953 - ETA: 7s - loss: 0.2382 - acc: 0.950 - ETA: 6s - loss: 0.2368 - acc: 0.949 - ETA: 5s - loss: 0.2348 - acc: 0.951 - ETA: 5s - loss: 0.2361 - acc: 0.943 - ETA: 5s - loss: 0.2345 - acc: 0.946 - ETA: 4s - loss: 0.2312 - acc: 0.945 - ETA: 4s - loss: 0.2121 - acc: 0.953 - ETA: 4s - loss: 0.2130 - acc: 0.950 - ETA: 3s - loss: 0.2028 - acc: 0.954 - ETA: 3s - loss: 0.1897 - acc: 0.958 - ETA: 3s - loss: 0.2057 - acc: 0.950 - ETA: 2s - loss: 0.1946 - acc: 0.953 - ETA: 2s - loss: 0.1864 - acc: 0.957 - ETA: 2s - loss: 0.1943 - acc: 0.956 - ETA: 2s - loss: 0.1958 - acc: 0.956 - ETA: 2s - loss: 0.1930 - acc: 0.957 - ETA: 2s - loss: 0.1954 - acc: 0.955 - ETA: 2s - loss: 0.1947 - acc: 0.957 - ETA: 2s - loss: 0.1995 - acc: 0.956 - ETA: 2s - loss: 0.1949 - acc: 0.958 - ETA: 2s - loss: 0.1965 - acc: 0.958 - ETA: 2s - loss: 0.1988 - acc: 0.956 - ETA: 1s - loss: 0.2063 - acc: 0.954 - ETA: 1s - loss: 0.2072 - acc: 0.952 - ETA: 1s - loss: 0.2073 - acc: 0.953 - ETA: 1s - loss: 0.2153 - acc: 0.950 - ETA: 1s - loss: 0.2122 - acc: 0.951 - ETA: 1s - loss: 0.2105 - acc: 0.952 - ETA: 1s - loss: 0.2104 - acc: 0.951 - ETA: 1s - loss: 0.2103 - acc: 0.951 - ETA: 1s - loss: 0.2131 - acc: 0.950 - ETA: 1s - loss: 0.2098 - acc: 0.951 - ETA: 1s - loss: 0.2090 - acc: 0.951 - ETA: 1s - loss: 0.2107 - acc: 0.950 - ETA: 1s - loss: 0.2129 - acc: 0.950 - ETA: 1s - loss: 0.2123 - acc: 0.950 - ETA: 1s - loss: 0.2112 - acc: 0.951 - ETA: 1s - loss: 0.2120 - acc: 0.950 - ETA: 0s - loss: 0.2167 - acc: 0.948 - ETA: 0s - loss: 0.2179 - acc: 0.947 - ETA: 0s - loss: 0.2174 - acc: 0.947 - ETA: 0s - loss: 0.2198 - acc: 0.946 - ETA: 0s - loss: 0.2217 - acc: 0.945 - ETA: 0s - loss: 0.2256 - acc: 0.944 - ETA: 0s - loss: 0.2250 - acc: 0.943 - ETA: 0s - loss: 0.2238 - acc: 0.944 - ETA: 0s - loss: 0.2285 - acc: 0.942 - ETA: 0s - loss: 0.2296 - acc: 0.942 - ETA: 0s - loss: 0.2289 - acc: 0.942 - ETA: 0s - loss: 0.2282 - acc: 0.941 - ETA: 0s - loss: 0.2288 - acc: 0.940 - 6s 3ms/step - loss: 0.2282 - acc: 0.9407 - val_loss: 2.6126 - val_acc: 0.5753\n",
      "Epoch 10/10\n"
     ]
    },
    {
     "name": "stdout",
     "output_type": "stream",
     "text": [
      "2108/2108 [==============================] - ETA: 2s - loss: 0.3701 - acc: 0.906 - ETA: 3s - loss: 0.2408 - acc: 0.921 - ETA: 3s - loss: 0.1995 - acc: 0.937 - ETA: 3s - loss: 0.1798 - acc: 0.945 - ETA: 3s - loss: 0.1621 - acc: 0.950 - ETA: 3s - loss: 0.1671 - acc: 0.947 - ETA: 2s - loss: 0.1573 - acc: 0.950 - ETA: 2s - loss: 0.1611 - acc: 0.949 - ETA: 2s - loss: 0.1700 - acc: 0.950 - ETA: 2s - loss: 0.1614 - acc: 0.951 - ETA: 2s - loss: 0.1570 - acc: 0.954 - ETA: 2s - loss: 0.1697 - acc: 0.952 - ETA: 2s - loss: 0.1705 - acc: 0.951 - ETA: 2s - loss: 0.1645 - acc: 0.954 - ETA: 2s - loss: 0.1637 - acc: 0.954 - ETA: 2s - loss: 0.1639 - acc: 0.953 - ETA: 2s - loss: 0.1574 - acc: 0.956 - ETA: 2s - loss: 0.1519 - acc: 0.958 - ETA: 2s - loss: 0.1554 - acc: 0.953 - ETA: 2s - loss: 0.1520 - acc: 0.955 - ETA: 1s - loss: 0.1529 - acc: 0.954 - ETA: 1s - loss: 0.1541 - acc: 0.954 - ETA: 1s - loss: 0.1510 - acc: 0.955 - ETA: 1s - loss: 0.1523 - acc: 0.956 - ETA: 1s - loss: 0.1493 - acc: 0.957 - ETA: 1s - loss: 0.1518 - acc: 0.957 - ETA: 1s - loss: 0.1533 - acc: 0.956 - ETA: 1s - loss: 0.1545 - acc: 0.955 - ETA: 1s - loss: 0.1537 - acc: 0.955 - ETA: 1s - loss: 0.1511 - acc: 0.956 - ETA: 1s - loss: 0.1498 - acc: 0.956 - ETA: 1s - loss: 0.1492 - acc: 0.957 - ETA: 1s - loss: 0.1495 - acc: 0.957 - ETA: 1s - loss: 0.1482 - acc: 0.957 - ETA: 1s - loss: 0.1489 - acc: 0.958 - ETA: 1s - loss: 0.1593 - acc: 0.956 - ETA: 1s - loss: 0.1607 - acc: 0.956 - ETA: 1s - loss: 0.1611 - acc: 0.955 - ETA: 1s - loss: 0.1586 - acc: 0.956 - ETA: 1s - loss: 0.1575 - acc: 0.957 - ETA: 1s - loss: 0.1557 - acc: 0.958 - ETA: 1s - loss: 0.1530 - acc: 0.959 - ETA: 1s - loss: 0.1515 - acc: 0.959 - ETA: 1s - loss: 0.1522 - acc: 0.959 - ETA: 1s - loss: 0.1550 - acc: 0.958 - ETA: 1s - loss: 0.1584 - acc: 0.956 - ETA: 1s - loss: 0.1579 - acc: 0.956 - ETA: 0s - loss: 0.1564 - acc: 0.956 - ETA: 0s - loss: 0.1578 - acc: 0.956 - ETA: 0s - loss: 0.1570 - acc: 0.957 - ETA: 0s - loss: 0.1592 - acc: 0.956 - ETA: 0s - loss: 0.1569 - acc: 0.956 - ETA: 0s - loss: 0.1556 - acc: 0.957 - ETA: 0s - loss: 0.1542 - acc: 0.958 - ETA: 0s - loss: 0.1554 - acc: 0.958 - ETA: 0s - loss: 0.1560 - acc: 0.957 - ETA: 0s - loss: 0.1568 - acc: 0.957 - ETA: 0s - loss: 0.1549 - acc: 0.958 - ETA: 0s - loss: 0.1528 - acc: 0.958 - 6s 3ms/step - loss: 0.1531 - acc: 0.9583 - val_loss: 2.7544 - val_acc: 0.5941\n",
      "{'val_loss': [3.247024756605907, 2.4310146839387956, 2.156082905748839, 2.1886253151842343, 2.1975789544402913, 2.3814141660608272, 2.48906849532999, 2.5322538216908774, 2.6125531991322837, 2.7544045140666347], 'val_acc': [0.22043010816779188, 0.41666666730757684, 0.48924731246886716, 0.5107526875311329, 0.5161290335398848, 0.5537634395783947, 0.5618279563483372, 0.5752688172043011, 0.5752688165633909, 0.5940860208644662], 'loss': [3.8784451145374796, 2.3672173830770675, 1.4621654187931734, 1.0107899309335668, 0.7170360676477711, 0.5276256536170699, 0.39184670164417723, 0.3154190149320823, 0.22815477799984715, 0.15314332394378236], 'acc': [0.07685009487666034, 0.40891840641141164, 0.617647059049733, 0.740512334192048, 0.8031309301305767, 0.8444022767005428, 0.8875711571559508, 0.8989563563969375, 0.9407020869472221, 0.95825426911041]}\n"
     ]
    }
   ],
   "source": [
    "ganguly.compile(loss='categorical_crossentropy',\n",
    "              optimizer='adam',\n",
    "              metrics=['accuracy'])\n",
    "feeds=ganguly.fit(x=X_train_arr,y=y_train_arr,epochs=10,validation_data=(X_val_arr,y_val_arr))\n",
    "print(feeds.history)"
   ]
  },
  {
   "cell_type": "code",
   "execution_count": 9,
   "metadata": {},
   "outputs": [
    {
     "name": "stdout",
     "output_type": "stream",
     "text": [
      "Final accuracy on the training data is: 0.95825426911041\n",
      "Cross_Validating accuracy is: 0.5940860208644662\n"
     ]
    }
   ],
   "source": [
    "print(\"Final accuracy on the training data is:\",feeds.history['acc'][-1]);\n",
    "print(\"Cross_Validating accuracy is:\",feeds.history['val_acc'][-1]);"
   ]
  },
  {
   "cell_type": "markdown",
   "metadata": {},
   "source": [
    "# Testing with some image"
   ]
  },
  {
   "cell_type": "markdown",
   "metadata": {},
   "source": [
    "After we have seen the training accuracy and validation accuracy, we are confident enough to test our output. So I am using an image from our \n",
    "given dataset to check whether it is identified correct. Now since we have trained the model to return a vector. Hence here also the prediction will actually be a vector.\n",
    "We need to find the maximum probability lies on which position. The index of that position is the predicted result. And we can obtain the symbol using the bag of symbol and this index."
   ]
  },
  {
   "cell_type": "code",
   "execution_count": 10,
   "metadata": {},
   "outputs": [
    {
     "data": {
      "text/plain": [
       "<matplotlib.image.AxesImage at 0x1aebfc59cc0>"
      ]
     },
     "execution_count": 10,
     "metadata": {},
     "output_type": "execute_result"
    },
    {
     "data": {
      "image/png": "[encoded data removed]",
      "text/plain": [
       "<Figure size 432x288 with 1 Axes>"
      ]
     },
     "metadata": {
      "needs_background": "light"
     },
     "output_type": "display_data"
    }
   ],
   "source": [
    "img=cv2.imread(\"D://datasets//IIIT_D//train//Sample005//img005-001.png\",cv2.IMREAD_GRAYSCALE)/255\n",
    "img1=np.reshape((cv2.resize(img,(50,50))),(50,50,1))\n",
    "plt.imshow(img,cmap=plt.cm.binary)"
   ]
  },
  {
   "cell_type": "code",
   "execution_count": 12,
   "metadata": {},
   "outputs": [
    {
     "name": "stdout",
     "output_type": "stream",
     "text": [
      "4 with accuracy of 0.99976295\n"
     ]
    }
   ],
   "source": [
    "predict=ganguly.predict(np.array([img1]))[0]\n",
    "acc=max(predict)\n",
    "val=np.argmax(predict)\n",
    "print(bag[val],\"with accuracy of\",acc)"
   ]
  },
  {
   "cell_type": "code",
   "execution_count": 16,
   "metadata": {},
   "outputs": [
    {
     "data": {
      "text/plain": [
       "<matplotlib.image.AxesImage at 0x1aebfdb2da0>"
      ]
     },
     "execution_count": 16,
     "metadata": {},
     "output_type": "execute_result"
    },
    {
     "data": {
      "image/png": "[encoded data removed]",
      "text/plain": [
       "<Figure size 432x288 with 1 Axes>"
      ]
     },
     "metadata": {
      "needs_background": "light"
     },
     "output_type": "display_data"
    }
   ],
   "source": [
    "img=cv2.imread(\"D://datasets//IIIT_D//train//Sample015//img015-028.png\",cv2.IMREAD_GRAYSCALE)/255\n",
    "img1=np.reshape((cv2.resize(img,(50,50))),(50,50,1))\n",
    "plt.imshow(img,cmap=plt.cm.binary)"
   ]
  },
  {
   "cell_type": "code",
   "execution_count": 17,
   "metadata": {},
   "outputs": [
    {
     "name": "stdout",
     "output_type": "stream",
     "text": [
      "E with accuracy of 0.9995685\n"
     ]
    }
   ],
   "source": [
    "predict=ganguly.predict(np.array([img1]))[0]\n",
    "acc=max(predict)\n",
    "val=np.argmax(predict)\n",
    "print(bag[val],\"with accuracy of\",acc)"
   ]
  },
  {
   "cell_type": "code",
   "execution_count": 18,
   "metadata": {},
   "outputs": [
    {
     "data": {
      "text/plain": [
       "<matplotlib.image.AxesImage at 0x1aebfe1d390>"
      ]
     },
     "execution_count": 18,
     "metadata": {},
     "output_type": "execute_result"
    },
    {
     "data": {
      "image/png": "[encoded data removed]",
      "text/plain": [
       "<Figure size 432x288 with 1 Axes>"
      ]
     },
     "metadata": {
      "needs_background": "light"
     },
     "output_type": "display_data"
    }
   ],
   "source": [
    "img=cv2.imread(\"D://datasets//IIIT_D//train//Sample019//img019-028.png\",cv2.IMREAD_GRAYSCALE)/255\n",
    "img1=np.reshape((cv2.resize(img,(50,50))),(50,50,1))\n",
    "plt.imshow(img,cmap=plt.cm.binary)"
   ]
  },
  {
   "cell_type": "code",
   "execution_count": 19,
   "metadata": {},
   "outputs": [
    {
     "name": "stdout",
     "output_type": "stream",
     "text": [
      "I with accuracy of 0.99707603\n"
     ]
    }
   ],
   "source": [
    "predict=ganguly.predict(np.array([img1]))[0]\n",
    "acc=max(predict)\n",
    "val=np.argmax(predict)\n",
    "print(bag[val],\"with accuracy of\",acc)"
   ]
  },
  {
   "cell_type": "code",
   "execution_count": 20,
   "metadata": {},
   "outputs": [
    {
     "data": {
      "text/plain": [
       "<matplotlib.image.AxesImage at 0x1aebfe7f470>"
      ]
     },
     "execution_count": 20,
     "metadata": {},
     "output_type": "execute_result"
    },
    {
     "data": {
      "image/png": "[encoded data removed]",
      "text/plain": [
       "<Figure size 432x288 with 1 Axes>"
      ]
     },
     "metadata": {
      "needs_background": "light"
     },
     "output_type": "display_data"
    }
   ],
   "source": [
    "img=cv2.imread(\"D://datasets//IIIT_D//train//Sample058//img058-008.png\",cv2.IMREAD_GRAYSCALE)/255\n",
    "img1=np.reshape((cv2.resize(img,(50,50))),(50,50,1))\n",
    "plt.imshow(img,cmap=plt.cm.binary)"
   ]
  },
  {
   "cell_type": "code",
   "execution_count": 21,
   "metadata": {},
   "outputs": [
    {
     "name": "stdout",
     "output_type": "stream",
     "text": [
      "v with accuracy of 0.7134731\n"
     ]
    }
   ],
   "source": [
    "predict=ganguly.predict(np.array([img1]))[0]\n",
    "acc=max(predict)\n",
    "val=np.argmax(predict)\n",
    "print(bag[val],\"with accuracy of\",acc)"
   ]
  }
 ],
 "metadata": {
  "kernelspec": {
   "display_name": "Python 3",
   "language": "python",
   "name": "python3"
  },
  "language_info": {
   "codemirror_mode": {
    "name": "ipython",
    "version": 3
   },
   "file_extension": ".py",
   "mimetype": "text/x-python",
   "name": "python",
   "nbconvert_exporter": "python",
   "pygments_lexer": "ipython3",
   "version": "3.6.8"
  }
 },
 "nbformat": 4,
 "nbformat_minor": 2
}
