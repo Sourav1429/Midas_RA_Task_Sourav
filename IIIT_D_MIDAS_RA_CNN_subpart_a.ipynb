{
 "cells": [
  {
   "cell_type": "markdown",
   "metadata": {},
   "source": [
    "# Importing all the necessary files and modules. "
   ]
  },
  {
   "cell_type": "markdown",
   "metadata": {},
   "source": [
    "Our first step to CNN model starts with the listing of all the important modules.\n",
    "1) cv2: Used for importing images and converting it into numpy array\n",
    "2) Matplotlib: Since in Jupyter notebook we cannot use cv2.imshow() as it creates a small issue. Hence using imshow() in matplotlib.pyplot\n",
    "    for displaying the image\n",
    "3) tensorflow: to call the backend or suppoting Keras API.\n",
    "4) Dense, Dropout, Activation,Flatten: Creating the network used for desigining the CNN architecture\n",
    "5) OS: To locate files after downloading the file, from local machine\n",
    "6) tqdm: To give a professional loading info and look when the images are being loaded from local machine\n",
    "7) numpy: For reshaping and creating arrays for numerical calculation"
   ]
  },
  {
   "cell_type": "code",
   "execution_count": 1,
   "metadata": {},
   "outputs": [
    {
     "name": "stderr",
     "output_type": "stream",
     "text": [
      "D:\\anaconda\\lib\\site-packages\\tensorflow\\python\\framework\\dtypes.py:523: FutureWarning: Passing (type, 1) or '1type' as a synonym of type is deprecated; in a future version of numpy, it will be understood as (type, (1,)) / '(1,)type'.\n",
      "  _np_qint8 = np.dtype([(\"qint8\", np.int8, 1)])\n",
      "D:\\anaconda\\lib\\site-packages\\tensorflow\\python\\framework\\dtypes.py:524: FutureWarning: Passing (type, 1) or '1type' as a synonym of type is deprecated; in a future version of numpy, it will be understood as (type, (1,)) / '(1,)type'.\n",
      "  _np_quint8 = np.dtype([(\"quint8\", np.uint8, 1)])\n",
      "D:\\anaconda\\lib\\site-packages\\tensorflow\\python\\framework\\dtypes.py:525: FutureWarning: Passing (type, 1) or '1type' as a synonym of type is deprecated; in a future version of numpy, it will be understood as (type, (1,)) / '(1,)type'.\n",
      "  _np_qint16 = np.dtype([(\"qint16\", np.int16, 1)])\n",
      "D:\\anaconda\\lib\\site-packages\\tensorflow\\python\\framework\\dtypes.py:526: FutureWarning: Passing (type, 1) or '1type' as a synonym of type is deprecated; in a future version of numpy, it will be understood as (type, (1,)) / '(1,)type'.\n",
      "  _np_quint16 = np.dtype([(\"quint16\", np.uint16, 1)])\n",
      "D:\\anaconda\\lib\\site-packages\\tensorflow\\python\\framework\\dtypes.py:527: FutureWarning: Passing (type, 1) or '1type' as a synonym of type is deprecated; in a future version of numpy, it will be understood as (type, (1,)) / '(1,)type'.\n",
      "  _np_qint32 = np.dtype([(\"qint32\", np.int32, 1)])\n",
      "D:\\anaconda\\lib\\site-packages\\tensorflow\\python\\framework\\dtypes.py:532: FutureWarning: Passing (type, 1) or '1type' as a synonym of type is deprecated; in a future version of numpy, it will be understood as (type, (1,)) / '(1,)type'.\n",
      "  np_resource = np.dtype([(\"resource\", np.ubyte, 1)])\n",
      "Using TensorFlow backend.\n"
     ]
    }
   ],
   "source": [
    "import cv2\n",
    "import matplotlib.pyplot as plt\n",
    "from tensorflow import keras\n",
    "from keras.models import Sequential\n",
    "from keras.layers import Dense, Dropout, Activation, Flatten\n",
    "from keras.layers import Convolution2D,Conv2D, MaxPooling2D\n",
    "from keras.utils import np_utils\n",
    "import os\n",
    "from tqdm import tqdm\n",
    "import numpy as np"
   ]
  },
  {
   "cell_type": "markdown",
   "metadata": {},
   "source": [
    "# Next Step: Defining the path where the dataset is stored in local Machine"
   ]
  },
  {
   "cell_type": "code",
   "execution_count": 2,
   "metadata": {},
   "outputs": [],
   "source": [
    "path=\"D://datasets//IIIT_D//train\";#path where the dataset is downloaded in my machine\n",
    "fol=os.listdir(path)#list of files in the 'train' folder in the location D:\\datasets\\IIIT_D\\train"
   ]
  },
  {
   "cell_type": "markdown",
   "metadata": {},
   "source": [
    "# Start of Preprocessing"
   ]
  },
  {
   "cell_type": "markdown",
   "metadata": {},
   "source": [
    "Next steps include a) create a bag of symbols so that we can assign a unique number to each symbol as below\n",
    "b) Also define a one_hot() which will create a one hot vector. Although for now it creates a list of zeros to conquer the dimensionality\n",
    "issue faced during the training. But will be later converted into a numpy array.\n",
    "So the vector is of size 62(62 unique characters in the dataset.)"
   ]
  },
  {
   "cell_type": "code",
   "execution_count": 3,
   "metadata": {},
   "outputs": [],
   "source": [
    "X,y=list(),list();#define empty list for acquiring training and testing data\n",
    "size=len(fol);\n",
    "#next create a bag of symbols which will be a dictionary\n",
    "bag={0:'0',1:'1',2:'2',3:'3',4:'4',5:'5',6:'6',7:'7',8:'8',9:'9',10:'A',11:'B',12:'C',13:'D',14:'E',15:'F',16:'G',17:'H',\n",
    "    18:'I',19:'J',20:'K',21:'L',22:'M',23:'N',24:'O',25:'P',26:'Q',27:'R',28:'S',29:'T',30:'U',31:'V',32:'W',33:'X',34:'Y',\n",
    "    35:'Z',36:'a',37:'b',38:'c',39:'d',40:'e',41:'f',42:'g',43:'h',44:'i',45:'j',46:'k',47:'l',48:'m',\n",
    "     49:'n',50:'o',51:'p',52:'q',53:'r',54:'s',55:'t',56:'u',57:'v',58:'w',59:'x',60:'y',61:'z'};\n",
    "#define our one_hot vector\n",
    "def one_hot(val,size):\n",
    "    a=np.array([0]*size);\n",
    "    a[val]=1;\n",
    "    return a;"
   ]
  },
  {
   "cell_type": "markdown",
   "metadata": {},
   "source": [
    "# Next Step: Accessing the dataset from the local machine in X and y lists."
   ]
  },
  {
   "cell_type": "markdown",
   "metadata": {},
   "source": [
    "So first we create a list of all the files in the 'path' mentioned above. Also keep a track of the position of each file using a \n",
    "counter in form of the variable 'val'. Then the folders under the 'path' mentioned above are explored one by one which contains the pictures.\n",
    "Here only one thing to be noted which can change the full results is the order of the files must comply with the bag of symbols\n",
    "i.e. the first file namely Sample001 in the given dataset which is actually pictures of '0' written in handwritten must comply \n",
    "with the first symbol in our bag of symbol which is '0'."
   ]
  },
  {
   "cell_type": "code",
   "execution_count": 4,
   "metadata": {},
   "outputs": [
    {
     "name": "stderr",
     "output_type": "stream",
     "text": [
      "62it [01:53,  1.78s/it]\n"
     ]
    }
   ],
   "source": [
    "for val,i in tqdm(enumerate(fol)):\n",
    "    path_n=os.path.join(path,i);\n",
    "    for img_n in os.listdir(path_n):\n",
    "        img=cv2.imread(os.path.join(path_n,img_n),cv2.IMREAD_GRAYSCALE)/255#normalize by dividing by 255 for better results.\n",
    "        X.append((np.reshape(cv2.resize(img,(50,50)),(50,50,1))))#initially we obtained a 2d array. In order to fit it in our keras CNN model, we had to convert it into a 3d model. Also the image is downsized to avoid OOM (Out of Memory) exception\n",
    "        y.append(one_hot(val,size))#store our results by converting it into a one-hot vector. Here the enumerate () returning counter val palys a very important role."
   ]
  },
  {
   "cell_type": "markdown",
   "metadata": {},
   "source": [
    "# Splitting the dataset"
   ]
  },
  {
   "cell_type": "markdown",
   "metadata": {},
   "source": [
    "The data is splitted into training and cross validation sets. Cross validation size 15% of total data. It aids our results and gives a genuine boost\n",
    "in our accuracy"
   ]
  },
  {
   "cell_type": "code",
   "execution_count": 5,
   "metadata": {},
   "outputs": [],
   "source": [
    "from sklearn.model_selection import train_test_split\n",
    "X_train,X_val,y_train,y_val=train_test_split(X,y,test_size=0.15, random_state=42)\n",
    "X_train_arr=np.array(X_train)\n",
    "X_val_arr=np.array(X_val)\n",
    "y_train_arr=np.array(y_train)\n",
    "y_val_arr=np.array(y_val)\n",
    "_,h,w,d=X_train_arr.shape"
   ]
  },
  {
   "cell_type": "markdown",
   "metadata": {},
   "source": [
    "# Create CNN model the feed forward network"
   ]
  },
  {
   "cell_type": "markdown",
   "metadata": {},
   "source": [
    "All set and done with the processing. Lets now create a training CNN network. After lots of optimization I have narrowed it down \n",
    "to the below network. It is a sequential model Cosisting of 2 Convolution layer following which we have a MaxPooling layer to \n",
    "pull out the maximum value of each 2x2 kernel and use pass it to the next layer. To avoid plagiarism I have used my surname as the variable.\n",
    "Although some keywords were manditory to use and could not help there. Ok as we can in the summary below, it gives us a rough idea of the feed forward network.\n",
    "Trainable parameters mean the weights and bias values that are initially assumed to be random values and are to be optimized later during the subsequent epochs.\n",
    "The Keras model has taken care of the backpropagation training process for us."
   ]
  },
  {
   "cell_type": "code",
   "execution_count": 6,
   "metadata": {},
   "outputs": [],
   "source": [
    "ganguly = Sequential()\n",
    "ganguly.add(Conv2D(124, kernel_size=(3, 3), activation='relu', input_shape=(h,w,d)))\n",
    "ganguly.add(MaxPooling2D(pool_size=(2, 2)))\n",
    "ganguly.add(Conv2D(248, kernel_size=(3, 3), activation='relu'))\n",
    "ganguly.add(MaxPooling2D(pool_size=(2, 2)))\n",
    "ganguly.add(Conv2D(400, kernel_size=(3, 3), activation='relu'))\n",
    "ganguly.add(MaxPooling2D(pool_size=(2, 2)))\n",
    "ganguly.add(Flatten())\n",
    "ganguly.add(Dense(248, activation='relu'))\n",
    "ganguly.add(Dense(124, activation='relu'))\n",
    "ganguly.add(Dense(62, activation='softmax'))"
   ]
  },
  {
   "cell_type": "code",
   "execution_count": 7,
   "metadata": {},
   "outputs": [
    {
     "name": "stdout",
     "output_type": "stream",
     "text": [
      "_________________________________________________________________\n",
      "Layer (type)                 Output Shape              Param #   \n",
      "=================================================================\n",
      "conv2d_1 (Conv2D)            (None, 48, 48, 124)       1240      \n",
      "_________________________________________________________________\n",
      "max_pooling2d_1 (MaxPooling2 (None, 24, 24, 124)       0         \n",
      "_________________________________________________________________\n",
      "conv2d_2 (Conv2D)            (None, 22, 22, 248)       277016    \n",
      "_________________________________________________________________\n",
      "max_pooling2d_2 (MaxPooling2 (None, 11, 11, 248)       0         \n",
      "_________________________________________________________________\n",
      "conv2d_3 (Conv2D)            (None, 9, 9, 400)         893200    \n",
      "_________________________________________________________________\n",
      "max_pooling2d_3 (MaxPooling2 (None, 4, 4, 400)         0         \n",
      "_________________________________________________________________\n",
      "flatten_1 (Flatten)          (None, 6400)              0         \n",
      "_________________________________________________________________\n",
      "dense_1 (Dense)              (None, 248)               1587448   \n",
      "_________________________________________________________________\n",
      "dense_2 (Dense)              (None, 124)               30876     \n",
      "_________________________________________________________________\n",
      "dense_3 (Dense)              (None, 62)                7750      \n",
      "=================================================================\n",
      "Total params: 2,797,530\n",
      "Trainable params: 2,797,530\n",
      "Non-trainable params: 0\n",
      "_________________________________________________________________\n"
     ]
    }
   ],
   "source": [
    "ganguly.summary()"
   ]
  },
  {
   "cell_type": "markdown",
   "metadata": {},
   "source": [
    "# Training and compiling the network"
   ]
  },
  {
   "cell_type": "markdown",
   "metadata": {},
   "source": [
    "So our next step is just use the above network to train our value. Now to measure the loss we use cross_entropy and optimze it with Adam's optimization.\n",
    "Finally feed the value with traing data and expected results of the data and cross validating against X_val_arr and y_val_arr"
   ]
  },
  {
   "cell_type": "code",
   "execution_count": 8,
   "metadata": {},
   "outputs": [
    {
     "name": "stdout",
     "output_type": "stream",
     "text": [
      "Train on 2108 samples, validate on 372 samples\n",
      "Epoch 1/10\n",
      "2108/2108 [==============================] - ETA: 17:43 - loss: 4.1296 - acc: 0.0000e+ - ETA: 8:45 - loss: 4.1261 - acc: 0.0000e+00 - ETA: 5:46 - loss: 4.1646 - acc: 0.0000e+0 - ETA: 4:16 - loss: 4.1618 - acc: 0.0078    - ETA: 3:22 - loss: 4.1484 - acc: 0.018 - ETA: 2:46 - loss: 4.1514 - acc: 0.015 - ETA: 2:20 - loss: 4.1491 - acc: 0.017 - ETA: 2:01 - loss: 4.1454 - acc: 0.019 - ETA: 1:46 - loss: 4.1447 - acc: 0.020 - ETA: 1:34 - loss: 4.1431 - acc: 0.025 - ETA: 1:24 - loss: 4.1409 - acc: 0.025 - ETA: 1:17 - loss: 4.1406 - acc: 0.023 - ETA: 1:10 - loss: 4.1391 - acc: 0.021 - ETA: 1:04 - loss: 4.1386 - acc: 0.020 - ETA: 59s - loss: 4.1371 - acc: 0.020 - ETA: 55s - loss: 4.1358 - acc: 0.02 - ETA: 51s - loss: 4.1358 - acc: 0.02 - ETA: 47s - loss: 4.1368 - acc: 0.02 - ETA: 44s - loss: 4.1377 - acc: 0.01 - ETA: 42s - loss: 4.1378 - acc: 0.01 - ETA: 39s - loss: 4.1369 - acc: 0.01 - ETA: 37s - loss: 4.1366 - acc: 0.01 - ETA: 34s - loss: 4.1362 - acc: 0.01 - ETA: 32s - loss: 4.1359 - acc: 0.01 - ETA: 31s - loss: 4.1357 - acc: 0.01 - ETA: 29s - loss: 4.1355 - acc: 0.01 - ETA: 27s - loss: 4.1353 - acc: 0.01 - ETA: 26s - loss: 4.1349 - acc: 0.01 - ETA: 24s - loss: 4.1347 - acc: 0.01 - ETA: 23s - loss: 4.1345 - acc: 0.01 - ETA: 22s - loss: 4.1342 - acc: 0.01 - ETA: 21s - loss: 4.1341 - acc: 0.01 - ETA: 20s - loss: 4.1339 - acc: 0.01 - ETA: 19s - loss: 4.1337 - acc: 0.01 - ETA: 18s - loss: 4.1335 - acc: 0.01 - ETA: 17s - loss: 4.1334 - acc: 0.01 - ETA: 16s - loss: 4.1331 - acc: 0.01 - ETA: 15s - loss: 4.1330 - acc: 0.01 - ETA: 14s - loss: 4.1326 - acc: 0.01 - ETA: 13s - loss: 4.1323 - acc: 0.01 - ETA: 12s - loss: 4.1314 - acc: 0.01 - ETA: 12s - loss: 4.1306 - acc: 0.01 - ETA: 11s - loss: 4.1294 - acc: 0.01 - ETA: 10s - loss: 4.1307 - acc: 0.01 - ETA: 9s - loss: 4.1332 - acc: 0.0181 - ETA: 9s - loss: 4.1325 - acc: 0.018 - ETA: 8s - loss: 4.1329 - acc: 0.018 - ETA: 8s - loss: 4.1325 - acc: 0.018 - ETA: 7s - loss: 4.1323 - acc: 0.018 - ETA: 6s - loss: 4.1320 - acc: 0.019 - ETA: 6s - loss: 4.1318 - acc: 0.019 - ETA: 5s - loss: 4.1316 - acc: 0.019 - ETA: 5s - loss: 4.1313 - acc: 0.020 - ETA: 4s - loss: 4.1311 - acc: 0.019 - ETA: 4s - loss: 4.1308 - acc: 0.020 - ETA: 3s - loss: 4.1304 - acc: 0.020 - ETA: 3s - loss: 4.1303 - acc: 0.020 - ETA: 3s - loss: 4.1299 - acc: 0.020 - ETA: 2s - loss: 4.1299 - acc: 0.020 - ETA: 2s - loss: 4.1295 - acc: 0.020 - ETA: 1s - loss: 4.1289 - acc: 0.021 - ETA: 1s - loss: 4.1287 - acc: 0.020 - ETA: 1s - loss: 4.1284 - acc: 0.020 - ETA: 0s - loss: 4.1276 - acc: 0.021 - ETA: 0s - loss: 4.1261 - acc: 0.022 - 25s 12ms/step - loss: 4.1250 - acc: 0.0228 - val_loss: 4.0424 - val_acc: 0.0188\n",
      "Epoch 2/10\n",
      "2108/2108 [==============================] - ETA: 3s - loss: 4.0118 - acc: 0.062 - ETA: 3s - loss: 4.0686 - acc: 0.031 - ETA: 3s - loss: 4.0205 - acc: 0.041 - ETA: 5s - loss: 3.9950 - acc: 0.046 - ETA: 6s - loss: 3.9622 - acc: 0.050 - ETA: 6s - loss: 3.9542 - acc: 0.041 - ETA: 6s - loss: 3.9314 - acc: 0.044 - ETA: 6s - loss: 3.9059 - acc: 0.058 - ETA: 6s - loss: 3.9128 - acc: 0.055 - ETA: 6s - loss: 3.9147 - acc: 0.050 - ETA: 6s - loss: 3.9081 - acc: 0.056 - ETA: 6s - loss: 3.8916 - acc: 0.059 - ETA: 6s - loss: 3.8875 - acc: 0.060 - ETA: 6s - loss: 3.8821 - acc: 0.062 - ETA: 6s - loss: 3.8644 - acc: 0.064 - ETA: 6s - loss: 3.8689 - acc: 0.066 - ETA: 6s - loss: 3.8573 - acc: 0.071 - ETA: 6s - loss: 3.8449 - acc: 0.072 - ETA: 6s - loss: 3.8279 - acc: 0.074 - ETA: 5s - loss: 3.8191 - acc: 0.073 - ETA: 5s - loss: 3.8004 - acc: 0.077 - ETA: 5s - loss: 3.8040 - acc: 0.076 - ETA: 5s - loss: 3.7931 - acc: 0.080 - ETA: 5s - loss: 3.7878 - acc: 0.079 - ETA: 5s - loss: 3.7923 - acc: 0.078 - ETA: 5s - loss: 3.7876 - acc: 0.079 - ETA: 5s - loss: 3.7856 - acc: 0.078 - ETA: 4s - loss: 3.7815 - acc: 0.077 - ETA: 4s - loss: 3.7831 - acc: 0.077 - ETA: 4s - loss: 3.7773 - acc: 0.080 - ETA: 4s - loss: 3.7603 - acc: 0.082 - ETA: 4s - loss: 3.7632 - acc: 0.080 - ETA: 4s - loss: 3.7524 - acc: 0.082 - ETA: 3s - loss: 3.7440 - acc: 0.083 - ETA: 3s - loss: 3.7345 - acc: 0.085 - ETA: 3s - loss: 3.7297 - acc: 0.085 - ETA: 3s - loss: 3.7223 - acc: 0.087 - ETA: 3s - loss: 3.7210 - acc: 0.086 - ETA: 3s - loss: 3.7140 - acc: 0.085 - ETA: 3s - loss: 3.7123 - acc: 0.084 - ETA: 3s - loss: 3.7076 - acc: 0.084 - ETA: 3s - loss: 3.6942 - acc: 0.085 - ETA: 2s - loss: 3.6824 - acc: 0.087 - ETA: 2s - loss: 3.6731 - acc: 0.087 - ETA: 2s - loss: 3.6686 - acc: 0.088 - ETA: 2s - loss: 3.6624 - acc: 0.088 - ETA: 2s - loss: 3.6664 - acc: 0.088 - ETA: 2s - loss: 3.6636 - acc: 0.089 - ETA: 2s - loss: 3.6631 - acc: 0.089 - ETA: 2s - loss: 3.6579 - acc: 0.090 - ETA: 1s - loss: 3.6499 - acc: 0.093 - ETA: 1s - loss: 3.6390 - acc: 0.095 - ETA: 1s - loss: 3.6353 - acc: 0.096 - ETA: 1s - loss: 3.6260 - acc: 0.098 - ETA: 1s - loss: 3.6251 - acc: 0.098 - ETA: 1s - loss: 3.6147 - acc: 0.099 - ETA: 1s - loss: 3.6041 - acc: 0.100 - ETA: 1s - loss: 3.5916 - acc: 0.102 - ETA: 0s - loss: 3.5872 - acc: 0.103 - ETA: 0s - loss: 3.5851 - acc: 0.103 - ETA: 0s - loss: 3.5825 - acc: 0.105 - ETA: 0s - loss: 3.5748 - acc: 0.107 - ETA: 0s - loss: 3.5671 - acc: 0.109 - ETA: 0s - loss: 3.5644 - acc: 0.107 - ETA: 0s - loss: 3.5586 - acc: 0.109 - 9s 4ms/step - loss: 3.5584 - acc: 0.1110 - val_loss: 3.3045 - val_acc: 0.1640\n",
      "Epoch 3/10\n",
      "2108/2108 [==============================] - ETA: 8s - loss: 3.1455 - acc: 0.312 - ETA: 8s - loss: 3.1061 - acc: 0.250 - ETA: 8s - loss: 3.1050 - acc: 0.239 - ETA: 8s - loss: 3.1473 - acc: 0.234 - ETA: 8s - loss: 3.0585 - acc: 0.250 - ETA: 8s - loss: 3.0527 - acc: 0.244 - ETA: 8s - loss: 2.9928 - acc: 0.250 - ETA: 8s - loss: 2.9589 - acc: 0.250 - ETA: 7s - loss: 2.9533 - acc: 0.256 - ETA: 7s - loss: 2.8723 - acc: 0.262 - ETA: 7s - loss: 2.8422 - acc: 0.269 - ETA: 7s - loss: 2.8058 - acc: 0.276 - ETA: 7s - loss: 2.7984 - acc: 0.274 - ETA: 7s - loss: 2.8001 - acc: 0.274 - ETA: 7s - loss: 2.8017 - acc: 0.272 - ETA: 6s - loss: 2.7908 - acc: 0.275 - ETA: 6s - loss: 2.7891 - acc: 0.275 - ETA: 6s - loss: 2.7740 - acc: 0.279 - ETA: 6s - loss: 2.7778 - acc: 0.281 - ETA: 6s - loss: 2.7684 - acc: 0.287 - ETA: 6s - loss: 2.7499 - acc: 0.290 - ETA: 5s - loss: 2.7222 - acc: 0.295 - ETA: 5s - loss: 2.7142 - acc: 0.296 - ETA: 5s - loss: 2.7239 - acc: 0.293 - ETA: 5s - loss: 2.7292 - acc: 0.290 - ETA: 4s - loss: 2.7422 - acc: 0.283 - ETA: 4s - loss: 2.7405 - acc: 0.285 - ETA: 4s - loss: 2.7333 - acc: 0.284 - ETA: 4s - loss: 2.7174 - acc: 0.289 - ETA: 4s - loss: 2.6968 - acc: 0.297 - ETA: 3s - loss: 2.6794 - acc: 0.303 - ETA: 3s - loss: 2.6784 - acc: 0.302 - ETA: 3s - loss: 2.6753 - acc: 0.300 - ETA: 3s - loss: 2.6571 - acc: 0.306 - ETA: 3s - loss: 2.6395 - acc: 0.310 - ETA: 3s - loss: 2.6399 - acc: 0.312 - ETA: 3s - loss: 2.6445 - acc: 0.313 - ETA: 3s - loss: 2.6246 - acc: 0.318 - ETA: 3s - loss: 2.6204 - acc: 0.316 - ETA: 3s - loss: 2.6095 - acc: 0.320 - ETA: 2s - loss: 2.6056 - acc: 0.322 - ETA: 2s - loss: 2.5885 - acc: 0.328 - ETA: 2s - loss: 2.5671 - acc: 0.329 - ETA: 2s - loss: 2.5558 - acc: 0.331 - ETA: 2s - loss: 2.5552 - acc: 0.329 - ETA: 2s - loss: 2.5474 - acc: 0.330 - ETA: 2s - loss: 2.5387 - acc: 0.333 - ETA: 2s - loss: 2.5382 - acc: 0.334 - ETA: 2s - loss: 2.5369 - acc: 0.334 - ETA: 1s - loss: 2.5294 - acc: 0.335 - ETA: 1s - loss: 2.5229 - acc: 0.337 - ETA: 1s - loss: 2.5185 - acc: 0.335 - ETA: 1s - loss: 2.5139 - acc: 0.333 - ETA: 1s - loss: 2.4992 - acc: 0.336 - ETA: 1s - loss: 2.4916 - acc: 0.340 - ETA: 1s - loss: 2.4891 - acc: 0.341 - ETA: 1s - loss: 2.4730 - acc: 0.345 - ETA: 0s - loss: 2.4663 - acc: 0.346 - ETA: 0s - loss: 2.4593 - acc: 0.348 - ETA: 0s - loss: 2.4522 - acc: 0.351 - ETA: 0s - loss: 2.4493 - acc: 0.351 - ETA: 0s - loss: 2.4454 - acc: 0.352 - ETA: 0s - loss: 2.4393 - acc: 0.351 - ETA: 0s - loss: 2.4327 - acc: 0.354 - ETA: 0s - loss: 2.4279 - acc: 0.356 - 9s 4ms/step - loss: 2.4189 - acc: 0.3591 - val_loss: 2.2344 - val_acc: 0.4382\n",
      "Epoch 4/10\n"
     ]
    },
    {
     "name": "stdout",
     "output_type": "stream",
     "text": [
      "2108/2108 [==============================] - ETA: 8s - loss: 1.7626 - acc: 0.375 - ETA: 8s - loss: 1.8688 - acc: 0.406 - ETA: 8s - loss: 1.8814 - acc: 0.447 - ETA: 8s - loss: 1.9245 - acc: 0.421 - ETA: 8s - loss: 1.9579 - acc: 0.418 - ETA: 8s - loss: 1.8390 - acc: 0.437 - ETA: 8s - loss: 1.6946 - acc: 0.486 - ETA: 8s - loss: 1.7010 - acc: 0.492 - ETA: 7s - loss: 1.6779 - acc: 0.506 - ETA: 7s - loss: 1.7331 - acc: 0.496 - ETA: 7s - loss: 1.6819 - acc: 0.511 - ETA: 7s - loss: 1.7285 - acc: 0.510 - ETA: 7s - loss: 1.7504 - acc: 0.502 - ETA: 7s - loss: 1.7318 - acc: 0.511 - ETA: 7s - loss: 1.7512 - acc: 0.506 - ETA: 7s - loss: 1.7380 - acc: 0.513 - ETA: 6s - loss: 1.7284 - acc: 0.511 - ETA: 6s - loss: 1.7107 - acc: 0.515 - ETA: 6s - loss: 1.6887 - acc: 0.521 - ETA: 5s - loss: 1.6590 - acc: 0.534 - ETA: 5s - loss: 1.6333 - acc: 0.543 - ETA: 5s - loss: 1.6407 - acc: 0.541 - ETA: 4s - loss: 1.6212 - acc: 0.547 - ETA: 4s - loss: 1.6066 - acc: 0.552 - ETA: 4s - loss: 1.6206 - acc: 0.546 - ETA: 4s - loss: 1.5973 - acc: 0.549 - ETA: 4s - loss: 1.5781 - acc: 0.555 - ETA: 4s - loss: 1.5774 - acc: 0.554 - ETA: 4s - loss: 1.5601 - acc: 0.558 - ETA: 4s - loss: 1.5479 - acc: 0.561 - ETA: 4s - loss: 1.5294 - acc: 0.564 - ETA: 4s - loss: 1.5105 - acc: 0.572 - ETA: 4s - loss: 1.4978 - acc: 0.573 - ETA: 3s - loss: 1.4902 - acc: 0.576 - ETA: 3s - loss: 1.4867 - acc: 0.576 - ETA: 3s - loss: 1.4882 - acc: 0.575 - ETA: 3s - loss: 1.4851 - acc: 0.576 - ETA: 3s - loss: 1.4821 - acc: 0.578 - ETA: 3s - loss: 1.4870 - acc: 0.580 - ETA: 3s - loss: 1.4862 - acc: 0.580 - ETA: 3s - loss: 1.4757 - acc: 0.585 - ETA: 3s - loss: 1.4678 - acc: 0.589 - ETA: 2s - loss: 1.4757 - acc: 0.587 - ETA: 2s - loss: 1.4700 - acc: 0.587 - ETA: 2s - loss: 1.4587 - acc: 0.591 - ETA: 2s - loss: 1.4637 - acc: 0.591 - ETA: 2s - loss: 1.4573 - acc: 0.592 - ETA: 2s - loss: 1.4541 - acc: 0.593 - ETA: 2s - loss: 1.4445 - acc: 0.595 - ETA: 2s - loss: 1.4430 - acc: 0.595 - ETA: 1s - loss: 1.4450 - acc: 0.595 - ETA: 1s - loss: 1.4437 - acc: 0.595 - ETA: 1s - loss: 1.4416 - acc: 0.596 - ETA: 1s - loss: 1.4406 - acc: 0.597 - ETA: 1s - loss: 1.4430 - acc: 0.596 - ETA: 1s - loss: 1.4444 - acc: 0.594 - ETA: 1s - loss: 1.4463 - acc: 0.593 - ETA: 0s - loss: 1.4478 - acc: 0.592 - ETA: 0s - loss: 1.4386 - acc: 0.596 - ETA: 0s - loss: 1.4520 - acc: 0.593 - ETA: 0s - loss: 1.4524 - acc: 0.593 - ETA: 0s - loss: 1.4461 - acc: 0.595 - ETA: 0s - loss: 1.4456 - acc: 0.594 - ETA: 0s - loss: 1.4389 - acc: 0.596 - ETA: 0s - loss: 1.4330 - acc: 0.598 - 9s 4ms/step - loss: 1.4365 - acc: 0.5963 - val_loss: 1.5937 - val_acc: 0.5780\n",
      "Epoch 5/10\n",
      "2108/2108 [==============================] - ETA: 8s - loss: 0.8936 - acc: 0.750 - ETA: 8s - loss: 1.0002 - acc: 0.750 - ETA: 8s - loss: 0.9802 - acc: 0.739 - ETA: 8s - loss: 0.9390 - acc: 0.742 - ETA: 8s - loss: 0.9233 - acc: 0.750 - ETA: 8s - loss: 0.9028 - acc: 0.739 - ETA: 8s - loss: 0.9163 - acc: 0.732 - ETA: 8s - loss: 0.9103 - acc: 0.730 - ETA: 8s - loss: 0.9259 - acc: 0.729 - ETA: 8s - loss: 0.9029 - acc: 0.740 - ETA: 7s - loss: 0.9021 - acc: 0.741 - ETA: 7s - loss: 0.9250 - acc: 0.734 - ETA: 6s - loss: 0.9021 - acc: 0.740 - ETA: 6s - loss: 0.9091 - acc: 0.732 - ETA: 6s - loss: 0.8946 - acc: 0.733 - ETA: 5s - loss: 0.8992 - acc: 0.728 - ETA: 5s - loss: 0.8837 - acc: 0.733 - ETA: 5s - loss: 0.9237 - acc: 0.725 - ETA: 5s - loss: 0.9450 - acc: 0.725 - ETA: 4s - loss: 0.9471 - acc: 0.720 - ETA: 4s - loss: 0.9403 - acc: 0.717 - ETA: 4s - loss: 0.9436 - acc: 0.717 - ETA: 4s - loss: 0.9365 - acc: 0.720 - ETA: 4s - loss: 0.9409 - acc: 0.720 - ETA: 4s - loss: 0.9452 - acc: 0.718 - ETA: 4s - loss: 0.9423 - acc: 0.720 - ETA: 4s - loss: 0.9399 - acc: 0.719 - ETA: 4s - loss: 0.9461 - acc: 0.716 - ETA: 4s - loss: 0.9438 - acc: 0.717 - ETA: 3s - loss: 0.9367 - acc: 0.718 - ETA: 3s - loss: 0.9289 - acc: 0.722 - ETA: 3s - loss: 0.9236 - acc: 0.726 - ETA: 3s - loss: 0.9228 - acc: 0.725 - ETA: 3s - loss: 0.9175 - acc: 0.726 - ETA: 3s - loss: 0.9177 - acc: 0.725 - ETA: 3s - loss: 0.9207 - acc: 0.728 - ETA: 3s - loss: 0.9145 - acc: 0.730 - ETA: 3s - loss: 0.9194 - acc: 0.727 - ETA: 3s - loss: 0.9271 - acc: 0.726 - ETA: 3s - loss: 0.9270 - acc: 0.727 - ETA: 2s - loss: 0.9321 - acc: 0.727 - ETA: 2s - loss: 0.9254 - acc: 0.729 - ETA: 2s - loss: 0.9340 - acc: 0.725 - ETA: 2s - loss: 0.9321 - acc: 0.725 - ETA: 2s - loss: 0.9390 - acc: 0.722 - ETA: 2s - loss: 0.9353 - acc: 0.722 - ETA: 2s - loss: 0.9335 - acc: 0.723 - ETA: 2s - loss: 0.9404 - acc: 0.722 - ETA: 1s - loss: 0.9408 - acc: 0.721 - ETA: 1s - loss: 0.9332 - acc: 0.722 - ETA: 1s - loss: 0.9331 - acc: 0.722 - ETA: 1s - loss: 0.9331 - acc: 0.721 - ETA: 1s - loss: 0.9344 - acc: 0.721 - ETA: 1s - loss: 0.9348 - acc: 0.721 - ETA: 1s - loss: 0.9309 - acc: 0.721 - ETA: 0s - loss: 0.9300 - acc: 0.720 - ETA: 0s - loss: 0.9244 - acc: 0.723 - ETA: 0s - loss: 0.9171 - acc: 0.726 - ETA: 0s - loss: 0.9123 - acc: 0.726 - ETA: 0s - loss: 0.9162 - acc: 0.727 - ETA: 0s - loss: 0.9150 - acc: 0.728 - ETA: 0s - loss: 0.9144 - acc: 0.728 - ETA: 0s - loss: 0.9107 - acc: 0.729 - 8s 4ms/step - loss: 0.9086 - acc: 0.7296 - val_loss: 1.3419 - val_acc: 0.6263\n",
      "Epoch 6/10\n",
      "2108/2108 [==============================] - ETA: 7s - loss: 0.4016 - acc: 0.812 - ETA: 8s - loss: 0.5063 - acc: 0.796 - ETA: 8s - loss: 0.5155 - acc: 0.822 - ETA: 8s - loss: 0.5924 - acc: 0.804 - ETA: 8s - loss: 0.5207 - acc: 0.831 - ETA: 9s - loss: 0.5119 - acc: 0.833 - ETA: 8s - loss: 0.4635 - acc: 0.852 - ETA: 8s - loss: 0.4399 - acc: 0.867 - ETA: 7s - loss: 0.4716 - acc: 0.857 - ETA: 7s - loss: 0.4780 - acc: 0.853 - ETA: 6s - loss: 0.4705 - acc: 0.852 - ETA: 6s - loss: 0.4616 - acc: 0.854 - ETA: 6s - loss: 0.4871 - acc: 0.846 - ETA: 5s - loss: 0.4745 - acc: 0.848 - ETA: 5s - loss: 0.4566 - acc: 0.854 - ETA: 5s - loss: 0.4587 - acc: 0.853 - ETA: 4s - loss: 0.4708 - acc: 0.847 - ETA: 4s - loss: 0.4686 - acc: 0.847 - ETA: 4s - loss: 0.4705 - acc: 0.846 - ETA: 4s - loss: 0.4780 - acc: 0.845 - ETA: 4s - loss: 0.4766 - acc: 0.846 - ETA: 4s - loss: 0.4913 - acc: 0.842 - ETA: 4s - loss: 0.4892 - acc: 0.845 - ETA: 4s - loss: 0.4924 - acc: 0.847 - ETA: 4s - loss: 0.4918 - acc: 0.848 - ETA: 4s - loss: 0.4837 - acc: 0.850 - ETA: 4s - loss: 0.4756 - acc: 0.852 - ETA: 4s - loss: 0.4894 - acc: 0.845 - ETA: 4s - loss: 0.4926 - acc: 0.842 - ETA: 4s - loss: 0.4900 - acc: 0.843 - ETA: 4s - loss: 0.4906 - acc: 0.844 - ETA: 3s - loss: 0.4986 - acc: 0.843 - ETA: 3s - loss: 0.4951 - acc: 0.844 - ETA: 3s - loss: 0.4985 - acc: 0.842 - ETA: 3s - loss: 0.4979 - acc: 0.842 - ETA: 3s - loss: 0.5027 - acc: 0.841 - ETA: 3s - loss: 0.5073 - acc: 0.839 - ETA: 3s - loss: 0.5056 - acc: 0.840 - ETA: 3s - loss: 0.5085 - acc: 0.839 - ETA: 3s - loss: 0.5192 - acc: 0.837 - ETA: 2s - loss: 0.5283 - acc: 0.831 - ETA: 2s - loss: 0.5310 - acc: 0.830 - ETA: 2s - loss: 0.5467 - acc: 0.828 - ETA: 2s - loss: 0.5444 - acc: 0.829 - ETA: 2s - loss: 0.5466 - acc: 0.829 - ETA: 2s - loss: 0.5408 - acc: 0.832 - ETA: 2s - loss: 0.5450 - acc: 0.830 - ETA: 1s - loss: 0.5574 - acc: 0.825 - ETA: 1s - loss: 0.5603 - acc: 0.825 - ETA: 1s - loss: 0.5597 - acc: 0.825 - ETA: 1s - loss: 0.5598 - acc: 0.825 - ETA: 1s - loss: 0.5594 - acc: 0.824 - ETA: 1s - loss: 0.5569 - acc: 0.825 - ETA: 1s - loss: 0.5559 - acc: 0.825 - ETA: 1s - loss: 0.5556 - acc: 0.825 - ETA: 1s - loss: 0.5623 - acc: 0.824 - ETA: 0s - loss: 0.5592 - acc: 0.824 - ETA: 0s - loss: 0.5561 - acc: 0.825 - ETA: 0s - loss: 0.5596 - acc: 0.824 - ETA: 0s - loss: 0.5630 - acc: 0.823 - ETA: 0s - loss: 0.5649 - acc: 0.823 - ETA: 0s - loss: 0.5636 - acc: 0.823 - ETA: 0s - loss: 0.5642 - acc: 0.823 - ETA: 0s - loss: 0.5637 - acc: 0.823 - 9s 4ms/step - loss: 0.5641 - acc: 0.8235 - val_loss: 1.2288 - val_acc: 0.6532\n",
      "Epoch 7/10\n"
     ]
    },
    {
     "name": "stdout",
     "output_type": "stream",
     "text": [
      "2108/2108 [==============================] - ETA: 13s - loss: 0.3964 - acc: 0.90 - ETA: 10s - loss: 0.3782 - acc: 0.89 - ETA: 8s - loss: 0.3367 - acc: 0.8854 - ETA: 7s - loss: 0.3317 - acc: 0.898 - ETA: 6s - loss: 0.3406 - acc: 0.887 - ETA: 6s - loss: 0.4059 - acc: 0.885 - ETA: 5s - loss: 0.3785 - acc: 0.897 - ETA: 5s - loss: 0.3766 - acc: 0.898 - ETA: 5s - loss: 0.3838 - acc: 0.895 - ETA: 5s - loss: 0.3905 - acc: 0.890 - ETA: 5s - loss: 0.3954 - acc: 0.889 - ETA: 6s - loss: 0.3814 - acc: 0.893 - ETA: 6s - loss: 0.3683 - acc: 0.894 - ETA: 6s - loss: 0.3515 - acc: 0.897 - ETA: 5s - loss: 0.3399 - acc: 0.902 - ETA: 5s - loss: 0.3351 - acc: 0.904 - ETA: 5s - loss: 0.3416 - acc: 0.900 - ETA: 5s - loss: 0.3411 - acc: 0.899 - ETA: 5s - loss: 0.3328 - acc: 0.903 - ETA: 5s - loss: 0.3295 - acc: 0.904 - ETA: 5s - loss: 0.3220 - acc: 0.909 - ETA: 5s - loss: 0.3307 - acc: 0.903 - ETA: 5s - loss: 0.3209 - acc: 0.907 - ETA: 5s - loss: 0.3202 - acc: 0.907 - ETA: 5s - loss: 0.3205 - acc: 0.907 - ETA: 5s - loss: 0.3175 - acc: 0.908 - ETA: 4s - loss: 0.3206 - acc: 0.907 - ETA: 4s - loss: 0.3168 - acc: 0.907 - ETA: 4s - loss: 0.3207 - acc: 0.906 - ETA: 4s - loss: 0.3196 - acc: 0.907 - ETA: 4s - loss: 0.3193 - acc: 0.906 - ETA: 4s - loss: 0.3130 - acc: 0.908 - ETA: 4s - loss: 0.3150 - acc: 0.907 - ETA: 4s - loss: 0.3154 - acc: 0.906 - ETA: 3s - loss: 0.3143 - acc: 0.906 - ETA: 3s - loss: 0.3134 - acc: 0.906 - ETA: 3s - loss: 0.3204 - acc: 0.904 - ETA: 3s - loss: 0.3188 - acc: 0.905 - ETA: 3s - loss: 0.3199 - acc: 0.903 - ETA: 3s - loss: 0.3259 - acc: 0.901 - ETA: 2s - loss: 0.3286 - acc: 0.900 - ETA: 2s - loss: 0.3278 - acc: 0.899 - ETA: 2s - loss: 0.3319 - acc: 0.898 - ETA: 2s - loss: 0.3269 - acc: 0.899 - ETA: 2s - loss: 0.3344 - acc: 0.897 - ETA: 2s - loss: 0.3308 - acc: 0.899 - ETA: 2s - loss: 0.3347 - acc: 0.899 - ETA: 2s - loss: 0.3336 - acc: 0.899 - ETA: 2s - loss: 0.3309 - acc: 0.900 - ETA: 1s - loss: 0.3332 - acc: 0.899 - ETA: 1s - loss: 0.3305 - acc: 0.900 - ETA: 1s - loss: 0.3289 - acc: 0.900 - ETA: 1s - loss: 0.3276 - acc: 0.901 - ETA: 1s - loss: 0.3296 - acc: 0.900 - ETA: 1s - loss: 0.3318 - acc: 0.899 - ETA: 1s - loss: 0.3362 - acc: 0.899 - ETA: 1s - loss: 0.3366 - acc: 0.898 - ETA: 0s - loss: 0.3373 - acc: 0.898 - ETA: 0s - loss: 0.3408 - acc: 0.898 - ETA: 0s - loss: 0.3462 - acc: 0.895 - ETA: 0s - loss: 0.3429 - acc: 0.896 - ETA: 0s - loss: 0.3413 - acc: 0.897 - ETA: 0s - loss: 0.3433 - acc: 0.897 - ETA: 0s - loss: 0.3497 - acc: 0.896 - ETA: 0s - loss: 0.3523 - acc: 0.894 - 9s 4ms/step - loss: 0.3539 - acc: 0.8933 - val_loss: 1.3034 - val_acc: 0.6640\n",
      "Epoch 8/10\n",
      "2108/2108 [==============================] - ETA: 3s - loss: 0.3539 - acc: 0.875 - ETA: 3s - loss: 0.3743 - acc: 0.890 - ETA: 3s - loss: 0.2985 - acc: 0.916 - ETA: 3s - loss: 0.2826 - acc: 0.921 - ETA: 3s - loss: 0.2821 - acc: 0.918 - ETA: 3s - loss: 0.2603 - acc: 0.927 - ETA: 3s - loss: 0.2378 - acc: 0.933 - ETA: 3s - loss: 0.2281 - acc: 0.933 - ETA: 3s - loss: 0.2239 - acc: 0.934 - ETA: 3s - loss: 0.2286 - acc: 0.931 - ETA: 3s - loss: 0.2330 - acc: 0.929 - ETA: 4s - loss: 0.2489 - acc: 0.921 - ETA: 4s - loss: 0.2601 - acc: 0.915 - ETA: 4s - loss: 0.2476 - acc: 0.921 - ETA: 4s - loss: 0.2373 - acc: 0.925 - ETA: 4s - loss: 0.2366 - acc: 0.925 - ETA: 4s - loss: 0.2367 - acc: 0.924 - ETA: 4s - loss: 0.2298 - acc: 0.927 - ETA: 4s - loss: 0.2232 - acc: 0.929 - ETA: 4s - loss: 0.2188 - acc: 0.931 - ETA: 4s - loss: 0.2213 - acc: 0.928 - ETA: 4s - loss: 0.2278 - acc: 0.926 - ETA: 4s - loss: 0.2392 - acc: 0.923 - ETA: 4s - loss: 0.2445 - acc: 0.923 - ETA: 4s - loss: 0.2405 - acc: 0.925 - ETA: 4s - loss: 0.2350 - acc: 0.926 - ETA: 4s - loss: 0.2403 - acc: 0.923 - ETA: 4s - loss: 0.2445 - acc: 0.920 - ETA: 4s - loss: 0.2471 - acc: 0.921 - ETA: 4s - loss: 0.2474 - acc: 0.921 - ETA: 4s - loss: 0.2478 - acc: 0.920 - ETA: 4s - loss: 0.2462 - acc: 0.919 - ETA: 3s - loss: 0.2434 - acc: 0.921 - ETA: 3s - loss: 0.2404 - acc: 0.922 - ETA: 3s - loss: 0.2393 - acc: 0.923 - ETA: 3s - loss: 0.2376 - acc: 0.923 - ETA: 3s - loss: 0.2453 - acc: 0.920 - ETA: 3s - loss: 0.2403 - acc: 0.922 - ETA: 2s - loss: 0.2432 - acc: 0.922 - ETA: 2s - loss: 0.2412 - acc: 0.922 - ETA: 2s - loss: 0.2412 - acc: 0.923 - ETA: 2s - loss: 0.2389 - acc: 0.923 - ETA: 2s - loss: 0.2384 - acc: 0.921 - ETA: 2s - loss: 0.2376 - acc: 0.921 - ETA: 2s - loss: 0.2371 - acc: 0.921 - ETA: 2s - loss: 0.2382 - acc: 0.921 - ETA: 2s - loss: 0.2392 - acc: 0.921 - ETA: 1s - loss: 0.2418 - acc: 0.919 - ETA: 1s - loss: 0.2402 - acc: 0.919 - ETA: 1s - loss: 0.2386 - acc: 0.920 - ETA: 1s - loss: 0.2431 - acc: 0.919 - ETA: 1s - loss: 0.2452 - acc: 0.918 - ETA: 1s - loss: 0.2455 - acc: 0.918 - ETA: 1s - loss: 0.2440 - acc: 0.918 - ETA: 1s - loss: 0.2428 - acc: 0.918 - ETA: 1s - loss: 0.2423 - acc: 0.918 - ETA: 1s - loss: 0.2420 - acc: 0.917 - ETA: 0s - loss: 0.2428 - acc: 0.917 - ETA: 0s - loss: 0.2459 - acc: 0.917 - ETA: 0s - loss: 0.2449 - acc: 0.918 - ETA: 0s - loss: 0.2473 - acc: 0.918 - ETA: 0s - loss: 0.2474 - acc: 0.916 - ETA: 0s - loss: 0.2474 - acc: 0.916 - ETA: 0s - loss: 0.2532 - acc: 0.916 - ETA: 0s - loss: 0.2534 - acc: 0.916 - 8s 4ms/step - loss: 0.2539 - acc: 0.9160 - val_loss: 1.3454 - val_acc: 0.6720\n",
      "Epoch 9/10\n",
      "2108/2108 [==============================] - ETA: 3s - loss: 0.0885 - acc: 1.000 - ETA: 3s - loss: 0.0758 - acc: 1.000 - ETA: 3s - loss: 0.0780 - acc: 1.000 - ETA: 3s - loss: 0.1826 - acc: 0.960 - ETA: 5s - loss: 0.1895 - acc: 0.950 - ETA: 5s - loss: 0.1831 - acc: 0.953 - ETA: 6s - loss: 0.1793 - acc: 0.950 - ETA: 6s - loss: 0.1816 - acc: 0.953 - ETA: 6s - loss: 0.1733 - acc: 0.951 - ETA: 6s - loss: 0.1782 - acc: 0.950 - ETA: 6s - loss: 0.1774 - acc: 0.948 - ETA: 6s - loss: 0.1738 - acc: 0.950 - ETA: 6s - loss: 0.1759 - acc: 0.949 - ETA: 6s - loss: 0.1684 - acc: 0.950 - ETA: 6s - loss: 0.1730 - acc: 0.947 - ETA: 6s - loss: 0.1664 - acc: 0.949 - ETA: 6s - loss: 0.1699 - acc: 0.946 - ETA: 6s - loss: 0.1823 - acc: 0.942 - ETA: 6s - loss: 0.1920 - acc: 0.940 - ETA: 5s - loss: 0.1893 - acc: 0.942 - ETA: 5s - loss: 0.1892 - acc: 0.942 - ETA: 5s - loss: 0.1867 - acc: 0.943 - ETA: 5s - loss: 0.1824 - acc: 0.945 - ETA: 5s - loss: 0.1816 - acc: 0.946 - ETA: 5s - loss: 0.1807 - acc: 0.947 - ETA: 5s - loss: 0.1801 - acc: 0.945 - ETA: 5s - loss: 0.1791 - acc: 0.945 - ETA: 5s - loss: 0.1857 - acc: 0.943 - ETA: 4s - loss: 0.1850 - acc: 0.944 - ETA: 4s - loss: 0.1852 - acc: 0.943 - ETA: 4s - loss: 0.1931 - acc: 0.941 - ETA: 4s - loss: 0.1925 - acc: 0.941 - ETA: 4s - loss: 0.1895 - acc: 0.942 - ETA: 3s - loss: 0.1872 - acc: 0.943 - ETA: 3s - loss: 0.1977 - acc: 0.940 - ETA: 3s - loss: 0.1982 - acc: 0.941 - ETA: 3s - loss: 0.1974 - acc: 0.940 - ETA: 3s - loss: 0.2007 - acc: 0.940 - ETA: 3s - loss: 0.2005 - acc: 0.939 - ETA: 2s - loss: 0.1998 - acc: 0.940 - ETA: 2s - loss: 0.1987 - acc: 0.939 - ETA: 2s - loss: 0.1967 - acc: 0.940 - ETA: 2s - loss: 0.1973 - acc: 0.939 - ETA: 2s - loss: 0.1951 - acc: 0.940 - ETA: 2s - loss: 0.1958 - acc: 0.941 - ETA: 2s - loss: 0.1932 - acc: 0.942 - ETA: 2s - loss: 0.1905 - acc: 0.943 - ETA: 1s - loss: 0.1873 - acc: 0.944 - ETA: 1s - loss: 0.1865 - acc: 0.945 - ETA: 1s - loss: 0.1853 - acc: 0.945 - ETA: 1s - loss: 0.1845 - acc: 0.946 - ETA: 1s - loss: 0.1892 - acc: 0.945 - ETA: 1s - loss: 0.1875 - acc: 0.945 - ETA: 1s - loss: 0.1842 - acc: 0.946 - ETA: 1s - loss: 0.1836 - acc: 0.947 - ETA: 1s - loss: 0.1820 - acc: 0.948 - ETA: 1s - loss: 0.1806 - acc: 0.948 - ETA: 0s - loss: 0.1787 - acc: 0.948 - ETA: 0s - loss: 0.1767 - acc: 0.949 - ETA: 0s - loss: 0.1772 - acc: 0.949 - ETA: 0s - loss: 0.1756 - acc: 0.949 - ETA: 0s - loss: 0.1745 - acc: 0.950 - ETA: 0s - loss: 0.1737 - acc: 0.949 - ETA: 0s - loss: 0.1718 - acc: 0.950 - ETA: 0s - loss: 0.1698 - acc: 0.951 - 8s 4ms/step - loss: 0.1694 - acc: 0.9516 - val_loss: 1.5155 - val_acc: 0.6774\n",
      "Epoch 10/10\n"
     ]
    },
    {
     "name": "stdout",
     "output_type": "stream",
     "text": [
      "2108/2108 [==============================] - ETA: 7s - loss: 0.0291 - acc: 1.000 - ETA: 7s - loss: 0.0748 - acc: 0.984 - ETA: 6s - loss: 0.1860 - acc: 0.937 - ETA: 5s - loss: 0.1631 - acc: 0.937 - ETA: 5s - loss: 0.1595 - acc: 0.943 - ETA: 4s - loss: 0.1490 - acc: 0.942 - ETA: 4s - loss: 0.1796 - acc: 0.942 - ETA: 4s - loss: 0.2060 - acc: 0.941 - ETA: 4s - loss: 0.1876 - acc: 0.947 - ETA: 4s - loss: 0.1718 - acc: 0.953 - ETA: 3s - loss: 0.1726 - acc: 0.946 - ETA: 3s - loss: 0.1709 - acc: 0.947 - ETA: 3s - loss: 0.1619 - acc: 0.951 - ETA: 3s - loss: 0.1543 - acc: 0.953 - ETA: 3s - loss: 0.1532 - acc: 0.952 - ETA: 3s - loss: 0.1517 - acc: 0.951 - ETA: 3s - loss: 0.1477 - acc: 0.952 - ETA: 3s - loss: 0.1432 - acc: 0.953 - ETA: 3s - loss: 0.1383 - acc: 0.955 - ETA: 2s - loss: 0.1384 - acc: 0.953 - ETA: 2s - loss: 0.1371 - acc: 0.950 - ETA: 2s - loss: 0.1349 - acc: 0.953 - ETA: 2s - loss: 0.1323 - acc: 0.953 - ETA: 2s - loss: 0.1352 - acc: 0.953 - ETA: 2s - loss: 0.1361 - acc: 0.953 - ETA: 2s - loss: 0.1467 - acc: 0.951 - ETA: 2s - loss: 0.1454 - acc: 0.950 - ETA: 2s - loss: 0.1422 - acc: 0.952 - ETA: 2s - loss: 0.1417 - acc: 0.952 - ETA: 2s - loss: 0.1383 - acc: 0.954 - ETA: 2s - loss: 0.1366 - acc: 0.954 - ETA: 2s - loss: 0.1388 - acc: 0.955 - ETA: 2s - loss: 0.1360 - acc: 0.956 - ETA: 2s - loss: 0.1350 - acc: 0.956 - ETA: 2s - loss: 0.1333 - acc: 0.957 - ETA: 2s - loss: 0.1321 - acc: 0.957 - ETA: 2s - loss: 0.1315 - acc: 0.956 - ETA: 2s - loss: 0.1283 - acc: 0.958 - ETA: 2s - loss: 0.1260 - acc: 0.959 - ETA: 2s - loss: 0.1233 - acc: 0.960 - ETA: 2s - loss: 0.1215 - acc: 0.961 - ETA: 2s - loss: 0.1247 - acc: 0.960 - ETA: 2s - loss: 0.1242 - acc: 0.960 - ETA: 2s - loss: 0.1261 - acc: 0.960 - ETA: 2s - loss: 0.1254 - acc: 0.960 - ETA: 2s - loss: 0.1235 - acc: 0.961 - ETA: 1s - loss: 0.1232 - acc: 0.961 - ETA: 1s - loss: 0.1213 - acc: 0.962 - ETA: 1s - loss: 0.1204 - acc: 0.962 - ETA: 1s - loss: 0.1207 - acc: 0.961 - ETA: 1s - loss: 0.1202 - acc: 0.962 - ETA: 1s - loss: 0.1194 - acc: 0.962 - ETA: 1s - loss: 0.1182 - acc: 0.962 - ETA: 1s - loss: 0.1172 - acc: 0.963 - ETA: 1s - loss: 0.1201 - acc: 0.961 - ETA: 1s - loss: 0.1185 - acc: 0.962 - ETA: 0s - loss: 0.1169 - acc: 0.963 - ETA: 0s - loss: 0.1193 - acc: 0.962 - ETA: 0s - loss: 0.1206 - acc: 0.962 - ETA: 0s - loss: 0.1199 - acc: 0.963 - ETA: 0s - loss: 0.1202 - acc: 0.962 - ETA: 0s - loss: 0.1194 - acc: 0.962 - ETA: 0s - loss: 0.1204 - acc: 0.962 - ETA: 0s - loss: 0.1211 - acc: 0.962 - ETA: 0s - loss: 0.1201 - acc: 0.962 - 7s 3ms/step - loss: 0.1192 - acc: 0.9625 - val_loss: 1.5737 - val_acc: 0.6962\n",
      "{'val_loss': [4.042423648218954, 3.304515218222013, 2.234381784674942, 1.5936818661228302, 1.3419305329681726, 1.2288178506717886, 1.3033771662301914, 1.3453588081944374, 1.515507032153427, 1.5736857703936997], 'val_acc': [0.018817204341132154, 0.16397849478388346, 0.438172044292573, 0.5779569879654916, 0.6263440873033257, 0.6532258064516129, 0.6639784933418356, 0.6720430113935983, 0.6774193548387096, 0.6962365597806951], 'loss': [4.125022896326922, 3.5583867624091017, 2.4189012835555106, 1.43645317120163, 0.9086092505780751, 0.5641481444324443, 0.3539195938965401, 0.25389876226546415, 0.16940267369914552, 0.11917161072058288], 'acc': [0.02277039850318002, 0.11100569262789595, 0.3591081591665858, 0.5962998100770266, 0.7296015180265655, 0.8235294121040113, 0.8932637574550549, 0.9160341554846212, 0.95161290345201, 0.962523719391289]}\n"
     ]
    }
   ],
   "source": [
    "ganguly.compile(loss='categorical_crossentropy',\n",
    "              optimizer='adam',\n",
    "              metrics=['accuracy'])\n",
    "feeds=ganguly.fit(x=X_train_arr,y=y_train_arr,epochs=10,validation_data=(X_val_arr,y_val_arr))\n",
    "print(feeds.history)"
   ]
  },
  {
   "cell_type": "code",
   "execution_count": 9,
   "metadata": {},
   "outputs": [
    {
     "name": "stdout",
     "output_type": "stream",
     "text": [
      "Final accuracy on the training data is: 0.962523719391289\n",
      "Cross_Validating accuracy is: 0.6962365597806951\n"
     ]
    }
   ],
   "source": [
    "print(\"Final accuracy on the training data is:\",feeds.history['acc'][-1]);\n",
    "print(\"Cross_Validating accuracy is:\",feeds.history['val_acc'][-1]);"
   ]
  },
  {
   "cell_type": "markdown",
   "metadata": {},
   "source": [
    "# Testing with some image"
   ]
  },
  {
   "cell_type": "markdown",
   "metadata": {},
   "source": [
    "After we have seen the training accuracy and validation accuracy, we are confident enough to test our output. So I am using an image from our \n",
    "given dataset to check whether it is identified correct. Now since we have trained the model to return a vector. Hence here also the prediction will actually be a vector.\n",
    "We need to find the maximum probability lies on which position. The index of that position is the predicted result. And we can obtain the symbol using the bag of symbol and this index."
   ]
  },
  {
   "cell_type": "code",
   "execution_count": 10,
   "metadata": {},
   "outputs": [
    {
     "data": {
      "text/plain": [
       "<matplotlib.image.AxesImage at 0x1d209675940>"
      ]
     },
     "execution_count": 10,
     "metadata": {},
     "output_type": "execute_result"
    },
    {
     "data": {
      "image/png": "[encoded data removed]",
      "text/plain": [
       "<Figure size 432x288 with 1 Axes>"
      ]
     },
     "metadata": {
      "needs_background": "light"
     },
     "output_type": "display_data"
    }
   ],
   "source": [
    "img=cv2.imread(\"D://datasets//IIIT_D//train//Sample005//img005-001.png\",cv2.IMREAD_GRAYSCALE)/255\n",
    "img1=np.reshape((cv2.resize(img,(50,50))),(50,50,1))\n",
    "plt.imshow(img,cmap=plt.cm.binary)"
   ]
  },
  {
   "cell_type": "code",
   "execution_count": 11,
   "metadata": {},
   "outputs": [
    {
     "name": "stdout",
     "output_type": "stream",
     "text": [
      "4 with accuracy of 0.998936\n"
     ]
    }
   ],
   "source": [
    "predict=ganguly.predict(np.array([img1]))[0]\n",
    "acc=max(predict)\n",
    "val=np.argmax(predict)\n",
    "print(bag[val],\"with accuracy of\",acc)"
   ]
  },
  {
   "cell_type": "code",
   "execution_count": 12,
   "metadata": {},
   "outputs": [
    {
     "data": {
      "text/plain": [
       "<matplotlib.image.AxesImage at 0x1d260a902b0>"
      ]
     },
     "execution_count": 12,
     "metadata": {},
     "output_type": "execute_result"
    },
    {
     "data": {
      "image/png": "[encoded data removed]",
      "text/plain": [
       "<Figure size 432x288 with 1 Axes>"
      ]
     },
     "metadata": {
      "needs_background": "light"
     },
     "output_type": "display_data"
    }
   ],
   "source": [
    "img=cv2.imread(\"D://datasets//IIIT_D//train//Sample015//img015-028.png\",cv2.IMREAD_GRAYSCALE)/255\n",
    "img1=np.reshape((cv2.resize(img,(50,50))),(50,50,1))\n",
    "plt.imshow(img,cmap=plt.cm.binary)"
   ]
  },
  {
   "cell_type": "code",
   "execution_count": 13,
   "metadata": {},
   "outputs": [
    {
     "name": "stdout",
     "output_type": "stream",
     "text": [
      "E with accuracy of 0.99801946\n"
     ]
    }
   ],
   "source": [
    "predict=ganguly.predict(np.array([img1]))[0]\n",
    "acc=max(predict)\n",
    "val=np.argmax(predict)\n",
    "print(bag[val],\"with accuracy of\",acc)"
   ]
  },
  {
   "cell_type": "code",
   "execution_count": 14,
   "metadata": {},
   "outputs": [
    {
     "data": {
      "text/plain": [
       "<matplotlib.image.AxesImage at 0x1d260af2a58>"
      ]
     },
     "execution_count": 14,
     "metadata": {},
     "output_type": "execute_result"
    },
    {
     "data": {
      "image/png": "[encoded data removed]",
      "text/plain": [
       "<Figure size 432x288 with 1 Axes>"
      ]
     },
     "metadata": {
      "needs_background": "light"
     },
     "output_type": "display_data"
    }
   ],
   "source": [
    "img=cv2.imread(\"D://datasets//IIIT_D//train//Sample019//img019-028.png\",cv2.IMREAD_GRAYSCALE)/255\n",
    "img1=np.reshape((cv2.resize(img,(50,50))),(50,50,1))\n",
    "plt.imshow(img,cmap=plt.cm.binary)"
   ]
  },
  {
   "cell_type": "code",
   "execution_count": 15,
   "metadata": {},
   "outputs": [
    {
     "name": "stdout",
     "output_type": "stream",
     "text": [
      "I with accuracy of 0.9845489\n"
     ]
    }
   ],
   "source": [
    "predict=ganguly.predict(np.array([img1]))[0]\n",
    "acc=max(predict)\n",
    "val=np.argmax(predict)\n",
    "print(bag[val],\"with accuracy of\",acc)"
   ]
  },
  {
   "cell_type": "code",
   "execution_count": 16,
   "metadata": {},
   "outputs": [
    {
     "data": {
      "text/plain": [
       "<matplotlib.image.AxesImage at 0x1d260b56b38>"
      ]
     },
     "execution_count": 16,
     "metadata": {},
     "output_type": "execute_result"
    },
    {
     "data": {
      "image/png": "[encoded data removed]",
      "text/plain": [
       "<Figure size 432x288 with 1 Axes>"
      ]
     },
     "metadata": {
      "needs_background": "light"
     },
     "output_type": "display_data"
    }
   ],
   "source": [
    "img=cv2.imread(\"D://datasets//IIIT_D//train//Sample058//img058-008.png\",cv2.IMREAD_GRAYSCALE)/255\n",
    "img1=np.reshape((cv2.resize(img,(50,50))),(50,50,1))\n",
    "plt.imshow(img,cmap=plt.cm.binary)"
   ]
  },
  {
   "cell_type": "code",
   "execution_count": 17,
   "metadata": {},
   "outputs": [
    {
     "name": "stdout",
     "output_type": "stream",
     "text": [
      "v with accuracy of 0.94126296\n"
     ]
    }
   ],
   "source": [
    "predict=ganguly.predict(np.array([img1]))[0]\n",
    "acc=max(predict)\n",
    "val=np.argmax(predict)\n",
    "print(bag[val],\"with accuracy of\",acc)"
   ]
  },
  {
   "cell_type": "code",
   "execution_count": 18,
   "metadata": {},
   "outputs": [],
   "source": [
    "ganguly.save('IIIT_D_ganguly_subpart_a.h5')"
   ]
  }
 ],
 "metadata": {
  "kernelspec": {
   "display_name": "Python 3",
   "language": "python",
   "name": "python3"
  },
  "language_info": {
   "codemirror_mode": {
    "name": "ipython",
    "version": 3
   },
   "file_extension": ".py",
   "mimetype": "text/x-python",
   "name": "python",
   "nbconvert_exporter": "python",
   "pygments_lexer": "ipython3",
   "version": "3.6.8"
  }
 },
 "nbformat": 4,
 "nbformat_minor": 2
}
