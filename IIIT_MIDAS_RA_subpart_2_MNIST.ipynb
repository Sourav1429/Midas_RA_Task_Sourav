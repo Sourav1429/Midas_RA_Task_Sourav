{
 "cells": [
  {
   "cell_type": "markdown",
   "metadata": {},
   "source": [
    "# Importing modules"
   ]
  },
  {
   "cell_type": "markdown",
   "metadata": {},
   "source": [
    "So as in subpart (a), here again we begin our process with the standard procedure of importing of required modules. \n",
    "Like above \n",
    "cv2 is for openCV\n",
    "matplotlib for plotting the images\n",
    "keras api using tensorflow backend\n",
    "the different layers required for CNN\n",
    "os for loading the images\n",
    "numpy for standard numerical calculation"
   ]
  },
  {
   "cell_type": "code",
   "execution_count": 54,
   "metadata": {},
   "outputs": [],
   "source": [
    "import cv2\n",
    "import matplotlib.pyplot as plt\n",
    "from tensorflow import keras\n",
    "from keras.models import Sequential\n",
    "from keras.layers import Dense, Dropout, Activation, Flatten\n",
    "from keras.layers import Convolution2D,Conv2D, MaxPooling2D\n",
    "from keras.utils import np_utils,to_categorical\n",
    "from keras.datasets import mnist\n",
    "import os\n",
    "import numpy as np\n",
    "from keras.callbacks import ModelCheckpoint"
   ]
  },
  {
   "cell_type": "markdown",
   "metadata": {},
   "source": [
    "# Defining of one_hot vector"
   ]
  },
  {
   "cell_type": "markdown",
   "metadata": {},
   "source": [
    "For better results let us define the one hot vector encoding for each symbol"
   ]
  },
  {
   "cell_type": "code",
   "execution_count": 2,
   "metadata": {},
   "outputs": [],
   "source": [
    "#We create a function to create a one_hot vector. Although it is a list now, will be converted into an array later\n",
    "def one_hot(value,size):\n",
    "    arr=np.array([0]*size);\n",
    "    arr[value]=1;\n",
    "    return arr;"
   ]
  },
  {
   "cell_type": "markdown",
   "metadata": {},
   "source": [
    "# Importing images"
   ]
  },
  {
   "cell_type": "markdown",
   "metadata": {},
   "source": [
    "Next step includes loading the images into two lists defined below\n",
    "Note:\n",
    "    X=images loaded\n",
    "    y=output one_hot vector"
   ]
  },
  {
   "cell_type": "code",
   "execution_count": 3,
   "metadata": {},
   "outputs": [],
   "source": [
    "X,y=list(),list();#define empty list for loading images and output one-hot vector\n",
    "#copying path and the folder contents from subpart a\n",
    "path=\"D://datasets//IIIT_D//train\";#path where the dataset is downloaded in my machine\n",
    "fol=os.listdir(path)#list of files in the 'train' folder in the location D:\\datasets\\IIIT_D\\train\n",
    "size=10;\n",
    "flag=0;\n",
    "for val,i in enumerate(fol):\n",
    "    path_n=os.path.join(path,i);\n",
    "    for img_n in os.listdir(path_n):\n",
    "        img=cv2.imread(os.path.join(path_n,img_n),cv2.IMREAD_GRAYSCALE)/255#normalize by dividing by 255 for better results.\n",
    "        X.append((np.reshape(cv2.resize(img,(28,28)),(1*28*28))))#initially we obtained a 2d array. In order to fit it in our keras CNN model, we had to convert it into a 3d model. Also the image is downsized to avoid OOM (Out of Memory) exception\n",
    "        y.append(one_hot(val,size))#store our results by converting it into a one-hot vector. Here the enumerate () returning counter val palys a very important role.\n",
    "        if(val==9):\n",
    "            flag=1;\n",
    "            break;\n",
    "    if(flag):\n",
    "        break;"
   ]
  },
  {
   "cell_type": "markdown",
   "metadata": {},
   "source": [
    "# Checking the inputted image for further preprocessing (if required)"
   ]
  },
  {
   "cell_type": "markdown",
   "metadata": {},
   "source": [
    "We start by checking that only Samples from 0-9 have been loaded. Moreover we check the corresponding dimension of each training data and output each. Next we visualize the images of 5-6 random images to get idea of its dimension\n",
    "Lastly since our data has been normalized by dividing by 255, we compare images with and without nomalization"
   ]
  },
  {
   "cell_type": "code",
   "execution_count": 4,
   "metadata": {},
   "outputs": [
    {
     "name": "stdout",
     "output_type": "stream",
     "text": [
      "Number of files scanned: 361\n",
      "Number of output vectors 361\n"
     ]
    }
   ],
   "source": [
    "print(\"Number of files scanned:\",len(X));\n",
    "print(\"Number of output vectors\",len(y));"
   ]
  },
  {
   "cell_type": "code",
   "execution_count": 5,
   "metadata": {},
   "outputs": [],
   "source": [
    "img01=cv2.imread(\"D://datasets//IIIT_D//train//Sample003//img003-008.png\",cv2.IMREAD_GRAYSCALE)\n",
    "img02=cv2.imread(\"D://datasets//IIIT_D//train//Sample001//img001-010.png\",cv2.IMREAD_GRAYSCALE)\n",
    "img03=cv2.imread(\"D://datasets//IIIT_D//train//Sample008//img008-055.png\",cv2.IMREAD_GRAYSCALE)\n",
    "img04=cv2.imread(\"D://datasets//IIIT_D//train//Sample006//img006-004.png\",cv2.IMREAD_GRAYSCALE)\n",
    "img05=cv2.imread(\"D://datasets//IIIT_D//train//Sample010//img010-020.png\",cv2.IMREAD_GRAYSCALE)\n",
    "img11=img01/255;\n",
    "img12=img02/255;\n",
    "img13=img03/255;\n",
    "img14=img04/255;\n",
    "img15=img05/255;"
   ]
  },
  {
   "cell_type": "code",
   "execution_count": 6,
   "metadata": {},
   "outputs": [
    {
     "data": {
      "image/png": "[encoded data removed]",
      "text/plain": [
       "<Figure size 432x288 with 10 Axes>"
      ]
     },
     "metadata": {
      "needs_background": "light"
     },
     "output_type": "display_data"
    }
   ],
   "source": [
    "figure,axs=plt.subplots(5,2)\n",
    "axs[0,0].imshow(img01,cmap=plt.cm.binary)\n",
    "axs[0,0].set_title('Not-normalized')\n",
    "axs[0,1].imshow(img11,cmap=plt.cm.binary)\n",
    "axs[0,1].set_title('Normalized')\n",
    "axs[1,0].imshow(img02,cmap=plt.cm.binary)\n",
    "axs[1,0].set_title('Not-normalized')\n",
    "axs[1,1].imshow(img12,cmap=plt.cm.binary)\n",
    "axs[1,1].set_title('Normalized')\n",
    "axs[2,0].imshow(img03,cmap=plt.cm.binary)\n",
    "axs[2,0].set_title('Not-normalized')\n",
    "axs[2,1].imshow(img13,cmap=plt.cm.binary)\n",
    "axs[2,1].set_title('Normalized')\n",
    "axs[3,0].imshow(img04,cmap=plt.cm.binary)\n",
    "axs[3,0].set_title('Not-normalized')\n",
    "axs[3,1].imshow(img14,cmap=plt.cm.binary)\n",
    "axs[3,1].set_title('Normalized')\n",
    "axs[4,0].imshow(img05,cmap=plt.cm.binary)\n",
    "axs[4,0].set_title('Not-normalized')\n",
    "axs[4,1].imshow(img15,cmap=plt.cm.binary)\n",
    "axs[4,1].set_title('Normalized')\n",
    "plt.show()"
   ]
  },
  {
   "cell_type": "markdown",
   "metadata": {},
   "source": [
    "As the overlapping construct is very difficult to decipher let us keep only one title for each column, left one is dedicated for Not-normalized\n",
    "whereas the right one is dedicated for Normalized"
   ]
  },
  {
   "cell_type": "code",
   "execution_count": 7,
   "metadata": {},
   "outputs": [
    {
     "data": {
      "image/png": "[encoded data removed]",
      "text/plain": [
       "<Figure size 432x288 with 10 Axes>"
      ]
     },
     "metadata": {
      "needs_background": "light"
     },
     "output_type": "display_data"
    }
   ],
   "source": [
    "figure,axs=plt.subplots(5,2)\n",
    "axs[0,0].imshow(img01,cmap=plt.cm.binary)\n",
    "axs[0,0].set_title('Not-normalized')\n",
    "axs[0,1].imshow(img11,cmap=plt.cm.binary)\n",
    "axs[0,1].set_title('Normalized')\n",
    "axs[1,0].imshow(img02,cmap=plt.cm.binary)\n",
    "#axs[1,0].set_title('Not-normalized')\n",
    "axs[1,1].imshow(img12,cmap=plt.cm.binary)\n",
    "#axs[1,1].set_title('Normalized')\n",
    "axs[2,0].imshow(img03,cmap=plt.cm.binary)\n",
    "#axs[2,0].set_title('Not-normalized')\n",
    "axs[2,1].imshow(img13,cmap=plt.cm.binary)\n",
    "#axs[2,1].set_title('Normalized')\n",
    "axs[3,0].imshow(img04,cmap=plt.cm.binary)\n",
    "#axs[3,0].set_title('Not-normalized')\n",
    "axs[3,1].imshow(img14,cmap=plt.cm.binary)\n",
    "#axs[3,1].set_title('Normalized')\n",
    "axs[4,0].imshow(img05,cmap=plt.cm.binary)\n",
    "#axs[4,0].set_title('Not-normalized')\n",
    "axs[4,1].imshow(img15,cmap=plt.cm.binary)\n",
    "#axs[4,1].set_title('Normalized')\n",
    "plt.show()"
   ]
  },
  {
   "cell_type": "markdown",
   "metadata": {},
   "source": [
    "Ok all good we are all set with the nomalizing job and we can safely confirm that the images are not distorted or disturbed by this action.\n",
    "Next we convert the training sets into numpy arrays and divide them into training and cross validation sets"
   ]
  },
  {
   "cell_type": "markdown",
   "metadata": {},
   "source": [
    "# Splitting into training and cross validation sets"
   ]
  },
  {
   "cell_type": "code",
   "execution_count": 34,
   "metadata": {},
   "outputs": [],
   "source": [
    "from sklearn.model_selection import train_test_split\n",
    "X_train,X_val,y_train,y_val=train_test_split(X,y,test_size=0.3, random_state=42)\n",
    "X_train_arr=np.array(X_train)\n",
    "X_val_arr=np.array(X_val)\n",
    "y_train_arr=np.array(y_train)\n",
    "y_val_arr=np.array(y_val)\n",
    "_,d=X_train_arr.shape"
   ]
  },
  {
   "cell_type": "code",
   "execution_count": 9,
   "metadata": {},
   "outputs": [
    {
     "name": "stdout",
     "output_type": "stream",
     "text": [
      "X_dimensions: (306, 784)\n",
      "y_dimensions: (306, 10)\n"
     ]
    }
   ],
   "source": [
    "print('X_dimensions:',X_train_arr.shape)\n",
    "print('y_dimensions:',y_train_arr.shape)"
   ]
  },
  {
   "cell_type": "markdown",
   "metadata": {},
   "source": [
    "# Creation of the CNN network"
   ]
  },
  {
   "cell_type": "markdown",
   "metadata": {},
   "source": [
    "Now it is time to create our Sequential CNN model. We shall start with small networks and then poceed to bigger networks. \n",
    "Number of epochs let us fix at 8 for now later if this does not works we shall modify"
   ]
  },
  {
   "cell_type": "raw",
   "metadata": {},
   "source": [
    "ganguly = Sequential()\n",
    "ganguly.add(Dense(100, activation='relu', input_shape=(d,)))\n",
    "ganguly.add(Dropout(0.2))\n",
    "ganguly.add(Dense(10, activation='softmax'))\n",
    "ganguly.summary()"
   ]
  },
  {
   "cell_type": "raw",
   "metadata": {},
   "source": [
    "ganguly.compile(loss='categorical_crossentropy',optimizer='adam',metrics=['accuracy'])\n",
    "feeds=ganguly.fit(x=X_train_arr,y=y_train_arr,epochs=8,validation_data=(X_val_arr,y_val_arr))\n",
    "print(feeds.history)"
   ]
  },
  {
   "cell_type": "raw",
   "metadata": {},
   "source": [
    "print(\"Final accuracy on the training data is:\",feeds.history['acc'][-1]);\n",
    "print(\"Cross_Validating accuracy is:\",feeds.history['val_acc'][-1]);"
   ]
  },
  {
   "cell_type": "markdown",
   "metadata": {},
   "source": [
    "Pretty decent but need to work on the accuracy and validating accuracy. Thus, to do so we have to train our data some more. But if we add more and more layers, we might enter overfitting. First let us see with increasing the number of perceptrons"
   ]
  },
  {
   "cell_type": "raw",
   "metadata": {
    "scrolled": true
   },
   "source": [
    "ganguly = Sequential()\n",
    "ganguly.add(Dense(300, activation='relu', input_shape=(d,)))\n",
    "ganguly.add(Dropout(0.2))\n",
    "ganguly.add(Dense(10, activation='softmax'))\n",
    "ganguly.summary()\n",
    "ganguly.add(Dense(10, activation='softmax'))\n",
    "ganguly.compile(loss='categorical_crossentropy',optimizer='adam',metrics=['accuracy'])\n",
    "feeds=ganguly.fit(x=X_train_arr,y=y_train_arr,epochs=8,validation_data=(X_val_arr,y_val_arr))\n",
    "#print(feeds.history)\n",
    "print(\"Final accuracy on the training data is:\",feeds.history['acc'][-1]);\n",
    "print(\"Cross_Validating accuracy is:\",feeds.history['val_acc'][-1]);"
   ]
  },
  {
   "cell_type": "markdown",
   "metadata": {},
   "source": [
    "No led to overfitting so this model will not work"
   ]
  },
  {
   "cell_type": "raw",
   "metadata": {},
   "source": [
    "ganguly.compile(loss='categorical_crossentropy',optimizer='adam',metrics=['accuracy'])\n",
    "feeds=ganguly.fit(x=X_train_arr,y=y_train_arr,epochs=30,validation_data=(X_val_arr,y_val_arr))\n",
    "#print(feeds.history)\n",
    "print(\"Final accuracy on the training data is:\",feeds.history['acc'][-1]);\n",
    "print(\"Cross_Validating accuracy is:\",feeds.history['val_acc'][-1]);"
   ]
  },
  {
   "cell_type": "markdown",
   "metadata": {},
   "source": [
    "Let us add more layers"
   ]
  },
  {
   "cell_type": "code",
   "execution_count": 41,
   "metadata": {},
   "outputs": [
    {
     "name": "stdout",
     "output_type": "stream",
     "text": [
      "_________________________________________________________________\n",
      "Layer (type)                 Output Shape              Param #   \n",
      "=================================================================\n",
      "dense_40 (Dense)             (None, 300)               235500    \n",
      "_________________________________________________________________\n",
      "dropout_23 (Dropout)         (None, 300)               0         \n",
      "_________________________________________________________________\n",
      "dense_41 (Dense)             (None, 200)               60200     \n",
      "_________________________________________________________________\n",
      "dropout_24 (Dropout)         (None, 200)               0         \n",
      "_________________________________________________________________\n",
      "dense_42 (Dense)             (None, 10)                2010      \n",
      "=================================================================\n",
      "Total params: 297,710\n",
      "Trainable params: 297,710\n",
      "Non-trainable params: 0\n",
      "_________________________________________________________________\n"
     ]
    }
   ],
   "source": [
    "ganguly = Sequential()\n",
    "ganguly.add(Dense(300, activation='relu', input_shape=(d,)))\n",
    "ganguly.add(Dropout(0.2))\n",
    "ganguly.add(Dense(200, activation='relu'))\n",
    "ganguly.add(Dropout(0.2))\n",
    "ganguly.add(Dense(10, activation='softmax'))\n",
    "ganguly.summary()"
   ]
  },
  {
   "cell_type": "code",
   "execution_count": 47,
   "metadata": {},
   "outputs": [
    {
     "name": "stdout",
     "output_type": "stream",
     "text": [
      "Train on 252 samples, validate on 109 samples\n",
      "Epoch 1/30\n",
      "252/252 [==============================] - 2s 9ms/step - loss: 0.6026 - acc: 0.7738 - val_loss: 1.6941 - val_acc: 0.5872\n",
      "Epoch 2/30\n",
      "252/252 [==============================] - 0s 495us/step - loss: 0.5659 - acc: 0.7857 - val_loss: 1.9753 - val_acc: 0.5138\n",
      "Epoch 3/30\n",
      "252/252 [==============================] - 0s 491us/step - loss: 0.6621 - acc: 0.7579 - val_loss: 1.8140 - val_acc: 0.5138\n",
      "Epoch 4/30\n",
      "252/252 [==============================] - 0s 495us/step - loss: 0.5345 - acc: 0.8254 - val_loss: 1.8691 - val_acc: 0.5780\n",
      "Epoch 5/30\n",
      "252/252 [==============================] - 0s 492us/step - loss: 0.3680 - acc: 0.8532 - val_loss: 1.8652 - val_acc: 0.5596\n",
      "Epoch 6/30\n",
      "252/252 [==============================] - 0s 484us/step - loss: 0.4173 - acc: 0.8452 - val_loss: 2.1068 - val_acc: 0.5413\n",
      "Epoch 7/30\n",
      "252/252 [==============================] - 0s 485us/step - loss: 0.4150 - acc: 0.8492 - val_loss: 1.7917 - val_acc: 0.5688\n",
      "Epoch 8/30\n",
      "252/252 [==============================] - 0s 505us/step - loss: 0.3955 - acc: 0.8571 - val_loss: 1.8537 - val_acc: 0.5321\n",
      "Epoch 9/30\n",
      "252/252 [==============================] - 0s 488us/step - loss: 0.4495 - acc: 0.8254 - val_loss: 1.8824 - val_acc: 0.5780\n",
      "Epoch 10/30\n",
      "252/252 [==============================] - 0s 484us/step - loss: 0.4082 - acc: 0.8611 - val_loss: 1.7695 - val_acc: 0.5780\n",
      "Epoch 11/30\n",
      "252/252 [==============================] - ETA: 0s - loss: 0.4152 - acc: 0.831 - 0s 481us/step - loss: 0.4053 - acc: 0.8452 - val_loss: 1.9421 - val_acc: 0.5321\n",
      "Epoch 12/30\n",
      "252/252 [==============================] - 0s 481us/step - loss: 0.4452 - acc: 0.8413 - val_loss: 1.7600 - val_acc: 0.5872\n",
      "Epoch 13/30\n",
      "252/252 [==============================] - 0s 500us/step - loss: 0.3460 - acc: 0.8849 - val_loss: 2.0325 - val_acc: 0.5596\n",
      "Epoch 14/30\n",
      "252/252 [==============================] - 0s 482us/step - loss: 0.5035 - acc: 0.8373 - val_loss: 1.7932 - val_acc: 0.5596\n",
      "Epoch 15/30\n",
      "252/252 [==============================] - 0s 476us/step - loss: 0.4448 - acc: 0.8413 - val_loss: 2.1424 - val_acc: 0.5046\n",
      "Epoch 16/30\n",
      "252/252 [==============================] - 0s 505us/step - loss: 0.3612 - acc: 0.8651 - val_loss: 1.7718 - val_acc: 0.5780\n",
      "Epoch 17/30\n",
      "252/252 [==============================] - 0s 496us/step - loss: 0.4022 - acc: 0.8492 - val_loss: 1.8657 - val_acc: 0.5872\n",
      "Epoch 18/30\n",
      "252/252 [==============================] - 0s 496us/step - loss: 0.4770 - acc: 0.8294 - val_loss: 1.6912 - val_acc: 0.5688\n",
      "Epoch 19/30\n",
      "252/252 [==============================] - 0s 499us/step - loss: 0.4683 - acc: 0.8333 - val_loss: 2.0949 - val_acc: 0.5138\n",
      "Epoch 20/30\n",
      "252/252 [==============================] - 0s 504us/step - loss: 0.3927 - acc: 0.8690 - val_loss: 1.8542 - val_acc: 0.5872\n",
      "Epoch 21/30\n",
      "252/252 [==============================] - 0s 495us/step - loss: 0.4220 - acc: 0.8492 - val_loss: 1.8637 - val_acc: 0.5596\n",
      "Epoch 22/30\n",
      "252/252 [==============================] - 0s 486us/step - loss: 0.4353 - acc: 0.8413 - val_loss: 2.1237 - val_acc: 0.4862\n",
      "Epoch 23/30\n",
      "252/252 [==============================] - 0s 517us/step - loss: 0.4547 - acc: 0.8452 - val_loss: 1.9878 - val_acc: 0.5780\n",
      "Epoch 24/30\n",
      "252/252 [==============================] - 0s 547us/step - loss: 0.5270 - acc: 0.7817 - val_loss: 1.9636 - val_acc: 0.5596\n",
      "Epoch 25/30\n",
      "252/252 [==============================] - 0s 563us/step - loss: 0.4813 - acc: 0.8452 - val_loss: 2.0223 - val_acc: 0.5505\n",
      "Epoch 26/30\n",
      "252/252 [==============================] - 0s 539us/step - loss: 0.4769 - acc: 0.8333 - val_loss: 1.8908 - val_acc: 0.5321\n",
      "Epoch 27/30\n",
      "252/252 [==============================] - 0s 556us/step - loss: 0.3972 - acc: 0.8492 - val_loss: 1.9917 - val_acc: 0.5780\n",
      "Epoch 28/30\n",
      "252/252 [==============================] - 0s 592us/step - loss: 0.4089 - acc: 0.8571 - val_loss: 2.2503 - val_acc: 0.4862\n",
      "Epoch 29/30\n",
      "252/252 [==============================] - 0s 585us/step - loss: 0.4674 - acc: 0.8294 - val_loss: 1.8701 - val_acc: 0.5046\n",
      "Epoch 30/30\n",
      "252/252 [==============================] - 0s 632us/step - loss: 0.3882 - acc: 0.8810 - val_loss: 2.1896 - val_acc: 0.5413\n",
      "Final accuracy on the training data is: 0.8809523837906974\n",
      "Cross_Validating accuracy is: 0.5412844039431406\n"
     ]
    }
   ],
   "source": [
    "ganguly.compile(loss='categorical_crossentropy',optimizer='adam',metrics=['accuracy'])\n",
    "filepath=\"IIITD_MIDAS_Task2_subpart2.hdf5\"\n",
    "checkpoint = ModelCheckpoint(filepath, monitor='val_accuracy', verbose=1, save_best_only=True, mode='max')\n",
    "callbacks_list = [checkpoint]\n",
    "feeds=ganguly.fit(x=X_train_arr,y=y_train_arr,epochs=30,validation_data=(X_val_arr,y_val_arr))\n",
    "#print(feeds.history)\n",
    "print(\"Final accuracy on the training data is:\",feeds.history['acc'][-1]);\n",
    "print(\"Cross_Validating accuracy is:\",feeds.history['val_acc'][-1]);"
   ]
  },
  {
   "cell_type": "markdown",
   "metadata": {},
   "source": [
    "#Pretty decent training accuracy but let us save this model first and then try with increasing Perceptron heads"
   ]
  },
  {
   "cell_type": "raw",
   "metadata": {},
   "source": [
    "Perfect val_accuracy and no overfitting hence, this is the best one and we save this model"
   ]
  },
  {
   "cell_type": "markdown",
   "metadata": {},
   "source": [
    "# Now it is time for some analysis as to how efficient our model is working. Let us check with our previously loaded images"
   ]
  },
  {
   "cell_type": "code",
   "execution_count": 48,
   "metadata": {},
   "outputs": [
    {
     "name": "stdout",
     "output_type": "stream",
     "text": [
      "2 with accuracy of 0.90901935\n"
     ]
    },
    {
     "data": {
      "image/png": "[encoded data removed]",
      "text/plain": [
       "<Figure size 432x288 with 1 Axes>"
      ]
     },
     "metadata": {
      "needs_background": "light"
     },
     "output_type": "display_data"
    }
   ],
   "source": [
    "plt.imshow(img11,cmap=plt.cm.binary);\n",
    "img1=np.reshape((cv2.resize(img11,(28,28))),(1*28*28))\n",
    "predict=ganguly.predict(np.array([img1]))[0]\n",
    "acc=max(predict)\n",
    "val=np.argmax(predict)\n",
    "print(val,\"with accuracy of\",acc)\n",
    "plt.show()"
   ]
  },
  {
   "cell_type": "code",
   "execution_count": 49,
   "metadata": {},
   "outputs": [
    {
     "name": "stdout",
     "output_type": "stream",
     "text": [
      "0 with accuracy of 0.9082631\n"
     ]
    },
    {
     "data": {
      "image/png": "[encoded data removed]",
      "text/plain": [
       "<Figure size 432x288 with 1 Axes>"
      ]
     },
     "metadata": {
      "needs_background": "light"
     },
     "output_type": "display_data"
    }
   ],
   "source": [
    "plt.imshow(img12,cmap=plt.cm.binary);\n",
    "img1=np.reshape((cv2.resize(img12,(28,28))),(28*28*1))\n",
    "predict=ganguly.predict(np.array([img1]))[0]\n",
    "acc=max(predict)\n",
    "val=np.argmax(predict)\n",
    "print(val,\"with accuracy of\",acc)\n",
    "plt.show()"
   ]
  },
  {
   "cell_type": "markdown",
   "metadata": {},
   "source": [
    "# Load MNIST data"
   ]
  },
  {
   "cell_type": "markdown",
   "metadata": {},
   "source": [
    "Since I am using the Keras API so call the mnist data from kera model itself. According to the structure of data, I have created my network. The images has dimension of (70000,728) model. How 728? Well they are 28 by 28 size handwritten images. To stepdown a bit the standard 3D images of the dimension of (28,28,1) has been reduced to a 1D array of (28x28x1) dimension or 728.\n",
    "Now in all we have 70000 images splitted as 60000 training and 10000 test set."
   ]
  },
  {
   "cell_type": "code",
   "execution_count": 55,
   "metadata": {},
   "outputs": [],
   "source": [
    "(X_train, y_train), (X_test, y_test) = mnist.load_data()\n",
    "y_train=to_categorical(y_train)\n",
    "y_test=to_categorical(y_test)\n",
    "img_size=1*28*28;\n",
    "X_train = X_train.reshape(X_train.shape[0], img_size)\n",
    "X_test = X_test.reshape(X_test.shape[0], img_size)\n",
    "X_train = X_train.astype('float32')\n",
    "X_test = X_test.astype('float32')\n",
    "X_train /= 255\n",
    "X_test /= 255"
   ]
  },
  {
   "cell_type": "code",
   "execution_count": 57,
   "metadata": {},
   "outputs": [
    {
     "name": "stdout",
     "output_type": "stream",
     "text": [
      "10000/10000 [==============================] - 2s 174us/step\n",
      "Loss: 11.283486407470702 Accuracy: 0.1154\n"
     ]
    }
   ],
   "source": [
    "values=ganguly.evaluate(X_test,y_test)\n",
    "print('Loss:',values[0],'Accuracy:',values[1])"
   ]
  },
  {
   "cell_type": "markdown",
   "metadata": {},
   "source": [
    "# Disaster in results"
   ]
  },
  {
   "cell_type": "markdown",
   "metadata": {},
   "source": [
    "Now look initially these were my results. No matter how much I try, I could not get my accuracy above 15%. I was convinced there is some issue with my pre-processing"
   ]
  },
  {
   "cell_type": "markdown",
   "metadata": {},
   "source": [
    "Although the results were far from being good. I still could not figure my problem out. Suddenly while googling about the MNIST dataset, I found the issue. Let me show you what was the issue."
   ]
  },
  {
   "cell_type": "markdown",
   "metadata": {},
   "source": [
    "# Spotting the difference"
   ]
  },
  {
   "cell_type": "markdown",
   "metadata": {},
   "source": [
    "Here I present before you my image data and beside I have the standard MNIST data"
   ]
  },
  {
   "cell_type": "code",
   "execution_count": 70,
   "metadata": {},
   "outputs": [
    {
     "data": {
      "image/png": "[encoded data removed]",
      "text/plain": [
       "<Figure size 432x288 with 10 Axes>"
      ]
     },
     "metadata": {
      "needs_background": "light"
     },
     "output_type": "display_data"
    }
   ],
   "source": [
    "figure,axs=plt.subplots(5,2)\n",
    "axs[0,0].imshow(img11,cmap=plt.cm.binary)\n",
    "axs[0,0].set_title('Data Used')\n",
    "axs[0,1].imshow(np.reshape(X_train[78],(28,28)),cmap=plt.cm.binary)\n",
    "axs[0,1].set_title('Standard MNIST data')\n",
    "axs[1,0].imshow(img12,cmap=plt.cm.binary)\n",
    "#axs[1,0].set_title('Data Used')\n",
    "axs[1,1].imshow(np.reshape(X_train[8],(28,28)),cmap=plt.cm.binary)\n",
    "#axs[1,1].set_title('Standard MNIST Data')\n",
    "axs[2,0].imshow(img13,cmap=plt.cm.binary)\n",
    "#axs[2,0].set_title('Data Used')\n",
    "axs[2,1].imshow(np.reshape(X_train[1010],(28,28)),cmap=plt.cm.binary)\n",
    "#axs[2,1].set_title('Standard MNIST Data')\n",
    "axs[3,0].imshow(img14,cmap=plt.cm.binary)\n",
    "#axs[3,0].set_title('Data Used')\n",
    "axs[3,1].imshow(np.reshape(X_train[20],(28,28)),cmap=plt.cm.binary)\n",
    "#axs[3,1].set_title('Standard MNIST Data')\n",
    "axs[4,0].imshow(img15,cmap=plt.cm.binary)\n",
    "#axs[4,0].set_title('Data Used')\n",
    "axs[4,1].imshow(np.reshape(X_train[1000],(28,28)),cmap=plt.cm.binary)\n",
    "#axs[4,1].set_title('Standard MNIST Data')\n",
    "plt.show()"
   ]
  },
  {
   "cell_type": "markdown",
   "metadata": {},
   "source": [
    "First difference is that in the standard MNIST data our background is white and value is in black and in the Data used. As per my understanding that matters. If you provide something out of domain, it might affect. Let us invert the background and text color by using the simple priciples of Image processing and then train our network"
   ]
  },
  {
   "cell_type": "markdown",
   "metadata": {},
   "source": [
    "# Inverting the images and storing"
   ]
  },
  {
   "cell_type": "code",
   "execution_count": 108,
   "metadata": {},
   "outputs": [],
   "source": [
    "for i in range(len(X)):\n",
    "    layer=X[i];\n",
    "    for j in range(len(layer)):\n",
    "        layer[j]=(255-layer[j]);"
   ]
  },
  {
   "cell_type": "code",
   "execution_count": 109,
   "metadata": {},
   "outputs": [
    {
     "data": {
      "text/plain": [
       "<matplotlib.image.AxesImage at 0x2325f69a128>"
      ]
     },
     "execution_count": 109,
     "metadata": {},
     "output_type": "execute_result"
    },
    {
     "data": {
      "image/png": "[encoded data removed]",
      "text/plain": [
       "<Figure size 432x288 with 1 Axes>"
      ]
     },
     "metadata": {
      "needs_background": "light"
     },
     "output_type": "display_data"
    }
   ],
   "source": [
    "plt.imshow(np.reshape(X[10],(28,28)),cmap=plt.cm.binary)"
   ]
  },
  {
   "cell_type": "code",
   "execution_count": 110,
   "metadata": {},
   "outputs": [
    {
     "data": {
      "image/png": "[encoded data removed]",
      "text/plain": [
       "<Figure size 432x288 with 10 Axes>"
      ]
     },
     "metadata": {
      "needs_background": "light"
     },
     "output_type": "display_data"
    }
   ],
   "source": [
    "figure,axs=plt.subplots(5,2)\n",
    "axs[0,0].imshow(np.reshape(X[2],(28,28)),cmap=plt.cm.binary)\n",
    "axs[0,0].set_title('Data Used')\n",
    "axs[0,1].imshow(np.reshape(X_train[78],(28,28)),cmap=plt.cm.binary)\n",
    "axs[0,1].set_title('Standard MNIST data')\n",
    "axs[1,0].imshow(np.reshape(X[150],(28,28)),cmap=plt.cm.binary)\n",
    "#axs[1,0].set_title('Data Used')\n",
    "axs[1,1].imshow(np.reshape(X_train[8],(28,28)),cmap=plt.cm.binary)\n",
    "#axs[1,1].set_title('Standard MNIST Data')\n",
    "axs[2,0].imshow(np.reshape(X[180],(28,28)),cmap=plt.cm.binary)\n",
    "#axs[2,0].set_title('Data Used')\n",
    "axs[2,1].imshow(np.reshape(X_train[1010],(28,28)),cmap=plt.cm.binary)\n",
    "#axs[2,1].set_title('Standard MNIST Data')\n",
    "axs[3,0].imshow(np.reshape(X[300],(28,28)),cmap=plt.cm.binary)\n",
    "#axs[3,0].set_title('Data Used')\n",
    "axs[3,1].imshow(np.reshape(X_train[20],(28,28)),cmap=plt.cm.binary)\n",
    "#axs[3,1].set_title('Standard MNIST Data')\n",
    "axs[4,0].imshow(np.reshape(X[50],(28,28)),cmap=plt.cm.binary)\n",
    "#axs[4,0].set_title('Data Used')\n",
    "axs[4,1].imshow(np.reshape(X_train[1000],(28,28)),cmap=plt.cm.binary)\n",
    "#axs[4,1].set_title('Standard MNIST Data')\n",
    "plt.show()"
   ]
  },
  {
   "cell_type": "markdown",
   "metadata": {},
   "source": [
    "Somewhere it makes sense now. Let us retrain our network and then check our accuracy"
   ]
  },
  {
   "cell_type": "code",
   "execution_count": 111,
   "metadata": {},
   "outputs": [],
   "source": [
    "from sklearn.model_selection import train_test_split\n",
    "X_retrain,X_val,y_retrain,y_val=train_test_split(X,y,test_size=0.3, random_state=42)\n",
    "X_train_arr=np.array(X_retrain)/255\n",
    "X_val_arr=np.array(X_val)/255\n",
    "y_train_arr=np.array(y_retrain)\n",
    "y_val_arr=np.array(y_val)\n",
    "_,d=X_train_arr.shape"
   ]
  },
  {
   "cell_type": "code",
   "execution_count": 125,
   "metadata": {},
   "outputs": [
    {
     "name": "stdout",
     "output_type": "stream",
     "text": [
      "_________________________________________________________________\n",
      "Layer (type)                 Output Shape              Param #   \n",
      "=================================================================\n",
      "dense_74 (Dense)             (None, 500)               392500    \n",
      "_________________________________________________________________\n",
      "dropout_44 (Dropout)         (None, 500)               0         \n",
      "_________________________________________________________________\n",
      "dense_75 (Dense)             (None, 300)               150300    \n",
      "_________________________________________________________________\n",
      "dropout_45 (Dropout)         (None, 300)               0         \n",
      "_________________________________________________________________\n",
      "dense_76 (Dense)             (None, 100)               30100     \n",
      "_________________________________________________________________\n",
      "dropout_46 (Dropout)         (None, 100)               0         \n",
      "_________________________________________________________________\n",
      "dense_77 (Dense)             (None, 10)                1010      \n",
      "=================================================================\n",
      "Total params: 573,910\n",
      "Trainable params: 573,910\n",
      "Non-trainable params: 0\n",
      "_________________________________________________________________\n"
     ]
    }
   ],
   "source": [
    "ganguly = Sequential()\n",
    "ganguly.add(Dense(500, activation='relu', input_shape=(d,)))\n",
    "ganguly.add(Dropout(0.3))\n",
    "ganguly.add(Dense(300, activation='relu'))\n",
    "ganguly.add(Dropout(0.2))\n",
    "ganguly.add(Dense(100, activation='relu'))\n",
    "ganguly.add(Dropout(0.2))\n",
    "ganguly.add(Dense(10, activation='softmax'))\n",
    "ganguly.summary()"
   ]
  },
  {
   "cell_type": "code",
   "execution_count": 126,
   "metadata": {},
   "outputs": [
    {
     "name": "stdout",
     "output_type": "stream",
     "text": [
      "Train on 252 samples, validate on 109 samples\n",
      "Epoch 1/30\n",
      "252/252 [==============================] - 4s 16ms/step - loss: 2.6647 - acc: 0.0833 - val_loss: 2.3121 - val_acc: 0.1193\n",
      "Epoch 2/30\n",
      "252/252 [==============================] - 0s 602us/step - loss: 2.4099 - acc: 0.1032 - val_loss: 2.2862 - val_acc: 0.0642\n",
      "Epoch 3/30\n",
      "252/252 [==============================] - 0s 594us/step - loss: 2.3843 - acc: 0.0754 - val_loss: 2.2924 - val_acc: 0.0917\n",
      "Epoch 4/30\n",
      "252/252 [==============================] - 0s 571us/step - loss: 2.3028 - acc: 0.1230 - val_loss: 2.2715 - val_acc: 0.0642\n",
      "Epoch 5/30\n",
      "252/252 [==============================] - 0s 609us/step - loss: 2.2691 - acc: 0.1151 - val_loss: 2.2489 - val_acc: 0.0917\n",
      "Epoch 6/30\n",
      "252/252 [==============================] - 0s 610us/step - loss: 2.2622 - acc: 0.1111 - val_loss: 2.2813 - val_acc: 0.0917\n",
      "Epoch 7/30\n",
      "252/252 [==============================] - 0s 701us/step - loss: 2.2789 - acc: 0.1310 - val_loss: 2.2755 - val_acc: 0.0917\n",
      "Epoch 8/30\n",
      "252/252 [==============================] - 0s 715us/step - loss: 2.2647 - acc: 0.1071 - val_loss: 2.2781 - val_acc: 0.0917\n",
      "Epoch 9/30\n",
      "252/252 [==============================] - 0s 723us/step - loss: 2.2864 - acc: 0.0873 - val_loss: 2.2641 - val_acc: 0.0917\n",
      "Epoch 10/30\n",
      "252/252 [==============================] - 0s 724us/step - loss: 2.2507 - acc: 0.1310 - val_loss: 2.2377 - val_acc: 0.1009\n",
      "Epoch 11/30\n",
      "252/252 [==============================] - 0s 821us/step - loss: 2.2707 - acc: 0.1389 - val_loss: 2.2606 - val_acc: 0.1009\n",
      "Epoch 12/30\n",
      "252/252 [==============================] - 0s 833us/step - loss: 2.2563 - acc: 0.0794 - val_loss: 2.2594 - val_acc: 0.0642\n",
      "Epoch 13/30\n",
      "252/252 [==============================] - 0s 916us/step - loss: 2.2415 - acc: 0.1508 - val_loss: 2.2566 - val_acc: 0.0642\n",
      "Epoch 14/30\n",
      "252/252 [==============================] - 0s 710us/step - loss: 2.2221 - acc: 0.1865 - val_loss: 2.2460 - val_acc: 0.0642\n",
      "Epoch 15/30\n",
      "252/252 [==============================] - 0s 687us/step - loss: 2.2668 - acc: 0.0992 - val_loss: 2.2538 - val_acc: 0.0642\n",
      "Epoch 16/30\n",
      "252/252 [==============================] - 0s 719us/step - loss: 2.2403 - acc: 0.1151 - val_loss: 2.2349 - val_acc: 0.1193\n",
      "Epoch 17/30\n",
      "252/252 [==============================] - 0s 699us/step - loss: 2.2516 - acc: 0.0833 - val_loss: 2.2384 - val_acc: 0.0642\n",
      "Epoch 18/30\n",
      "252/252 [==============================] - 0s 697us/step - loss: 2.2451 - acc: 0.1190 - val_loss: 2.2418 - val_acc: 0.0917\n",
      "Epoch 19/30\n",
      "252/252 [==============================] - 0s 750us/step - loss: 2.2404 - acc: 0.1071 - val_loss: 2.2648 - val_acc: 0.0642\n",
      "Epoch 20/30\n",
      "252/252 [==============================] - 0s 689us/step - loss: 2.2163 - acc: 0.1349 - val_loss: 2.2545 - val_acc: 0.0642\n",
      "Epoch 21/30\n",
      "252/252 [==============================] - 0s 662us/step - loss: 2.2339 - acc: 0.0992 - val_loss: 2.2321 - val_acc: 0.0642\n",
      "Epoch 22/30\n",
      "252/252 [==============================] - 0s 650us/step - loss: 2.2427 - acc: 0.1270 - val_loss: 2.2283 - val_acc: 0.0642\n",
      "Epoch 23/30\n",
      "252/252 [==============================] - 0s 665us/step - loss: 2.2252 - acc: 0.1429 - val_loss: 2.2326 - val_acc: 0.0642\n",
      "Epoch 24/30\n",
      "252/252 [==============================] - 0s 618us/step - loss: 2.2380 - acc: 0.1190 - val_loss: 2.2359 - val_acc: 0.0642\n",
      "Epoch 25/30\n",
      "252/252 [==============================] - ETA: 0s - loss: 2.2272 - acc: 0.116 - 0s 713us/step - loss: 2.2413 - acc: 0.1111 - val_loss: 2.2325 - val_acc: 0.0642\n",
      "Epoch 26/30\n",
      "252/252 [==============================] - 0s 724us/step - loss: 2.2190 - acc: 0.1151 - val_loss: 2.2462 - val_acc: 0.0642\n",
      "Epoch 27/30\n",
      "252/252 [==============================] - 0s 771us/step - loss: 2.2389 - acc: 0.0992 - val_loss: 2.2380 - val_acc: 0.0642\n",
      "Epoch 28/30\n",
      "252/252 [==============================] - 0s 768us/step - loss: 2.2397 - acc: 0.1111 - val_loss: 2.2321 - val_acc: 0.0642\n",
      "Epoch 29/30\n",
      "252/252 [==============================] - 0s 852us/step - loss: 2.2252 - acc: 0.1032 - val_loss: 2.2382 - val_acc: 0.0642\n",
      "Epoch 30/30\n",
      "252/252 [==============================] - 0s 736us/step - loss: 2.2246 - acc: 0.1429 - val_loss: 2.2500 - val_acc: 0.0642\n",
      "Final accuracy on the training data is: 0.14285714309366923\n",
      "Cross_Validating accuracy is: 0.06422018348623854\n"
     ]
    }
   ],
   "source": [
    "ganguly.compile(loss='categorical_crossentropy',optimizer='adam',metrics=['accuracy'])\n",
    "filepath=\"IIITD_MIDAS_Task2_subpart2_retrain.hdf5\"\n",
    "checkpoint = ModelCheckpoint(filepath, monitor='val_accuracy', verbose=1, save_best_only=True, mode='max')\n",
    "callbacks_list = [checkpoint]\n",
    "feeds=ganguly.fit(x=X_train_arr,y=y_train_arr,epochs=30,validation_data=(X_val_arr,y_val_arr))\n",
    "#print(feeds.history)\n",
    "print(\"Final accuracy on the training data is:\",feeds.history['acc'][-1]);\n",
    "print(\"Cross_Validating accuracy is:\",feeds.history['val_acc'][-1]);"
   ]
  },
  {
   "cell_type": "code",
   "execution_count": 127,
   "metadata": {},
   "outputs": [
    {
     "name": "stdout",
     "output_type": "stream",
     "text": [
      "10000/10000 [==============================] - 2s 200us/step\n",
      "Loss: 2.3276687168121337 Accuracy: 0.0813\n"
     ]
    }
   ],
   "source": [
    "values=ganguly.evaluate(X_test,y_test)\n",
    "print('Loss:',values[0],'Accuracy:',values[1])"
   ]
  },
  {
   "cell_type": "markdown",
   "metadata": {},
   "source": [
    "Note: The results are far below expectation and this model does worse than normal MNIST model. The convergence time is fast but accuracy is very low"
   ]
  }
 ],
 "metadata": {
  "kernelspec": {
   "display_name": "Python 3",
   "language": "python",
   "name": "python3"
  },
  "language_info": {
   "codemirror_mode": {
    "name": "ipython",
    "version": 3
   },
   "file_extension": ".py",
   "mimetype": "text/x-python",
   "name": "python",
   "nbconvert_exporter": "python",
   "pygments_lexer": "ipython3",
   "version": "3.6.8"
  }
 },
 "nbformat": 4,
 "nbformat_minor": 2
}
