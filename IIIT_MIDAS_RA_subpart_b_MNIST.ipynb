{
 "cells": [
  {
   "cell_type": "markdown",
   "metadata": {},
   "source": [
    "# Importing modules"
   ]
  },
  {
   "cell_type": "markdown",
   "metadata": {},
   "source": [
    "So as in subpart (a), here again we begin our process with the standard procedure of importing of required modules. \n",
    "Like above \n",
    "cv2 is for openCV\n",
    "matplotlib for plotting the images\n",
    "keras api using tensorflow backend\n",
    "the different layers required for CNN\n",
    "os for loading the images\n",
    "numpy for standard numerical calculation"
   ]
  },
  {
   "cell_type": "code",
   "execution_count": 1,
   "metadata": {},
   "outputs": [
    {
     "name": "stderr",
     "output_type": "stream",
     "text": [
      "D:\\anaconda\\lib\\site-packages\\tensorflow\\python\\framework\\dtypes.py:523: FutureWarning: Passing (type, 1) or '1type' as a synonym of type is deprecated; in a future version of numpy, it will be understood as (type, (1,)) / '(1,)type'.\n",
      "  _np_qint8 = np.dtype([(\"qint8\", np.int8, 1)])\n",
      "D:\\anaconda\\lib\\site-packages\\tensorflow\\python\\framework\\dtypes.py:524: FutureWarning: Passing (type, 1) or '1type' as a synonym of type is deprecated; in a future version of numpy, it will be understood as (type, (1,)) / '(1,)type'.\n",
      "  _np_quint8 = np.dtype([(\"quint8\", np.uint8, 1)])\n",
      "D:\\anaconda\\lib\\site-packages\\tensorflow\\python\\framework\\dtypes.py:525: FutureWarning: Passing (type, 1) or '1type' as a synonym of type is deprecated; in a future version of numpy, it will be understood as (type, (1,)) / '(1,)type'.\n",
      "  _np_qint16 = np.dtype([(\"qint16\", np.int16, 1)])\n",
      "D:\\anaconda\\lib\\site-packages\\tensorflow\\python\\framework\\dtypes.py:526: FutureWarning: Passing (type, 1) or '1type' as a synonym of type is deprecated; in a future version of numpy, it will be understood as (type, (1,)) / '(1,)type'.\n",
      "  _np_quint16 = np.dtype([(\"quint16\", np.uint16, 1)])\n",
      "D:\\anaconda\\lib\\site-packages\\tensorflow\\python\\framework\\dtypes.py:527: FutureWarning: Passing (type, 1) or '1type' as a synonym of type is deprecated; in a future version of numpy, it will be understood as (type, (1,)) / '(1,)type'.\n",
      "  _np_qint32 = np.dtype([(\"qint32\", np.int32, 1)])\n",
      "D:\\anaconda\\lib\\site-packages\\tensorflow\\python\\framework\\dtypes.py:532: FutureWarning: Passing (type, 1) or '1type' as a synonym of type is deprecated; in a future version of numpy, it will be understood as (type, (1,)) / '(1,)type'.\n",
      "  np_resource = np.dtype([(\"resource\", np.ubyte, 1)])\n",
      "Using TensorFlow backend.\n"
     ]
    }
   ],
   "source": [
    "import cv2\n",
    "import matplotlib.pyplot as plt\n",
    "from tensorflow import keras\n",
    "from keras.models import Sequential\n",
    "from keras.layers import Dense, Dropout, Activation, Flatten\n",
    "from keras.layers import Convolution2D,Conv2D, MaxPooling2D\n",
    "from keras.utils import np_utils\n",
    "import os\n",
    "import numpy as np"
   ]
  },
  {
   "cell_type": "markdown",
   "metadata": {},
   "source": [
    "# Defining of one_hot vector"
   ]
  },
  {
   "cell_type": "markdown",
   "metadata": {},
   "source": [
    "For better results let us define the one hot vector encoding for each symbol"
   ]
  },
  {
   "cell_type": "code",
   "execution_count": 2,
   "metadata": {},
   "outputs": [],
   "source": [
    "#We create a function to create a one_hot vector. Although it is a list now, will be converted into an array later\n",
    "def one_hot(value,size):\n",
    "    arr=np.array([0]*size);\n",
    "    arr[value]=1;\n",
    "    return arr;"
   ]
  },
  {
   "cell_type": "markdown",
   "metadata": {},
   "source": [
    "# Importing images"
   ]
  },
  {
   "cell_type": "markdown",
   "metadata": {},
   "source": [
    "Next step includes loading the images into two lists defined below\n",
    "Note:\n",
    "    X=images loaded\n",
    "    y=output one_hot vector"
   ]
  },
  {
   "cell_type": "code",
   "execution_count": 3,
   "metadata": {},
   "outputs": [],
   "source": [
    "X,y=list(),list();#define empty list for loading images and output one-hot vector\n",
    "#copying path and the folder contents from subpart a\n",
    "path=\"D://datasets//IIIT_D//train\";#path where the dataset is downloaded in my machine\n",
    "fol=os.listdir(path)#list of files in the 'train' folder in the location D:\\datasets\\IIIT_D\\train\n",
    "size=10;\n",
    "flag=0;\n",
    "for val,i in enumerate(fol):\n",
    "    path_n=os.path.join(path,i);\n",
    "    for img_n in os.listdir(path_n):\n",
    "        img=cv2.imread(os.path.join(path_n,img_n),cv2.IMREAD_GRAYSCALE)/255#normalize by dividing by 255 for better results.\n",
    "        X.append((np.reshape(cv2.resize(img,(50,50)),(50,50,1))))#initially we obtained a 2d array. In order to fit it in our keras CNN model, we had to convert it into a 3d model. Also the image is downsized to avoid OOM (Out of Memory) exception\n",
    "        y.append(one_hot(val,size))#store our results by converting it into a one-hot vector. Here the enumerate () returning counter val palys a very important role.\n",
    "        if(val==9):\n",
    "            flag=1;\n",
    "            break;\n",
    "    if(flag):\n",
    "        break;"
   ]
  },
  {
   "cell_type": "markdown",
   "metadata": {},
   "source": [
    "# Checking the inputted image for further preprocessing (if required)"
   ]
  },
  {
   "cell_type": "markdown",
   "metadata": {},
   "source": [
    "We start by checking that only Samples from 0-9 have been loaded. Moreover we check the corresponding dimension of each training data and output each. Next we visualize the images of 5-6 random images to get idea of its dimension\n",
    "Lastly since our data has been normalized by dividing by 255, we compare images with and without nomalization"
   ]
  },
  {
   "cell_type": "code",
   "execution_count": 4,
   "metadata": {},
   "outputs": [
    {
     "name": "stdout",
     "output_type": "stream",
     "text": [
      "Number of files scanned: 361\n",
      "Number of output vectors 361\n"
     ]
    }
   ],
   "source": [
    "print(\"Number of files scanned:\",len(X));\n",
    "print(\"Number of output vectors\",len(y));"
   ]
  },
  {
   "cell_type": "code",
   "execution_count": 13,
   "metadata": {},
   "outputs": [],
   "source": [
    "img01=cv2.imread(\"D://datasets//IIIT_D//train//Sample003//img003-008.png\",cv2.IMREAD_GRAYSCALE)\n",
    "img02=cv2.imread(\"D://datasets//IIIT_D//train//Sample001//img001-010.png\",cv2.IMREAD_GRAYSCALE)\n",
    "img03=cv2.imread(\"D://datasets//IIIT_D//train//Sample008//img008-055.png\",cv2.IMREAD_GRAYSCALE)\n",
    "img04=cv2.imread(\"D://datasets//IIIT_D//train//Sample006//img006-004.png\",cv2.IMREAD_GRAYSCALE)\n",
    "img05=cv2.imread(\"D://datasets//IIIT_D//train//Sample010//img010-020.png\",cv2.IMREAD_GRAYSCALE)\n",
    "img11=img01/255;\n",
    "img12=img02/255;\n",
    "img13=img03/255;\n",
    "img14=img04/255;\n",
    "img15=img05/255;"
   ]
  },
  {
   "cell_type": "code",
   "execution_count": 14,
   "metadata": {},
   "outputs": [
    {
     "data": {
      "image/png": "[encoded data removed]",
      "text/plain": [
       "<Figure size 432x288 with 10 Axes>"
      ]
     },
     "metadata": {
      "needs_background": "light"
     },
     "output_type": "display_data"
    }
   ],
   "source": [
    "figure,axs=plt.subplots(5,2)\n",
    "axs[0,0].imshow(img01,cmap=plt.cm.binary)\n",
    "axs[0,0].set_title('Not-normalized')\n",
    "axs[0,1].imshow(img11,cmap=plt.cm.binary)\n",
    "axs[0,1].set_title('Normalized')\n",
    "axs[1,0].imshow(img02,cmap=plt.cm.binary)\n",
    "axs[1,0].set_title('Not-normalized')\n",
    "axs[1,1].imshow(img12,cmap=plt.cm.binary)\n",
    "axs[1,1].set_title('Normalized')\n",
    "axs[2,0].imshow(img03,cmap=plt.cm.binary)\n",
    "axs[2,0].set_title('Not-normalized')\n",
    "axs[2,1].imshow(img13,cmap=plt.cm.binary)\n",
    "axs[2,1].set_title('Normalized')\n",
    "axs[3,0].imshow(img04,cmap=plt.cm.binary)\n",
    "axs[3,0].set_title('Not-normalized')\n",
    "axs[3,1].imshow(img14,cmap=plt.cm.binary)\n",
    "axs[3,1].set_title('Normalized')\n",
    "axs[4,0].imshow(img05,cmap=plt.cm.binary)\n",
    "axs[4,0].set_title('Not-normalized')\n",
    "axs[4,1].imshow(img15,cmap=plt.cm.binary)\n",
    "axs[4,1].set_title('Normalized')\n",
    "plt.show()"
   ]
  },
  {
   "cell_type": "markdown",
   "metadata": {},
   "source": [
    "As the overlapping construct is very difficult to decipher let us keep only one title for each column, left one is dedicated for Not-normalized\n",
    "whereas the right one is dedicated for Normalized"
   ]
  },
  {
   "cell_type": "code",
   "execution_count": 15,
   "metadata": {},
   "outputs": [
    {
     "data": {
      "image/png": "[encoded data removed]",
      "text/plain": [
       "<Figure size 432x288 with 10 Axes>"
      ]
     },
     "metadata": {
      "needs_background": "light"
     },
     "output_type": "display_data"
    }
   ],
   "source": [
    "figure,axs=plt.subplots(5,2)\n",
    "axs[0,0].imshow(img01,cmap=plt.cm.binary)\n",
    "axs[0,0].set_title('Not-normalized')\n",
    "axs[0,1].imshow(img11,cmap=plt.cm.binary)\n",
    "axs[0,1].set_title('Normalized')\n",
    "axs[1,0].imshow(img02,cmap=plt.cm.binary)\n",
    "#axs[1,0].set_title('Not-normalized')\n",
    "axs[1,1].imshow(img12,cmap=plt.cm.binary)\n",
    "#axs[1,1].set_title('Normalized')\n",
    "axs[2,0].imshow(img03,cmap=plt.cm.binary)\n",
    "#axs[2,0].set_title('Not-normalized')\n",
    "axs[2,1].imshow(img13,cmap=plt.cm.binary)\n",
    "#axs[2,1].set_title('Normalized')\n",
    "axs[3,0].imshow(img04,cmap=plt.cm.binary)\n",
    "#axs[3,0].set_title('Not-normalized')\n",
    "axs[3,1].imshow(img14,cmap=plt.cm.binary)\n",
    "#axs[3,1].set_title('Normalized')\n",
    "axs[4,0].imshow(img05,cmap=plt.cm.binary)\n",
    "#axs[4,0].set_title('Not-normalized')\n",
    "axs[4,1].imshow(img15,cmap=plt.cm.binary)\n",
    "#axs[4,1].set_title('Normalized')\n",
    "plt.show()"
   ]
  },
  {
   "cell_type": "markdown",
   "metadata": {},
   "source": [
    "Ok all good we are all set with the nomalizing job and we can safely confirm that the images are not distorted or disturbed by this action.\n",
    "Next we convert the training sets into numpy arrays and divide them into training and cross validation sets"
   ]
  },
  {
   "cell_type": "markdown",
   "metadata": {},
   "source": [
    "# Splitting into training and cross validation sets"
   ]
  },
  {
   "cell_type": "code",
   "execution_count": 16,
   "metadata": {},
   "outputs": [],
   "source": [
    "from sklearn.model_selection import train_test_split\n",
    "X_train,X_val,y_train,y_val=train_test_split(X,y,test_size=0.15, random_state=42)\n",
    "X_train_arr=np.array(X_train)\n",
    "X_val_arr=np.array(X_val)\n",
    "y_train_arr=np.array(y_train)\n",
    "y_val_arr=np.array(y_val)\n",
    "_,h,w,d=X_train_arr.shape"
   ]
  },
  {
   "cell_type": "code",
   "execution_count": 17,
   "metadata": {},
   "outputs": [
    {
     "name": "stdout",
     "output_type": "stream",
     "text": [
      "X_dimensions: (306, 50, 50, 1)\n",
      "y_dimensions: (306, 10)\n"
     ]
    }
   ],
   "source": [
    "print('X_dimensions:',X_train_arr.shape)\n",
    "print('y_dimensions:',y_train_arr.shape)"
   ]
  },
  {
   "cell_type": "markdown",
   "metadata": {},
   "source": [
    "# Creation of the CNN network"
   ]
  },
  {
   "cell_type": "markdown",
   "metadata": {},
   "source": [
    "Now it is time to create our Sequential CNN model. We shall start with small networks and then poceed to bigger networks. \n",
    "Number of epochs let us fix at 8 for now later if this does not works we shall modify"
   ]
  },
  {
   "cell_type": "code",
   "execution_count": 18,
   "metadata": {},
   "outputs": [
    {
     "name": "stderr",
     "output_type": "stream",
     "text": [
      "D:\\anaconda\\lib\\site-packages\\ipykernel_launcher.py:2: UserWarning: Update your `Conv2D` call to the Keras 2 API: `Conv2D(10, kernel_size=5, activation=\"relu\", input_shape=(50, 50, 1..., padding=\"same\")`\n",
      "  \n"
     ]
    },
    {
     "name": "stdout",
     "output_type": "stream",
     "text": [
      "_________________________________________________________________\n",
      "Layer (type)                 Output Shape              Param #   \n",
      "=================================================================\n",
      "conv2d_1 (Conv2D)            (None, 50, 50, 10)        260       \n",
      "_________________________________________________________________\n",
      "max_pooling2d_1 (MaxPooling2 (None, 25, 25, 10)        0         \n",
      "_________________________________________________________________\n",
      "flatten_1 (Flatten)          (None, 6250)              0         \n",
      "_________________________________________________________________\n",
      "dense_1 (Dense)              (None, 10)                62510     \n",
      "=================================================================\n",
      "Total params: 62,770\n",
      "Trainable params: 62,770\n",
      "Non-trainable params: 0\n",
      "_________________________________________________________________\n"
     ]
    }
   ],
   "source": [
    "ganguly = Sequential()\n",
    "ganguly.add(Conv2D(10, kernel_size=5, activation='relu',border_mode='same', input_shape=(h,w,d)))\n",
    "ganguly.add(MaxPooling2D(pool_size=(2,2)))\n",
    "ganguly.add(Flatten())\n",
    "ganguly.add(Dense(10, activation='softmax'))\n",
    "ganguly.summary()"
   ]
  },
  {
   "cell_type": "code",
   "execution_count": 21,
   "metadata": {},
   "outputs": [
    {
     "name": "stdout",
     "output_type": "stream",
     "text": [
      "Train on 306 samples, validate on 55 samples\n",
      "Epoch 1/8\n",
      "306/306 [==============================] - 1s 4ms/step - loss: 1.1043 - acc: 0.7092 - val_loss: 1.5456 - val_acc: 0.5273\n",
      "Epoch 2/8\n",
      "306/306 [==============================] - 0s 509us/step - loss: 1.0260 - acc: 0.7320 - val_loss: 1.3901 - val_acc: 0.5636\n",
      "Epoch 3/8\n",
      "306/306 [==============================] - 0s 503us/step - loss: 0.9165 - acc: 0.8007 - val_loss: 1.3533 - val_acc: 0.5818\n",
      "Epoch 4/8\n",
      "306/306 [==============================] - 0s 535us/step - loss: 0.8441 - acc: 0.8137 - val_loss: 1.3042 - val_acc: 0.6000\n",
      "Epoch 5/8\n",
      "306/306 [==============================] - 0s 538us/step - loss: 0.7760 - acc: 0.8170 - val_loss: 1.2880 - val_acc: 0.6000\n",
      "Epoch 6/8\n",
      "306/306 [==============================] - 0s 524us/step - loss: 0.7034 - acc: 0.8431 - val_loss: 1.3250 - val_acc: 0.5636\n",
      "Epoch 7/8\n",
      "306/306 [==============================] - 0s 541us/step - loss: 0.6582 - acc: 0.8464 - val_loss: 1.2657 - val_acc: 0.6182\n",
      "Epoch 8/8\n",
      "306/306 [==============================] - 0s 532us/step - loss: 0.6095 - acc: 0.8693 - val_loss: 1.2594 - val_acc: 0.5818\n",
      "{'val_loss': [1.5455748861486263, 1.390054085037925, 1.3532799373973499, 1.3042182900688866, 1.2880278413945978, 1.3250332854010842, 1.2657128832556985, 1.2593612670898438], 'val_acc': [0.5272727207704024, 0.5636363571340387, 0.5818181915716691, 0.6000000097534873, 0.6000000054186041, 0.563636373389851, 0.6181818236004223, 0.5818181915716691], 'loss': [1.104275899774888, 1.0260301321939704, 0.9165441709406236, 0.8441457763996, 0.7759568048458473, 0.7034239737816106, 0.6581915768922544, 0.6094763323762058], 'acc': [0.7091503264078127, 0.7320261449595682, 0.8006535939920961, 0.8137254890273599, 0.8169934628835691, 0.8431372549019608, 0.8464052279790243, 0.8692810461412068]}\n"
     ]
    }
   ],
   "source": [
    "ganguly.compile(loss='categorical_crossentropy',optimizer='adam',metrics=['accuracy'])\n",
    "feeds=ganguly.fit(x=X_train_arr,y=y_train_arr,epochs=8,validation_data=(X_val_arr,y_val_arr))\n",
    "print(feeds.history)"
   ]
  },
  {
   "cell_type": "code",
   "execution_count": 22,
   "metadata": {},
   "outputs": [
    {
     "name": "stdout",
     "output_type": "stream",
     "text": [
      "Final accuracy on the training data is: 0.8692810461412068\n",
      "Cross_Validating accuracy is: 0.5818181915716691\n"
     ]
    }
   ],
   "source": [
    "print(\"Final accuracy on the training data is:\",feeds.history['acc'][-1]);\n",
    "print(\"Cross_Validating accuracy is:\",feeds.history['val_acc'][-1]);"
   ]
  },
  {
   "cell_type": "raw",
   "metadata": {},
   "source": [
    "Pretty decent but need to work on the validating accuracy. Thus, to do so we have to train our data some more. But if we add more and more layers, we might enter overfitting. First let us see with increasing the number of perceptrons"
   ]
  },
  {
   "cell_type": "code",
   "execution_count": 23,
   "metadata": {
    "scrolled": true
   },
   "outputs": [
    {
     "name": "stderr",
     "output_type": "stream",
     "text": [
      "D:\\anaconda\\lib\\site-packages\\ipykernel_launcher.py:2: UserWarning: Update your `Conv2D` call to the Keras 2 API: `Conv2D(20, kernel_size=5, activation=\"relu\", input_shape=(50, 50, 1..., padding=\"same\")`\n",
      "  \n"
     ]
    },
    {
     "name": "stdout",
     "output_type": "stream",
     "text": [
      "Train on 306 samples, validate on 55 samples\n",
      "Epoch 1/8\n",
      "306/306 [==============================] - 1s 4ms/step - loss: 2.3826 - acc: 0.1209 - val_loss: 2.2860 - val_acc: 0.0909\n",
      "Epoch 2/8\n",
      "306/306 [==============================] - 0s 389us/step - loss: 2.1366 - acc: 0.2157 - val_loss: 2.0238 - val_acc: 0.3818\n",
      "Epoch 3/8\n",
      "306/306 [==============================] - 0s 431us/step - loss: 1.9061 - acc: 0.5588 - val_loss: 1.8939 - val_acc: 0.4182\n",
      "Epoch 4/8\n",
      "306/306 [==============================] - 0s 497us/step - loss: 1.6757 - acc: 0.5850 - val_loss: 1.7183 - val_acc: 0.5091\n",
      "Epoch 5/8\n",
      "306/306 [==============================] - 0s 545us/step - loss: 1.4464 - acc: 0.6373 - val_loss: 1.6127 - val_acc: 0.5455\n",
      "Epoch 6/8\n",
      "306/306 [==============================] - 0s 631us/step - loss: 1.2647 - acc: 0.6895 - val_loss: 1.4945 - val_acc: 0.5636\n",
      "Epoch 7/8\n",
      "306/306 [==============================] - 0s 618us/step - loss: 1.1140 - acc: 0.7124 - val_loss: 1.4436 - val_acc: 0.5636\n",
      "Epoch 8/8\n",
      "306/306 [==============================] - 0s 597us/step - loss: 0.9627 - acc: 0.7582 - val_loss: 1.4054 - val_acc: 0.5273\n",
      "Final accuracy on the training data is: 0.7581699338613772\n",
      "Cross_Validating accuracy is: 0.5272727207704024\n"
     ]
    }
   ],
   "source": [
    "ganguly = Sequential()\n",
    "ganguly.add(Conv2D(20, kernel_size=5, activation='relu',border_mode='same', input_shape=(h,w,d)))\n",
    "ganguly.add(MaxPooling2D(pool_size=(2,2)))\n",
    "ganguly.add(Flatten())\n",
    "ganguly.add(Dense(10, activation='softmax'))\n",
    "ganguly.compile(loss='categorical_crossentropy',optimizer='adam',metrics=['accuracy'])\n",
    "feeds=ganguly.fit(x=X_train_arr,y=y_train_arr,epochs=8,validation_data=(X_val_arr,y_val_arr))\n",
    "#print(feeds.history)\n",
    "print(\"Final accuracy on the training data is:\",feeds.history['acc'][-1]);\n",
    "print(\"Cross_Validating accuracy is:\",feeds.history['val_acc'][-1]);"
   ]
  },
  {
   "cell_type": "raw",
   "metadata": {},
   "source": [
    "Since our validation loss is decreasing at a very good rate, this model might work with some more epochs."
   ]
  },
  {
   "cell_type": "code",
   "execution_count": 24,
   "metadata": {},
   "outputs": [
    {
     "name": "stdout",
     "output_type": "stream",
     "text": [
      "Train on 306 samples, validate on 55 samples\n",
      "Epoch 1/15\n",
      "306/306 [==============================] - 0s 2ms/step - loss: 0.8368 - acc: 0.7810 - val_loss: 1.3098 - val_acc: 0.6000\n",
      "Epoch 2/15\n",
      "306/306 [==============================] - 0s 612us/step - loss: 0.7372 - acc: 0.8268 - val_loss: 1.3003 - val_acc: 0.6364\n",
      "Epoch 3/15\n",
      "306/306 [==============================] - 0s 635us/step - loss: 0.6535 - acc: 0.8431 - val_loss: 1.2537 - val_acc: 0.6000\n",
      "Epoch 4/15\n",
      "306/306 [==============================] - 0s 612us/step - loss: 0.5805 - acc: 0.8889 - val_loss: 1.1955 - val_acc: 0.6364\n",
      "Epoch 5/15\n",
      "306/306 [==============================] - 0s 633us/step - loss: 0.5186 - acc: 0.8856 - val_loss: 1.2184 - val_acc: 0.6364\n",
      "Epoch 6/15\n",
      "306/306 [==============================] - 0s 631us/step - loss: 0.4691 - acc: 0.9052 - val_loss: 1.1906 - val_acc: 0.6545\n",
      "Epoch 7/15\n",
      "306/306 [==============================] - 0s 629us/step - loss: 0.4119 - acc: 0.9314 - val_loss: 1.2508 - val_acc: 0.6182\n",
      "Epoch 8/15\n",
      "306/306 [==============================] - 0s 636us/step - loss: 0.3848 - acc: 0.9248 - val_loss: 1.1522 - val_acc: 0.6545\n",
      "Epoch 9/15\n",
      "306/306 [==============================] - 0s 615us/step - loss: 0.3546 - acc: 0.9412 - val_loss: 1.1160 - val_acc: 0.6727\n",
      "Epoch 10/15\n",
      "306/306 [==============================] - 0s 653us/step - loss: 0.3099 - acc: 0.9542 - val_loss: 1.1863 - val_acc: 0.6727\n",
      "Epoch 11/15\n",
      "306/306 [==============================] - 0s 673us/step - loss: 0.2832 - acc: 0.9608 - val_loss: 1.1540 - val_acc: 0.6727\n",
      "Epoch 12/15\n",
      "306/306 [==============================] - 0s 647us/step - loss: 0.2507 - acc: 0.9641 - val_loss: 1.1612 - val_acc: 0.6727\n",
      "Epoch 13/15\n",
      "306/306 [==============================] - 0s 683us/step - loss: 0.2298 - acc: 0.9641 - val_loss: 1.1532 - val_acc: 0.6727\n",
      "Epoch 14/15\n",
      "306/306 [==============================] - 0s 613us/step - loss: 0.2114 - acc: 0.9739 - val_loss: 1.1842 - val_acc: 0.6545\n",
      "Epoch 15/15\n",
      "306/306 [==============================] - 0s 613us/step - loss: 0.1900 - acc: 0.9837 - val_loss: 1.1317 - val_acc: 0.6909\n",
      "Final accuracy on the training data is: 0.9836601307189542\n",
      "Cross_Validating accuracy is: 0.6909090919928117\n"
     ]
    }
   ],
   "source": [
    "feeds=ganguly.fit(x=X_train_arr,y=y_train_arr,epochs=15,validation_data=(X_val_arr,y_val_arr))\n",
    "#print(feeds.history)\n",
    "print(\"Final accuracy on the training data is:\",feeds.history['acc'][-1]);\n",
    "print(\"Cross_Validating accuracy is:\",feeds.history['val_acc'][-1]);"
   ]
  },
  {
   "cell_type": "raw",
   "metadata": {},
   "source": [
    "Let us increase epoch to 30 and possibly we shall get a much better validation accuracy. If not then probably we need to add some more perceptrons"
   ]
  },
  {
   "cell_type": "code",
   "execution_count": 25,
   "metadata": {},
   "outputs": [
    {
     "name": "stdout",
     "output_type": "stream",
     "text": [
      "Train on 306 samples, validate on 55 samples\n",
      "Epoch 1/30\n",
      "306/306 [==============================] - 0s 2ms/step - loss: 0.1756 - acc: 0.9935 - val_loss: 1.1709 - val_acc: 0.6909\n",
      "Epoch 2/30\n",
      "306/306 [==============================] - 0s 618us/step - loss: 0.1597 - acc: 0.9837 - val_loss: 1.1517 - val_acc: 0.6909\n",
      "Epoch 3/30\n",
      "306/306 [==============================] - 0s 650us/step - loss: 0.1454 - acc: 0.9935 - val_loss: 1.1920 - val_acc: 0.6909\n",
      "Epoch 4/30\n",
      "306/306 [==============================] - 0s 615us/step - loss: 0.1358 - acc: 0.9902 - val_loss: 1.1660 - val_acc: 0.6909\n",
      "Epoch 5/30\n",
      "306/306 [==============================] - 0s 637us/step - loss: 0.1263 - acc: 0.9935 - val_loss: 1.2115 - val_acc: 0.6909\n",
      "Epoch 6/30\n",
      "306/306 [==============================] - 0s 601us/step - loss: 0.1242 - acc: 0.9967 - val_loss: 1.1659 - val_acc: 0.6909\n",
      "Epoch 7/30\n",
      "306/306 [==============================] - 0s 659us/step - loss: 0.1128 - acc: 0.9935 - val_loss: 1.2144 - val_acc: 0.6909\n",
      "Epoch 8/30\n",
      "306/306 [==============================] - 0s 614us/step - loss: 0.1019 - acc: 1.0000 - val_loss: 1.1795 - val_acc: 0.6909\n",
      "Epoch 9/30\n",
      "306/306 [==============================] - 0s 623us/step - loss: 0.0958 - acc: 0.9967 - val_loss: 1.2207 - val_acc: 0.6909\n",
      "Epoch 10/30\n",
      "306/306 [==============================] - 0s 681us/step - loss: 0.0833 - acc: 1.0000 - val_loss: 1.2069 - val_acc: 0.6909\n",
      "Epoch 11/30\n",
      "306/306 [==============================] - 0s 614us/step - loss: 0.0781 - acc: 0.9967 - val_loss: 1.2255 - val_acc: 0.6909\n",
      "Epoch 12/30\n",
      "306/306 [==============================] - 0s 615us/step - loss: 0.0709 - acc: 1.0000 - val_loss: 1.2489 - val_acc: 0.6909\n",
      "Epoch 13/30\n",
      "306/306 [==============================] - 0s 668us/step - loss: 0.0666 - acc: 1.0000 - val_loss: 1.2424 - val_acc: 0.6909\n",
      "Epoch 14/30\n",
      "306/306 [==============================] - 0s 621us/step - loss: 0.0629 - acc: 1.0000 - val_loss: 1.2588 - val_acc: 0.6909\n",
      "Epoch 15/30\n",
      "306/306 [==============================] - 0s 615us/step - loss: 0.0580 - acc: 1.0000 - val_loss: 1.2666 - val_acc: 0.6909\n",
      "Epoch 16/30\n",
      "306/306 [==============================] - 0s 671us/step - loss: 0.0573 - acc: 1.0000 - val_loss: 1.2619 - val_acc: 0.6909\n",
      "Epoch 17/30\n",
      "306/306 [==============================] - 0s 625us/step - loss: 0.0523 - acc: 1.0000 - val_loss: 1.3040 - val_acc: 0.6909\n",
      "Epoch 18/30\n",
      "306/306 [==============================] - 0s 619us/step - loss: 0.0495 - acc: 1.0000 - val_loss: 1.2928 - val_acc: 0.6909\n",
      "Epoch 19/30\n",
      "306/306 [==============================] - 0s 638us/step - loss: 0.0461 - acc: 1.0000 - val_loss: 1.3027 - val_acc: 0.6909\n",
      "Epoch 20/30\n",
      "306/306 [==============================] - 0s 647us/step - loss: 0.0438 - acc: 1.0000 - val_loss: 1.2993 - val_acc: 0.6909\n",
      "Epoch 21/30\n",
      "306/306 [==============================] - 0s 585us/step - loss: 0.0417 - acc: 1.0000 - val_loss: 1.3157 - val_acc: 0.6909\n",
      "Epoch 22/30\n",
      "306/306 [==============================] - 0s 578us/step - loss: 0.0397 - acc: 1.0000 - val_loss: 1.3322 - val_acc: 0.6909\n",
      "Epoch 23/30\n",
      "306/306 [==============================] - 0s 623us/step - loss: 0.0374 - acc: 1.0000 - val_loss: 1.3362 - val_acc: 0.6909\n",
      "Epoch 24/30\n",
      "306/306 [==============================] - 0s 619us/step - loss: 0.0370 - acc: 1.0000 - val_loss: 1.3295 - val_acc: 0.6909\n",
      "Epoch 25/30\n",
      "306/306 [==============================] - 0s 610us/step - loss: 0.0347 - acc: 1.0000 - val_loss: 1.3582 - val_acc: 0.6909\n",
      "Epoch 26/30\n",
      "306/306 [==============================] - 0s 679us/step - loss: 0.0331 - acc: 1.0000 - val_loss: 1.3538 - val_acc: 0.6909\n",
      "Epoch 27/30\n",
      "306/306 [==============================] - 0s 638us/step - loss: 0.0310 - acc: 1.0000 - val_loss: 1.3562 - val_acc: 0.6909\n",
      "Epoch 28/30\n",
      "306/306 [==============================] - 0s 581us/step - loss: 0.0295 - acc: 1.0000 - val_loss: 1.3649 - val_acc: 0.6909\n",
      "Epoch 29/30\n",
      "306/306 [==============================] - 0s 552us/step - loss: 0.0278 - acc: 1.0000 - val_loss: 1.3806 - val_acc: 0.6909\n",
      "Epoch 30/30\n",
      "306/306 [==============================] - 0s 569us/step - loss: 0.0271 - acc: 1.0000 - val_loss: 1.3734 - val_acc: 0.6909\n",
      "Final accuracy on the training data is: 1.0\n",
      "Cross_Validating accuracy is: 0.6909090919928117\n"
     ]
    }
   ],
   "source": [
    "feeds=ganguly.fit(x=X_train_arr,y=y_train_arr,epochs=30,validation_data=(X_val_arr,y_val_arr))\n",
    "#print(feeds.history)\n",
    "print(\"Final accuracy on the training data is:\",feeds.history['acc'][-1]);\n",
    "print(\"Cross_Validating accuracy is:\",feeds.history['val_acc'][-1]);"
   ]
  },
  {
   "cell_type": "markdown",
   "metadata": {},
   "source": [
    "#Pretty decent training accuracy but let us save this model first and then try with increasing Perceptron heads"
   ]
  },
  {
   "cell_type": "code",
   "execution_count": 26,
   "metadata": {},
   "outputs": [],
   "source": [
    "ganguly.save('IIIT_D_ganguly_subpart_b.h5')"
   ]
  },
  {
   "cell_type": "code",
   "execution_count": 28,
   "metadata": {},
   "outputs": [
    {
     "name": "stderr",
     "output_type": "stream",
     "text": [
      "D:\\anaconda\\lib\\site-packages\\ipykernel_launcher.py:2: UserWarning: Update your `Conv2D` call to the Keras 2 API: `Conv2D(40, kernel_size=5, activation=\"relu\", input_shape=(50, 50, 1..., padding=\"same\")`\n",
      "  \n"
     ]
    },
    {
     "name": "stdout",
     "output_type": "stream",
     "text": [
      "Train on 306 samples, validate on 55 samples\n",
      "Epoch 1/30\n",
      "306/306 [==============================] - 1s 4ms/step - loss: 2.5016 - acc: 0.1209 - val_loss: 2.1533 - val_acc: 0.0727\n",
      "Epoch 2/30\n",
      "306/306 [==============================] - 0s 539us/step - loss: 2.0789 - acc: 0.2386 - val_loss: 2.0156 - val_acc: 0.3636\n",
      "Epoch 3/30\n",
      "306/306 [==============================] - 0s 554us/step - loss: 1.8577 - acc: 0.5850 - val_loss: 1.8275 - val_acc: 0.5455\n",
      "Epoch 4/30\n",
      "306/306 [==============================] - 0s 595us/step - loss: 1.5988 - acc: 0.6765 - val_loss: 1.7083 - val_acc: 0.4364\n",
      "Epoch 5/30\n",
      "306/306 [==============================] - 0s 689us/step - loss: 1.3650 - acc: 0.6634 - val_loss: 1.5066 - val_acc: 0.6000\n",
      "Epoch 6/30\n",
      "306/306 [==============================] - 0s 698us/step - loss: 1.1576 - acc: 0.7288 - val_loss: 1.4811 - val_acc: 0.5636\n",
      "Epoch 7/30\n",
      "306/306 [==============================] - 0s 674us/step - loss: 1.0248 - acc: 0.7582 - val_loss: 1.4242 - val_acc: 0.5455\n",
      "Epoch 8/30\n",
      "306/306 [==============================] - 0s 691us/step - loss: 0.9028 - acc: 0.7712 - val_loss: 1.3460 - val_acc: 0.5818\n",
      "Epoch 9/30\n",
      "306/306 [==============================] - 0s 726us/step - loss: 0.7743 - acc: 0.8203 - val_loss: 1.3327 - val_acc: 0.6000\n",
      "Epoch 10/30\n",
      "306/306 [==============================] - 0s 793us/step - loss: 0.6839 - acc: 0.8431 - val_loss: 1.2652 - val_acc: 0.6364\n",
      "Epoch 11/30\n",
      "306/306 [==============================] - 0s 757us/step - loss: 0.5997 - acc: 0.8595 - val_loss: 1.2436 - val_acc: 0.6182\n",
      "Epoch 12/30\n",
      "306/306 [==============================] - 0s 753us/step - loss: 0.5153 - acc: 0.8889 - val_loss: 1.2343 - val_acc: 0.6545\n",
      "Epoch 13/30\n",
      "306/306 [==============================] - 0s 700us/step - loss: 0.4440 - acc: 0.9216 - val_loss: 1.2593 - val_acc: 0.6000\n",
      "Epoch 14/30\n",
      "306/306 [==============================] - 0s 646us/step - loss: 0.4096 - acc: 0.9248 - val_loss: 1.1733 - val_acc: 0.6182\n",
      "Epoch 15/30\n",
      "306/306 [==============================] - 0s 688us/step - loss: 0.3721 - acc: 0.9379 - val_loss: 1.1989 - val_acc: 0.6545\n",
      "Epoch 16/30\n",
      "306/306 [==============================] - 0s 706us/step - loss: 0.3345 - acc: 0.9575 - val_loss: 1.2236 - val_acc: 0.6000\n",
      "Epoch 17/30\n",
      "306/306 [==============================] - 0s 692us/step - loss: 0.2928 - acc: 0.9575 - val_loss: 1.1904 - val_acc: 0.6727\n",
      "Epoch 18/30\n",
      "306/306 [==============================] - 0s 657us/step - loss: 0.2536 - acc: 0.9706 - val_loss: 1.2010 - val_acc: 0.6364\n",
      "Epoch 19/30\n",
      "306/306 [==============================] - 0s 688us/step - loss: 0.2289 - acc: 0.9608 - val_loss: 1.1812 - val_acc: 0.6545\n",
      "Epoch 20/30\n",
      "306/306 [==============================] - 0s 693us/step - loss: 0.2146 - acc: 0.9706 - val_loss: 1.2072 - val_acc: 0.6364\n",
      "Epoch 21/30\n",
      "306/306 [==============================] - 0s 671us/step - loss: 0.1821 - acc: 0.9902 - val_loss: 1.1984 - val_acc: 0.6364\n",
      "Epoch 22/30\n",
      "306/306 [==============================] - 0s 656us/step - loss: 0.1640 - acc: 0.9869 - val_loss: 1.2065 - val_acc: 0.6182\n",
      "Epoch 23/30\n",
      "306/306 [==============================] - 0s 681us/step - loss: 0.1454 - acc: 0.9935 - val_loss: 1.2544 - val_acc: 0.6364\n",
      "Epoch 24/30\n",
      "306/306 [==============================] - 0s 660us/step - loss: 0.1348 - acc: 0.9902 - val_loss: 1.2021 - val_acc: 0.6545\n",
      "Epoch 25/30\n",
      "306/306 [==============================] - 0s 646us/step - loss: 0.1200 - acc: 0.9967 - val_loss: 1.2399 - val_acc: 0.6364\n",
      "Epoch 26/30\n",
      "306/306 [==============================] - 0s 633us/step - loss: 0.1121 - acc: 0.9967 - val_loss: 1.2191 - val_acc: 0.6545\n",
      "Epoch 27/30\n",
      "306/306 [==============================] - 0s 688us/step - loss: 0.1002 - acc: 1.0000 - val_loss: 1.2416 - val_acc: 0.6545\n",
      "Epoch 28/30\n",
      "306/306 [==============================] - 0s 648us/step - loss: 0.0916 - acc: 0.9967 - val_loss: 1.2631 - val_acc: 0.6364\n",
      "Epoch 29/30\n",
      "306/306 [==============================] - 0s 634us/step - loss: 0.0880 - acc: 1.0000 - val_loss: 1.2609 - val_acc: 0.6545\n",
      "Epoch 30/30\n",
      "306/306 [==============================] - 0s 626us/step - loss: 0.0794 - acc: 1.0000 - val_loss: 1.2671 - val_acc: 0.6545\n",
      "Final accuracy on the training data is: 1.0\n",
      "Cross_Validating accuracy is: 0.6545454599640587\n"
     ]
    }
   ],
   "source": [
    "ganguly = Sequential()\n",
    "ganguly.add(Conv2D(40, kernel_size=5, activation='relu',border_mode='same', input_shape=(h,w,d)))\n",
    "ganguly.add(MaxPooling2D(pool_size=(2,2)))\n",
    "ganguly.add(Flatten())\n",
    "ganguly.add(Dense(10, activation='softmax'))\n",
    "ganguly.compile(loss='categorical_crossentropy',optimizer='adam',metrics=['accuracy'])\n",
    "feeds=ganguly.fit(x=X_train_arr,y=y_train_arr,epochs=30,validation_data=(X_val_arr,y_val_arr))\n",
    "#print(feeds.history)\n",
    "print(\"Final accuracy on the training data is:\",feeds.history['acc'][-1]);\n",
    "print(\"Cross_Validating accuracy is:\",feeds.history['val_acc'][-1]);"
   ]
  },
  {
   "cell_type": "raw",
   "metadata": {},
   "source": [
    "Our model is definitely not improving. Let us see with one more layer. After that we shall select the best model of all"
   ]
  },
  {
   "cell_type": "code",
   "execution_count": 30,
   "metadata": {},
   "outputs": [
    {
     "name": "stderr",
     "output_type": "stream",
     "text": [
      "D:\\anaconda\\lib\\site-packages\\ipykernel_launcher.py:2: UserWarning: Update your `Conv2D` call to the Keras 2 API: `Conv2D(20, kernel_size=5, activation=\"relu\", input_shape=(50, 50, 1..., padding=\"same\")`\n",
      "  \n",
      "D:\\anaconda\\lib\\site-packages\\ipykernel_launcher.py:4: UserWarning: Update your `Conv2D` call to the Keras 2 API: `Conv2D(20, kernel_size=5, activation=\"relu\", input_shape=(50, 50, 1..., padding=\"same\")`\n",
      "  after removing the cwd from sys.path.\n"
     ]
    },
    {
     "name": "stdout",
     "output_type": "stream",
     "text": [
      "Train on 306 samples, validate on 55 samples\n",
      "Epoch 1/50\n",
      "306/306 [==============================] - 1s 4ms/step - loss: 2.2781 - acc: 0.0882 - val_loss: 2.2255 - val_acc: 0.2000\n",
      "Epoch 2/50\n",
      "306/306 [==============================] - 0s 554us/step - loss: 2.2004 - acc: 0.1438 - val_loss: 2.1626 - val_acc: 0.1455\n",
      "Epoch 3/50\n",
      "306/306 [==============================] - 0s 569us/step - loss: 2.1043 - acc: 0.2647 - val_loss: 2.0402 - val_acc: 0.4182\n",
      "Epoch 4/50\n",
      "306/306 [==============================] - 0s 613us/step - loss: 2.0007 - acc: 0.3529 - val_loss: 1.9199 - val_acc: 0.4000\n",
      "Epoch 5/50\n",
      "306/306 [==============================] - 0s 699us/step - loss: 1.8087 - acc: 0.5000 - val_loss: 1.7007 - val_acc: 0.5091\n",
      "Epoch 6/50\n",
      "306/306 [==============================] - 0s 645us/step - loss: 1.5899 - acc: 0.5294 - val_loss: 1.4836 - val_acc: 0.5818\n",
      "Epoch 7/50\n",
      "306/306 [==============================] - 0s 707us/step - loss: 1.3332 - acc: 0.6601 - val_loss: 1.3966 - val_acc: 0.4909\n",
      "Epoch 8/50\n",
      "306/306 [==============================] - 0s 684us/step - loss: 1.1552 - acc: 0.6765 - val_loss: 1.2547 - val_acc: 0.5636\n",
      "Epoch 9/50\n",
      "306/306 [==============================] - 0s 656us/step - loss: 1.0235 - acc: 0.7059 - val_loss: 1.1338 - val_acc: 0.6364\n",
      "Epoch 10/50\n",
      "306/306 [==============================] - 0s 621us/step - loss: 0.8789 - acc: 0.7451 - val_loss: 1.2187 - val_acc: 0.5455\n",
      "Epoch 11/50\n",
      "306/306 [==============================] - 0s 633us/step - loss: 0.7952 - acc: 0.7549 - val_loss: 1.0891 - val_acc: 0.6545\n",
      "Epoch 12/50\n",
      "306/306 [==============================] - 0s 613us/step - loss: 0.6897 - acc: 0.7941 - val_loss: 1.0869 - val_acc: 0.6545\n",
      "Epoch 13/50\n",
      "306/306 [==============================] - 0s 618us/step - loss: 0.5908 - acc: 0.8399 - val_loss: 1.0401 - val_acc: 0.7273\n",
      "Epoch 14/50\n",
      "306/306 [==============================] - 0s 683us/step - loss: 0.5252 - acc: 0.8399 - val_loss: 1.1149 - val_acc: 0.6545\n",
      "Epoch 15/50\n",
      "306/306 [==============================] - 0s 677us/step - loss: 0.4601 - acc: 0.8693 - val_loss: 0.9760 - val_acc: 0.7091\n",
      "Epoch 16/50\n",
      "306/306 [==============================] - 0s 685us/step - loss: 0.4049 - acc: 0.8922 - val_loss: 0.9832 - val_acc: 0.7273\n",
      "Epoch 17/50\n",
      "306/306 [==============================] - 0s 673us/step - loss: 0.3233 - acc: 0.9216 - val_loss: 1.0042 - val_acc: 0.7455\n",
      "Epoch 18/50\n",
      "306/306 [==============================] - 0s 771us/step - loss: 0.2562 - acc: 0.9542 - val_loss: 1.0027 - val_acc: 0.7273\n",
      "Epoch 19/50\n",
      "306/306 [==============================] - 0s 680us/step - loss: 0.2355 - acc: 0.9510 - val_loss: 0.9815 - val_acc: 0.7273\n",
      "Epoch 20/50\n",
      "306/306 [==============================] - 0s 706us/step - loss: 0.2084 - acc: 0.9575 - val_loss: 0.9506 - val_acc: 0.7273\n",
      "Epoch 21/50\n",
      "306/306 [==============================] - 0s 688us/step - loss: 0.1708 - acc: 0.9837 - val_loss: 0.9718 - val_acc: 0.7091\n",
      "Epoch 22/50\n",
      "306/306 [==============================] - 0s 674us/step - loss: 0.1569 - acc: 0.9673 - val_loss: 1.0218 - val_acc: 0.7091\n",
      "Epoch 23/50\n",
      "306/306 [==============================] - 0s 666us/step - loss: 0.1185 - acc: 0.9837 - val_loss: 0.9875 - val_acc: 0.6727\n",
      "Epoch 24/50\n",
      "306/306 [==============================] - 0s 688us/step - loss: 0.1053 - acc: 0.9837 - val_loss: 1.0140 - val_acc: 0.7273\n",
      "Epoch 25/50\n",
      "306/306 [==============================] - 0s 696us/step - loss: 0.0924 - acc: 0.9902 - val_loss: 0.9840 - val_acc: 0.6909\n",
      "Epoch 26/50\n",
      "306/306 [==============================] - 0s 688us/step - loss: 0.0809 - acc: 0.9935 - val_loss: 0.9675 - val_acc: 0.7273\n",
      "Epoch 27/50\n",
      "306/306 [==============================] - 0s 651us/step - loss: 0.0700 - acc: 1.0000 - val_loss: 1.0168 - val_acc: 0.6727\n",
      "Epoch 28/50\n",
      "306/306 [==============================] - 0s 720us/step - loss: 0.0630 - acc: 0.9967 - val_loss: 0.9867 - val_acc: 0.7091\n",
      "Epoch 29/50\n",
      "306/306 [==============================] - 0s 684us/step - loss: 0.0499 - acc: 1.0000 - val_loss: 1.0069 - val_acc: 0.7091\n",
      "Epoch 30/50\n",
      "306/306 [==============================] - 0s 661us/step - loss: 0.0466 - acc: 1.0000 - val_loss: 0.9807 - val_acc: 0.6909\n",
      "Epoch 31/50\n",
      "306/306 [==============================] - 0s 688us/step - loss: 0.0379 - acc: 1.0000 - val_loss: 0.9774 - val_acc: 0.7091\n",
      "Epoch 32/50\n",
      "306/306 [==============================] - 0s 716us/step - loss: 0.0344 - acc: 1.0000 - val_loss: 1.0164 - val_acc: 0.6909\n",
      "Epoch 33/50\n",
      "306/306 [==============================] - 0s 695us/step - loss: 0.0311 - acc: 1.0000 - val_loss: 0.9890 - val_acc: 0.7273\n",
      "Epoch 34/50\n",
      "306/306 [==============================] - 0s 686us/step - loss: 0.0281 - acc: 1.0000 - val_loss: 1.0343 - val_acc: 0.7091\n",
      "Epoch 35/50\n",
      "306/306 [==============================] - 0s 714us/step - loss: 0.0249 - acc: 1.0000 - val_loss: 1.0053 - val_acc: 0.7455\n",
      "Epoch 36/50\n",
      "306/306 [==============================] - 0s 708us/step - loss: 0.0220 - acc: 1.0000 - val_loss: 1.0063 - val_acc: 0.7273\n",
      "Epoch 37/50\n",
      "306/306 [==============================] - 0s 667us/step - loss: 0.0217 - acc: 1.0000 - val_loss: 1.0294 - val_acc: 0.7091\n",
      "Epoch 38/50\n",
      "306/306 [==============================] - 0s 656us/step - loss: 0.0203 - acc: 1.0000 - val_loss: 1.0424 - val_acc: 0.7091\n",
      "Epoch 39/50\n",
      "306/306 [==============================] - 0s 644us/step - loss: 0.0189 - acc: 1.0000 - val_loss: 1.0368 - val_acc: 0.7636\n",
      "Epoch 40/50\n",
      "306/306 [==============================] - 0s 657us/step - loss: 0.0160 - acc: 1.0000 - val_loss: 1.0352 - val_acc: 0.7455\n",
      "Epoch 41/50\n",
      "306/306 [==============================] - 0s 747us/step - loss: 0.0142 - acc: 1.0000 - val_loss: 1.0503 - val_acc: 0.7455\n",
      "Epoch 42/50\n",
      "306/306 [==============================] - 0s 697us/step - loss: 0.0134 - acc: 1.0000 - val_loss: 1.0592 - val_acc: 0.7455\n",
      "Epoch 43/50\n",
      "306/306 [==============================] - 0s 709us/step - loss: 0.0120 - acc: 1.0000 - val_loss: 1.0520 - val_acc: 0.7818\n",
      "Epoch 44/50\n",
      "306/306 [==============================] - 0s 697us/step - loss: 0.0114 - acc: 1.0000 - val_loss: 1.0727 - val_acc: 0.7273\n",
      "Epoch 45/50\n",
      "306/306 [==============================] - 0s 711us/step - loss: 0.0104 - acc: 1.0000 - val_loss: 1.0718 - val_acc: 0.7455\n",
      "Epoch 46/50\n",
      "306/306 [==============================] - 0s 664us/step - loss: 0.0100 - acc: 1.0000 - val_loss: 1.0801 - val_acc: 0.7455\n",
      "Epoch 47/50\n",
      "306/306 [==============================] - 0s 670us/step - loss: 0.0092 - acc: 1.0000 - val_loss: 1.0917 - val_acc: 0.7455\n",
      "Epoch 48/50\n",
      "306/306 [==============================] - 0s 688us/step - loss: 0.0088 - acc: 1.0000 - val_loss: 1.0835 - val_acc: 0.7636\n",
      "Epoch 49/50\n",
      "306/306 [==============================] - 0s 689us/step - loss: 0.0086 - acc: 1.0000 - val_loss: 1.1007 - val_acc: 0.7455\n",
      "Epoch 50/50\n",
      "306/306 [==============================] - 0s 684us/step - loss: 0.0077 - acc: 1.0000 - val_loss: 1.1054 - val_acc: 0.7455\n",
      "Final accuracy on the training data is: 1.0\n",
      "Cross_Validating accuracy is: 0.7454545378684998\n"
     ]
    }
   ],
   "source": [
    "ganguly = Sequential()\n",
    "ganguly.add(Conv2D(20, kernel_size=5, activation='relu',border_mode='same', input_shape=(h,w,d)))\n",
    "ganguly.add(MaxPooling2D(pool_size=(2,2)))\n",
    "ganguly.add(Conv2D(20, kernel_size=5, activation='relu',border_mode='same', input_shape=(h,w,d)))\n",
    "ganguly.add(MaxPooling2D(pool_size=(2,2)))\n",
    "ganguly.add(Flatten())\n",
    "ganguly.add(Dense(10, activation='softmax'))\n",
    "ganguly.compile(loss='categorical_crossentropy',optimizer='adam',metrics=['accuracy'])\n",
    "feeds=ganguly.fit(x=X_train_arr,y=y_train_arr,epochs=50,validation_data=(X_val_arr,y_val_arr))\n",
    "#print(feeds.history)\n",
    "print(\"Final accuracy on the training data is:\",feeds.history['acc'][-1]);\n",
    "print(\"Cross_Validating accuracy is:\",feeds.history['val_acc'][-1]);"
   ]
  },
  {
   "cell_type": "markdown",
   "metadata": {},
   "source": [
    "This model as you can see in the intermediate steps has lead to overfitting. Like for example epoch 43 had validation accuracy 78%\n",
    "and in next epoch decreases to 72%. Then again a rise and this continues. So we discard this model but we see that it has seen some rise in validation accuracy hence we drop the epoch count here"
   ]
  },
  {
   "cell_type": "code",
   "execution_count": 36,
   "metadata": {},
   "outputs": [
    {
     "name": "stderr",
     "output_type": "stream",
     "text": [
      "D:\\anaconda\\lib\\site-packages\\ipykernel_launcher.py:2: UserWarning: Update your `Conv2D` call to the Keras 2 API: `Conv2D(20, kernel_size=5, activation=\"relu\", input_shape=(50, 50, 1..., padding=\"same\")`\n",
      "  \n",
      "D:\\anaconda\\lib\\site-packages\\ipykernel_launcher.py:4: UserWarning: Update your `Conv2D` call to the Keras 2 API: `Conv2D(20, kernel_size=5, activation=\"relu\", input_shape=(50, 50, 1..., padding=\"same\")`\n",
      "  after removing the cwd from sys.path.\n"
     ]
    },
    {
     "name": "stdout",
     "output_type": "stream",
     "text": [
      "Train on 306 samples, validate on 55 samples\n",
      "Epoch 1/20\n",
      "306/306 [==============================] - 2s 7ms/step - loss: 2.2554 - acc: 0.1144 - val_loss: 2.2037 - val_acc: 0.1636\n",
      "Epoch 2/20\n",
      "306/306 [==============================] - 0s 610us/step - loss: 2.1679 - acc: 0.1699 - val_loss: 2.1314 - val_acc: 0.3273\n",
      "Epoch 3/20\n",
      "306/306 [==============================] - 0s 631us/step - loss: 2.0630 - acc: 0.3497 - val_loss: 1.9950 - val_acc: 0.3818\n",
      "Epoch 4/20\n",
      "306/306 [==============================] - 0s 614us/step - loss: 1.8706 - acc: 0.4248 - val_loss: 1.7894 - val_acc: 0.4727\n",
      "Epoch 5/20\n",
      "306/306 [==============================] - 0s 620us/step - loss: 1.5937 - acc: 0.5621 - val_loss: 1.5775 - val_acc: 0.5091\n",
      "Epoch 6/20\n",
      "306/306 [==============================] - 0s 621us/step - loss: 1.3715 - acc: 0.5719 - val_loss: 1.4349 - val_acc: 0.5455\n",
      "Epoch 7/20\n",
      "306/306 [==============================] - 0s 619us/step - loss: 1.1737 - acc: 0.6438 - val_loss: 1.3489 - val_acc: 0.5818\n",
      "Epoch 8/20\n",
      "306/306 [==============================] - 0s 627us/step - loss: 0.9975 - acc: 0.7288 - val_loss: 1.1894 - val_acc: 0.6364\n",
      "Epoch 9/20\n",
      "306/306 [==============================] - 0s 667us/step - loss: 0.8418 - acc: 0.7418 - val_loss: 1.2743 - val_acc: 0.5273\n",
      "Epoch 10/20\n",
      "306/306 [==============================] - 0s 697us/step - loss: 0.7524 - acc: 0.7810 - val_loss: 1.1673 - val_acc: 0.6364\n",
      "Epoch 11/20\n",
      "306/306 [==============================] - 0s 669us/step - loss: 0.6655 - acc: 0.8039 - val_loss: 1.1534 - val_acc: 0.6909\n",
      "Epoch 12/20\n",
      "306/306 [==============================] - 0s 677us/step - loss: 0.5848 - acc: 0.8399 - val_loss: 1.1202 - val_acc: 0.6727\n",
      "Epoch 13/20\n",
      "306/306 [==============================] - 0s 740us/step - loss: 0.5354 - acc: 0.8464 - val_loss: 1.1466 - val_acc: 0.6545\n",
      "Epoch 14/20\n",
      "306/306 [==============================] - 0s 690us/step - loss: 0.4729 - acc: 0.8627 - val_loss: 1.1021 - val_acc: 0.6909\n",
      "Epoch 15/20\n",
      "306/306 [==============================] - 0s 663us/step - loss: 0.4093 - acc: 0.8889 - val_loss: 1.0995 - val_acc: 0.7273\n",
      "Epoch 16/20\n",
      "306/306 [==============================] - 0s 732us/step - loss: 0.3609 - acc: 0.8987 - val_loss: 1.1039 - val_acc: 0.6909\n",
      "Epoch 17/20\n",
      "306/306 [==============================] - 0s 672us/step - loss: 0.3163 - acc: 0.9052 - val_loss: 1.0530 - val_acc: 0.7091\n",
      "Epoch 18/20\n",
      "306/306 [==============================] - 0s 676us/step - loss: 0.2832 - acc: 0.9346 - val_loss: 1.0442 - val_acc: 0.7273\n",
      "Epoch 19/20\n",
      "306/306 [==============================] - 0s 730us/step - loss: 0.2501 - acc: 0.9444 - val_loss: 1.0715 - val_acc: 0.7455\n",
      "Epoch 20/20\n",
      "306/306 [==============================] - 0s 712us/step - loss: 0.2056 - acc: 0.9542 - val_loss: 1.0586 - val_acc: 0.7455\n",
      "Final accuracy on the training data is: 0.9542483644547806\n",
      "Cross_Validating accuracy is: 0.745454542203383\n"
     ]
    }
   ],
   "source": [
    "ganguly = Sequential()\n",
    "ganguly.add(Conv2D(20, kernel_size=5, activation='relu',border_mode='same', input_shape=(h,w,d)))\n",
    "ganguly.add(MaxPooling2D(pool_size=(2,2)))\n",
    "ganguly.add(Conv2D(20, kernel_size=5, activation='relu',border_mode='same', input_shape=(h,w,d)))\n",
    "ganguly.add(MaxPooling2D(pool_size=(2,2)))\n",
    "ganguly.add(Flatten())\n",
    "ganguly.add(Dense(10, activation='softmax'))\n",
    "ganguly.compile(loss='categorical_crossentropy',optimizer='adam',metrics=['accuracy'])\n",
    "feeds=ganguly.fit(x=X_train_arr,y=y_train_arr,epochs=20,validation_data=(X_val_arr,y_val_arr))\n",
    "#print(feeds.history)\n",
    "print(\"Final accuracy on the training data is:\",feeds.history['acc'][-1]);\n",
    "print(\"Cross_Validating accuracy is:\",feeds.history['val_acc'][-1]);"
   ]
  },
  {
   "cell_type": "raw",
   "metadata": {},
   "source": [
    "Perfect val_accuracy and no overfitting hence, this is the best one and we save this model"
   ]
  },
  {
   "cell_type": "code",
   "execution_count": 37,
   "metadata": {},
   "outputs": [],
   "source": [
    "ganguly.save('IIIT_D_ganguly_subpart_b.h5')"
   ]
  },
  {
   "cell_type": "markdown",
   "metadata": {},
   "source": [
    "# Now it is time for some analysis as to how efficient our model is working. Let us check with our previously loaded images"
   ]
  },
  {
   "cell_type": "code",
   "execution_count": 41,
   "metadata": {},
   "outputs": [
    {
     "name": "stdout",
     "output_type": "stream",
     "text": [
      "2 with accuracy of 0.90475285\n"
     ]
    },
    {
     "data": {
      "image/png": "[encoded data removed]",
      "text/plain": [
       "<Figure size 432x288 with 1 Axes>"
      ]
     },
     "metadata": {
      "needs_background": "light"
     },
     "output_type": "display_data"
    }
   ],
   "source": [
    "plt.imshow(img11,cmap=plt.cm.binary);\n",
    "img1=np.reshape((cv2.resize(img11,(50,50))),(50,50,1))\n",
    "predict=ganguly.predict(np.array([img1]))[0]\n",
    "acc=max(predict)\n",
    "val=np.argmax(predict)\n",
    "print(val,\"with accuracy of\",acc)\n",
    "plt.show()"
   ]
  },
  {
   "cell_type": "code",
   "execution_count": 42,
   "metadata": {},
   "outputs": [
    {
     "name": "stdout",
     "output_type": "stream",
     "text": [
      "0 with accuracy of 0.82503825\n"
     ]
    },
    {
     "data": {
      "image/png": "[encoded data removed]",
      "text/plain": [
       "<Figure size 432x288 with 1 Axes>"
      ]
     },
     "metadata": {
      "needs_background": "light"
     },
     "output_type": "display_data"
    }
   ],
   "source": [
    "plt.imshow(img12,cmap=plt.cm.binary);\n",
    "img1=np.reshape((cv2.resize(img12,(50,50))),(50,50,1))\n",
    "predict=ganguly.predict(np.array([img1]))[0]\n",
    "acc=max(predict)\n",
    "val=np.argmax(predict)\n",
    "print(val,\"with accuracy of\",acc)\n",
    "plt.show()"
   ]
  },
  {
   "cell_type": "code",
   "execution_count": 43,
   "metadata": {},
   "outputs": [
    {
     "name": "stdout",
     "output_type": "stream",
     "text": [
      "7 with accuracy of 0.990352\n"
     ]
    },
    {
     "data": {
      "image/png": "[encoded data removed]",
      "text/plain": [
       "<Figure size 432x288 with 1 Axes>"
      ]
     },
     "metadata": {
      "needs_background": "light"
     },
     "output_type": "display_data"
    }
   ],
   "source": [
    "plt.imshow(img13,cmap=plt.cm.binary);\n",
    "img1=np.reshape((cv2.resize(img13,(50,50))),(50,50,1))\n",
    "predict=ganguly.predict(np.array([img1]))[0]\n",
    "acc=max(predict)\n",
    "val=np.argmax(predict)\n",
    "print(val,\"with accuracy of\",acc)\n",
    "plt.show()"
   ]
  },
  {
   "cell_type": "code",
   "execution_count": 44,
   "metadata": {},
   "outputs": [
    {
     "name": "stdout",
     "output_type": "stream",
     "text": [
      "5 with accuracy of 0.95971423\n"
     ]
    },
    {
     "data": {
      "image/png": "[encoded data removed]",
      "text/plain": [
       "<Figure size 432x288 with 1 Axes>"
      ]
     },
     "metadata": {
      "needs_background": "light"
     },
     "output_type": "display_data"
    }
   ],
   "source": [
    "plt.imshow(img14,cmap=plt.cm.binary);\n",
    "img1=np.reshape((cv2.resize(img14,(50,50))),(50,50,1))\n",
    "predict=ganguly.predict(np.array([img1]))[0]\n",
    "acc=max(predict)\n",
    "val=np.argmax(predict)\n",
    "print(val,\"with accuracy of\",acc)\n",
    "plt.show()"
   ]
  },
  {
   "cell_type": "code",
   "execution_count": 45,
   "metadata": {},
   "outputs": [
    {
     "name": "stdout",
     "output_type": "stream",
     "text": [
      "5 with accuracy of 0.47427166\n"
     ]
    },
    {
     "data": {
      "image/png": "[encoded data removed]",
      "text/plain": [
       "<Figure size 432x288 with 1 Axes>"
      ]
     },
     "metadata": {
      "needs_background": "light"
     },
     "output_type": "display_data"
    }
   ],
   "source": [
    "plt.imshow(img15,cmap=plt.cm.binary);\n",
    "img1=np.reshape((cv2.resize(img15,(50,50))),(50,50,1))\n",
    "predict=ganguly.predict(np.array([img1]))[0]\n",
    "acc=max(predict)\n",
    "val=np.argmax(predict)\n",
    "print(val,\"with accuracy of\",acc)\n",
    "plt.show()"
   ]
  }
 ],
 "metadata": {
  "kernelspec": {
   "display_name": "Python 3",
   "language": "python",
   "name": "python3"
  },
  "language_info": {
   "codemirror_mode": {
    "name": "ipython",
    "version": 3
   },
   "file_extension": ".py",
   "mimetype": "text/x-python",
   "name": "python",
   "nbconvert_exporter": "python",
   "pygments_lexer": "ipython3",
   "version": "3.6.8"
  }
 },
 "nbformat": 4,
 "nbformat_minor": 2
}
